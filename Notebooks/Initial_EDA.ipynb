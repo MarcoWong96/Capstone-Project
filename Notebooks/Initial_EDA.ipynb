{
 "cells": [
  {
   "cell_type": "markdown",
   "id": "335dd5b2-501b-4f2d-b217-e320cc43dcd7",
   "metadata": {
    "tags": []
   },
   "source": [
    "# Exploratory Data Analysis\n",
    "\n",
    "#### Marco Wong\n",
    "#### November 11th, 2023"
   ]
  },
  {
   "cell_type": "markdown",
   "id": "e06769bf-f570-4a8f-931f-9e849afb4faf",
   "metadata": {
    "toc-hr-collapsed": true
   },
   "source": [
    "## Table of Contents\n",
    "\n",
    "[Datasets](#Datasets)\n",
    "\n",
    "[Data Cleaning](#Data-Cleaning)\n",
    "\n",
    "[EDA & Visualizations](#EDA-&-Visualizations)"
   ]
  },
  {
   "cell_type": "code",
   "execution_count": 1,
   "id": "339d2dad-f119-4f81-87b4-53019020b400",
   "metadata": {},
   "outputs": [],
   "source": [
    "# To check the dataframe encoding type\n",
    "import chardet\n",
    "\n",
    "# For general use\n",
    "import numpy as np\n",
    "import pandas as pd\n",
    "\n",
    "# For plotting purposes\n",
    "import plotly.express as px\n",
    "from plotly.subplots import make_subplots\n",
    "import plotly.graph_objs as go\n",
    "import matplotlib.pyplot as plt\n",
    "import seaborn as sns\n",
    "\n",
    "# Used for statistical analysis\n",
    "from statsmodels.api import tsa # time series analysis\n",
    "import statsmodels.api as sm"
   ]
  },
  {
   "cell_type": "markdown",
   "id": "167612cb-d91c-4cb1-8e4b-deb990470fa7",
   "metadata": {},
   "source": [
    "## Datasets"
   ]
  },
  {
   "cell_type": "markdown",
   "id": "eb48131a-2cd4-4267-b056-db0fd8c171cb",
   "metadata": {},
   "source": [
    "This project will use the following 4 datasets:\n",
    "\n",
    "> 1. **Player statistics in the season 2022-2023**\n",
    "> 2. **Player statistics in the season 2021-2022**\n",
    "> 3. **Player valuation, externally scraped from the website 'Transfermarkt'**\n",
    "> 4. **Player names and information, externally scraped from the website 'Transfermarkt'**\n",
    "\n",
    "The first two datasets contains information about each individual player in the top 5 leagues in each respective season: the first dataset for the season 2022 to 2023 and the second dataset for the season 2021 to 2022. This dataset contains specific characteristics, including player nationality, age, team, competition, and also in game statistics like passes made per 90, shots per game, matches played in the season. \n",
    "\n",
    "The third and fourth datasets will provide valuation of individual players for each season. It is important to consider the timeframe. Ideally, I would like the valuations, for the 2022 to 2023 season, to be at the end of that season. This valuation date should be in the summer of 2023. Likewise, the valuation date for the 2021 to 2022 season should be in the summer of 2022.\n",
    "\n",
    "These two datasets are scraped from Transfermarkt, a third party company, and the valuation is based on their own internal modelling system. This will used as the training data for my model. These two datasets are from a different dataset than the first two.\n",
    "\n",
    "In order to effectively model the players valuation, each dataset will be properly cleaned, and then appended together when required."
   ]
  },
  {
   "cell_type": "code",
   "execution_count": 2,
   "id": "c13d70f7-a6a1-462a-8ca1-0897c72894c7",
   "metadata": {
    "tags": []
   },
   "outputs": [
    {
     "name": "stdout",
     "output_type": "stream",
     "text": [
      "{'encoding': 'Windows-1252', 'confidence': 0.7293054919805775, 'language': ''}\n"
     ]
    }
   ],
   "source": [
    "# Checking the encoding type of this dataset due to errors from regular importing\n",
    "with open(\"data/2022-2023 Football Player Stats.csv\", 'rb') as f:\n",
    "    result = chardet.detect(f.read())\n",
    "\n",
    "print(result)"
   ]
  },
  {
   "cell_type": "code",
   "execution_count": 3,
   "id": "01d972c8-c731-4595-85a0-65700d4a8557",
   "metadata": {
    "tags": []
   },
   "outputs": [],
   "source": [
    "# Importing the data\n",
    "import_stats2023 = pd.read_csv(\"data/2022-2023 Football Player Stats.csv\", encoding = 'Windows-1252', delimiter = ';')\n",
    "import_stats2022 = pd.read_csv(\"data/2021-2022 Football Player Stats.csv\", encoding = 'Windows-1252', delimiter = ';')\n",
    "import_valuation = pd.read_csv(\"data/player_valuations.csv\")\n",
    "import_players = pd.read_csv(\"data/players.csv\")"
   ]
  },
  {
   "cell_type": "code",
   "execution_count": 4,
   "id": "8225472e-6621-47d6-88ac-5ef0a1328285",
   "metadata": {
    "tags": []
   },
   "outputs": [],
   "source": [
    "# Creating a copy\n",
    "player_stats2023 = import_stats2023.copy()\n",
    "player_stats2022 = import_stats2022.copy()\n",
    "player_valuation = import_valuation.copy()\n",
    "players = import_players.copy()"
   ]
  },
  {
   "cell_type": "markdown",
   "id": "01eec7cb-e23e-4258-879a-1e446a88b5cc",
   "metadata": {
    "tags": []
   },
   "source": [
    "## Data Cleaning\n"
   ]
  },
  {
   "cell_type": "markdown",
   "id": "2de22887-aa26-4bbf-9a74-db40bbc3d16a",
   "metadata": {
    "tags": []
   },
   "source": [
    "### Player Statistics Datasets"
   ]
  },
  {
   "cell_type": "markdown",
   "id": "2e01b338-d4b9-419d-83e2-60882f2c1ce1",
   "metadata": {},
   "source": [
    "#### First, we look at our `player_stats2023` table."
   ]
  },
  {
   "cell_type": "code",
   "execution_count": 5,
   "id": "f0818158-c976-4ced-bcc4-aeb2df04f1c5",
   "metadata": {
    "tags": []
   },
   "outputs": [
    {
     "data": {
      "text/html": [
       "<div>\n",
       "<style scoped>\n",
       "    .dataframe tbody tr th:only-of-type {\n",
       "        vertical-align: middle;\n",
       "    }\n",
       "\n",
       "    .dataframe tbody tr th {\n",
       "        vertical-align: top;\n",
       "    }\n",
       "\n",
       "    .dataframe thead th {\n",
       "        text-align: right;\n",
       "    }\n",
       "</style>\n",
       "<table border=\"1\" class=\"dataframe\">\n",
       "  <thead>\n",
       "    <tr style=\"text-align: right;\">\n",
       "      <th></th>\n",
       "      <th>Rk</th>\n",
       "      <th>Player</th>\n",
       "      <th>Nation</th>\n",
       "      <th>Pos</th>\n",
       "      <th>Squad</th>\n",
       "      <th>Comp</th>\n",
       "      <th>Age</th>\n",
       "      <th>Born</th>\n",
       "      <th>MP</th>\n",
       "      <th>Starts</th>\n",
       "      <th>...</th>\n",
       "      <th>Off</th>\n",
       "      <th>Crs</th>\n",
       "      <th>TklW</th>\n",
       "      <th>PKwon</th>\n",
       "      <th>PKcon</th>\n",
       "      <th>OG</th>\n",
       "      <th>Recov</th>\n",
       "      <th>AerWon</th>\n",
       "      <th>AerLost</th>\n",
       "      <th>AerWon%</th>\n",
       "    </tr>\n",
       "  </thead>\n",
       "  <tbody>\n",
       "    <tr>\n",
       "      <th>0</th>\n",
       "      <td>1</td>\n",
       "      <td>Brenden Aaronson</td>\n",
       "      <td>USA</td>\n",
       "      <td>MFFW</td>\n",
       "      <td>Leeds United</td>\n",
       "      <td>Premier League</td>\n",
       "      <td>22</td>\n",
       "      <td>2000</td>\n",
       "      <td>20</td>\n",
       "      <td>19</td>\n",
       "      <td>...</td>\n",
       "      <td>0.17</td>\n",
       "      <td>2.54</td>\n",
       "      <td>0.51</td>\n",
       "      <td>0.00</td>\n",
       "      <td>0.00</td>\n",
       "      <td>0.00</td>\n",
       "      <td>4.86</td>\n",
       "      <td>0.34</td>\n",
       "      <td>1.19</td>\n",
       "      <td>22.2</td>\n",
       "    </tr>\n",
       "    <tr>\n",
       "      <th>1</th>\n",
       "      <td>2</td>\n",
       "      <td>Yunis Abdelhamid</td>\n",
       "      <td>MAR</td>\n",
       "      <td>DF</td>\n",
       "      <td>Reims</td>\n",
       "      <td>Ligue 1</td>\n",
       "      <td>35</td>\n",
       "      <td>1987</td>\n",
       "      <td>22</td>\n",
       "      <td>22</td>\n",
       "      <td>...</td>\n",
       "      <td>0.05</td>\n",
       "      <td>0.18</td>\n",
       "      <td>1.59</td>\n",
       "      <td>0.00</td>\n",
       "      <td>0.00</td>\n",
       "      <td>0.00</td>\n",
       "      <td>6.64</td>\n",
       "      <td>2.18</td>\n",
       "      <td>1.23</td>\n",
       "      <td>64.0</td>\n",
       "    </tr>\n",
       "    <tr>\n",
       "      <th>2</th>\n",
       "      <td>3</td>\n",
       "      <td>Himad Abdelli</td>\n",
       "      <td>FRA</td>\n",
       "      <td>MFFW</td>\n",
       "      <td>Angers</td>\n",
       "      <td>Ligue 1</td>\n",
       "      <td>23</td>\n",
       "      <td>1999</td>\n",
       "      <td>14</td>\n",
       "      <td>8</td>\n",
       "      <td>...</td>\n",
       "      <td>0.00</td>\n",
       "      <td>1.05</td>\n",
       "      <td>1.40</td>\n",
       "      <td>0.00</td>\n",
       "      <td>0.00</td>\n",
       "      <td>0.00</td>\n",
       "      <td>8.14</td>\n",
       "      <td>0.93</td>\n",
       "      <td>1.05</td>\n",
       "      <td>47.1</td>\n",
       "    </tr>\n",
       "    <tr>\n",
       "      <th>3</th>\n",
       "      <td>4</td>\n",
       "      <td>Salis Abdul Samed</td>\n",
       "      <td>GHA</td>\n",
       "      <td>MF</td>\n",
       "      <td>Lens</td>\n",
       "      <td>Ligue 1</td>\n",
       "      <td>22</td>\n",
       "      <td>2000</td>\n",
       "      <td>20</td>\n",
       "      <td>20</td>\n",
       "      <td>...</td>\n",
       "      <td>0.00</td>\n",
       "      <td>0.35</td>\n",
       "      <td>0.80</td>\n",
       "      <td>0.00</td>\n",
       "      <td>0.00</td>\n",
       "      <td>0.05</td>\n",
       "      <td>6.60</td>\n",
       "      <td>0.50</td>\n",
       "      <td>0.50</td>\n",
       "      <td>50.0</td>\n",
       "    </tr>\n",
       "    <tr>\n",
       "      <th>4</th>\n",
       "      <td>5</td>\n",
       "      <td>Laurent Abergel</td>\n",
       "      <td>FRA</td>\n",
       "      <td>MF</td>\n",
       "      <td>Lorient</td>\n",
       "      <td>Ligue 1</td>\n",
       "      <td>30</td>\n",
       "      <td>1993</td>\n",
       "      <td>15</td>\n",
       "      <td>15</td>\n",
       "      <td>...</td>\n",
       "      <td>0.00</td>\n",
       "      <td>0.23</td>\n",
       "      <td>2.02</td>\n",
       "      <td>0.00</td>\n",
       "      <td>0.00</td>\n",
       "      <td>0.00</td>\n",
       "      <td>6.51</td>\n",
       "      <td>0.31</td>\n",
       "      <td>0.39</td>\n",
       "      <td>44.4</td>\n",
       "    </tr>\n",
       "    <tr>\n",
       "      <th>5</th>\n",
       "      <td>6</td>\n",
       "      <td>Oliver Abildgaard</td>\n",
       "      <td>DEN</td>\n",
       "      <td>MF</td>\n",
       "      <td>Hellas Verona</td>\n",
       "      <td>Serie A</td>\n",
       "      <td>26</td>\n",
       "      <td>1996</td>\n",
       "      <td>1</td>\n",
       "      <td>0</td>\n",
       "      <td>...</td>\n",
       "      <td>0.00</td>\n",
       "      <td>0.00</td>\n",
       "      <td>10.00</td>\n",
       "      <td>0.00</td>\n",
       "      <td>0.00</td>\n",
       "      <td>0.00</td>\n",
       "      <td>10.00</td>\n",
       "      <td>0.00</td>\n",
       "      <td>10.00</td>\n",
       "      <td>0.0</td>\n",
       "    </tr>\n",
       "    <tr>\n",
       "      <th>6</th>\n",
       "      <td>7</td>\n",
       "      <td>Matthis Abline</td>\n",
       "      <td>FRA</td>\n",
       "      <td>FWMF</td>\n",
       "      <td>Auxerre</td>\n",
       "      <td>Ligue 1</td>\n",
       "      <td>19</td>\n",
       "      <td>2003</td>\n",
       "      <td>5</td>\n",
       "      <td>2</td>\n",
       "      <td>...</td>\n",
       "      <td>0.48</td>\n",
       "      <td>0.95</td>\n",
       "      <td>0.48</td>\n",
       "      <td>0.00</td>\n",
       "      <td>0.00</td>\n",
       "      <td>0.00</td>\n",
       "      <td>0.48</td>\n",
       "      <td>1.43</td>\n",
       "      <td>1.43</td>\n",
       "      <td>50.0</td>\n",
       "    </tr>\n",
       "    <tr>\n",
       "      <th>7</th>\n",
       "      <td>8</td>\n",
       "      <td>Matthis Abline</td>\n",
       "      <td>FRA</td>\n",
       "      <td>FWMF</td>\n",
       "      <td>Rennes</td>\n",
       "      <td>Ligue 1</td>\n",
       "      <td>19</td>\n",
       "      <td>2003</td>\n",
       "      <td>11</td>\n",
       "      <td>0</td>\n",
       "      <td>...</td>\n",
       "      <td>0.83</td>\n",
       "      <td>1.67</td>\n",
       "      <td>0.83</td>\n",
       "      <td>0.83</td>\n",
       "      <td>0.00</td>\n",
       "      <td>0.00</td>\n",
       "      <td>1.67</td>\n",
       "      <td>0.83</td>\n",
       "      <td>3.33</td>\n",
       "      <td>20.0</td>\n",
       "    </tr>\n",
       "    <tr>\n",
       "      <th>8</th>\n",
       "      <td>9</td>\n",
       "      <td>Abner</td>\n",
       "      <td>BRA</td>\n",
       "      <td>DF</td>\n",
       "      <td>Betis</td>\n",
       "      <td>La Liga</td>\n",
       "      <td>22</td>\n",
       "      <td>2000</td>\n",
       "      <td>4</td>\n",
       "      <td>3</td>\n",
       "      <td>...</td>\n",
       "      <td>0.00</td>\n",
       "      <td>1.33</td>\n",
       "      <td>2.33</td>\n",
       "      <td>0.00</td>\n",
       "      <td>0.00</td>\n",
       "      <td>0.00</td>\n",
       "      <td>6.00</td>\n",
       "      <td>1.00</td>\n",
       "      <td>2.00</td>\n",
       "      <td>33.3</td>\n",
       "    </tr>\n",
       "    <tr>\n",
       "      <th>9</th>\n",
       "      <td>10</td>\n",
       "      <td>Zakaria Aboukhlal</td>\n",
       "      <td>MAR</td>\n",
       "      <td>FWMF</td>\n",
       "      <td>Toulouse</td>\n",
       "      <td>Ligue 1</td>\n",
       "      <td>22</td>\n",
       "      <td>2000</td>\n",
       "      <td>22</td>\n",
       "      <td>17</td>\n",
       "      <td>...</td>\n",
       "      <td>0.72</td>\n",
       "      <td>0.96</td>\n",
       "      <td>0.72</td>\n",
       "      <td>0.00</td>\n",
       "      <td>0.00</td>\n",
       "      <td>0.00</td>\n",
       "      <td>4.43</td>\n",
       "      <td>0.42</td>\n",
       "      <td>1.32</td>\n",
       "      <td>24.1</td>\n",
       "    </tr>\n",
       "    <tr>\n",
       "      <th>10</th>\n",
       "      <td>11</td>\n",
       "      <td>Tammy Abraham</td>\n",
       "      <td>ENG</td>\n",
       "      <td>FW</td>\n",
       "      <td>Roma</td>\n",
       "      <td>Serie A</td>\n",
       "      <td>25</td>\n",
       "      <td>1997</td>\n",
       "      <td>22</td>\n",
       "      <td>18</td>\n",
       "      <td>...</td>\n",
       "      <td>0.51</td>\n",
       "      <td>0.28</td>\n",
       "      <td>0.40</td>\n",
       "      <td>0.06</td>\n",
       "      <td>0.00</td>\n",
       "      <td>0.00</td>\n",
       "      <td>1.87</td>\n",
       "      <td>2.56</td>\n",
       "      <td>2.39</td>\n",
       "      <td>51.7</td>\n",
       "    </tr>\n",
       "    <tr>\n",
       "      <th>11</th>\n",
       "      <td>12</td>\n",
       "      <td>Francesco Acerbi</td>\n",
       "      <td>ITA</td>\n",
       "      <td>DF</td>\n",
       "      <td>Inter</td>\n",
       "      <td>Serie A</td>\n",
       "      <td>35</td>\n",
       "      <td>1988</td>\n",
       "      <td>14</td>\n",
       "      <td>12</td>\n",
       "      <td>...</td>\n",
       "      <td>0.08</td>\n",
       "      <td>0.24</td>\n",
       "      <td>0.57</td>\n",
       "      <td>0.00</td>\n",
       "      <td>0.00</td>\n",
       "      <td>0.00</td>\n",
       "      <td>4.96</td>\n",
       "      <td>2.76</td>\n",
       "      <td>1.63</td>\n",
       "      <td>63.0</td>\n",
       "    </tr>\n",
       "    <tr>\n",
       "      <th>12</th>\n",
       "      <td>13</td>\n",
       "      <td>Mohamed Achi</td>\n",
       "      <td>FRA</td>\n",
       "      <td>FW</td>\n",
       "      <td>Nantes</td>\n",
       "      <td>Ligue 1</td>\n",
       "      <td>21</td>\n",
       "      <td>2002</td>\n",
       "      <td>2</td>\n",
       "      <td>0</td>\n",
       "      <td>...</td>\n",
       "      <td>0.00</td>\n",
       "      <td>2.50</td>\n",
       "      <td>2.50</td>\n",
       "      <td>0.00</td>\n",
       "      <td>0.00</td>\n",
       "      <td>0.00</td>\n",
       "      <td>5.00</td>\n",
       "      <td>0.00</td>\n",
       "      <td>0.00</td>\n",
       "      <td>0.0</td>\n",
       "    </tr>\n",
       "    <tr>\n",
       "      <th>13</th>\n",
       "      <td>14</td>\n",
       "      <td>Marcos Acuña</td>\n",
       "      <td>ARG</td>\n",
       "      <td>DF</td>\n",
       "      <td>Sevilla</td>\n",
       "      <td>La Liga</td>\n",
       "      <td>31</td>\n",
       "      <td>1991</td>\n",
       "      <td>16</td>\n",
       "      <td>12</td>\n",
       "      <td>...</td>\n",
       "      <td>0.09</td>\n",
       "      <td>7.61</td>\n",
       "      <td>1.74</td>\n",
       "      <td>0.00</td>\n",
       "      <td>0.09</td>\n",
       "      <td>0.00</td>\n",
       "      <td>7.52</td>\n",
       "      <td>1.19</td>\n",
       "      <td>0.92</td>\n",
       "      <td>56.5</td>\n",
       "    </tr>\n",
       "    <tr>\n",
       "      <th>14</th>\n",
       "      <td>15</td>\n",
       "      <td>Che Adams</td>\n",
       "      <td>SCO</td>\n",
       "      <td>FW</td>\n",
       "      <td>Southampton</td>\n",
       "      <td>Premier League</td>\n",
       "      <td>26</td>\n",
       "      <td>1996</td>\n",
       "      <td>21</td>\n",
       "      <td>18</td>\n",
       "      <td>...</td>\n",
       "      <td>0.40</td>\n",
       "      <td>0.51</td>\n",
       "      <td>0.69</td>\n",
       "      <td>0.00</td>\n",
       "      <td>0.00</td>\n",
       "      <td>0.00</td>\n",
       "      <td>2.29</td>\n",
       "      <td>2.97</td>\n",
       "      <td>5.03</td>\n",
       "      <td>37.1</td>\n",
       "    </tr>\n",
       "  </tbody>\n",
       "</table>\n",
       "<p>15 rows × 124 columns</p>\n",
       "</div>"
      ],
      "text/plain": [
       "    Rk             Player Nation   Pos          Squad            Comp  Age  \\\n",
       "0    1   Brenden Aaronson    USA  MFFW   Leeds United  Premier League   22   \n",
       "1    2   Yunis Abdelhamid    MAR    DF          Reims         Ligue 1   35   \n",
       "2    3      Himad Abdelli    FRA  MFFW         Angers         Ligue 1   23   \n",
       "3    4  Salis Abdul Samed    GHA    MF           Lens         Ligue 1   22   \n",
       "4    5    Laurent Abergel    FRA    MF        Lorient         Ligue 1   30   \n",
       "5    6  Oliver Abildgaard    DEN    MF  Hellas Verona         Serie A   26   \n",
       "6    7     Matthis Abline    FRA  FWMF        Auxerre         Ligue 1   19   \n",
       "7    8     Matthis Abline    FRA  FWMF         Rennes         Ligue 1   19   \n",
       "8    9              Abner    BRA    DF          Betis         La Liga   22   \n",
       "9   10  Zakaria Aboukhlal    MAR  FWMF       Toulouse         Ligue 1   22   \n",
       "10  11      Tammy Abraham    ENG    FW           Roma         Serie A   25   \n",
       "11  12   Francesco Acerbi    ITA    DF          Inter         Serie A   35   \n",
       "12  13       Mohamed Achi    FRA    FW         Nantes         Ligue 1   21   \n",
       "13  14       Marcos Acuña    ARG    DF        Sevilla         La Liga   31   \n",
       "14  15          Che Adams    SCO    FW    Southampton  Premier League   26   \n",
       "\n",
       "    Born  MP  Starts  ...   Off   Crs   TklW  PKwon  PKcon    OG  Recov  \\\n",
       "0   2000  20      19  ...  0.17  2.54   0.51   0.00   0.00  0.00   4.86   \n",
       "1   1987  22      22  ...  0.05  0.18   1.59   0.00   0.00  0.00   6.64   \n",
       "2   1999  14       8  ...  0.00  1.05   1.40   0.00   0.00  0.00   8.14   \n",
       "3   2000  20      20  ...  0.00  0.35   0.80   0.00   0.00  0.05   6.60   \n",
       "4   1993  15      15  ...  0.00  0.23   2.02   0.00   0.00  0.00   6.51   \n",
       "5   1996   1       0  ...  0.00  0.00  10.00   0.00   0.00  0.00  10.00   \n",
       "6   2003   5       2  ...  0.48  0.95   0.48   0.00   0.00  0.00   0.48   \n",
       "7   2003  11       0  ...  0.83  1.67   0.83   0.83   0.00  0.00   1.67   \n",
       "8   2000   4       3  ...  0.00  1.33   2.33   0.00   0.00  0.00   6.00   \n",
       "9   2000  22      17  ...  0.72  0.96   0.72   0.00   0.00  0.00   4.43   \n",
       "10  1997  22      18  ...  0.51  0.28   0.40   0.06   0.00  0.00   1.87   \n",
       "11  1988  14      12  ...  0.08  0.24   0.57   0.00   0.00  0.00   4.96   \n",
       "12  2002   2       0  ...  0.00  2.50   2.50   0.00   0.00  0.00   5.00   \n",
       "13  1991  16      12  ...  0.09  7.61   1.74   0.00   0.09  0.00   7.52   \n",
       "14  1996  21      18  ...  0.40  0.51   0.69   0.00   0.00  0.00   2.29   \n",
       "\n",
       "    AerWon  AerLost  AerWon%  \n",
       "0     0.34     1.19     22.2  \n",
       "1     2.18     1.23     64.0  \n",
       "2     0.93     1.05     47.1  \n",
       "3     0.50     0.50     50.0  \n",
       "4     0.31     0.39     44.4  \n",
       "5     0.00    10.00      0.0  \n",
       "6     1.43     1.43     50.0  \n",
       "7     0.83     3.33     20.0  \n",
       "8     1.00     2.00     33.3  \n",
       "9     0.42     1.32     24.1  \n",
       "10    2.56     2.39     51.7  \n",
       "11    2.76     1.63     63.0  \n",
       "12    0.00     0.00      0.0  \n",
       "13    1.19     0.92     56.5  \n",
       "14    2.97     5.03     37.1  \n",
       "\n",
       "[15 rows x 124 columns]"
      ]
     },
     "execution_count": 5,
     "metadata": {},
     "output_type": "execute_result"
    }
   ],
   "source": [
    "player_stats2023.head(15)"
   ]
  },
  {
   "cell_type": "code",
   "execution_count": 6,
   "id": "f16a8d06-25d5-4d23-adeb-36e3b6ceaf33",
   "metadata": {
    "tags": []
   },
   "outputs": [
    {
     "name": "stdout",
     "output_type": "stream",
     "text": [
      "<class 'pandas.core.frame.DataFrame'>\n",
      "RangeIndex: 2689 entries, 0 to 2688\n",
      "Columns: 124 entries, Rk to AerWon%\n",
      "dtypes: float64(112), int64(7), object(5)\n",
      "memory usage: 2.5+ MB\n"
     ]
    }
   ],
   "source": [
    "player_stats2023.info()"
   ]
  },
  {
   "cell_type": "code",
   "execution_count": 7,
   "id": "f0c17dec-752b-414d-94e3-794545bc5f74",
   "metadata": {
    "tags": []
   },
   "outputs": [
    {
     "data": {
      "text/plain": [
       "Index(['Player', 'Nation', 'Pos', 'Squad', 'Comp'], dtype='object')"
      ]
     },
     "execution_count": 7,
     "metadata": {},
     "output_type": "execute_result"
    }
   ],
   "source": [
    "# Checking our categorical variables\n",
    "player_stats2023.columns[player_stats2023.dtypes == 'object']"
   ]
  },
  {
   "cell_type": "code",
   "execution_count": 8,
   "id": "9b3854e5-65a7-494b-a2b6-11c8d261f754",
   "metadata": {
    "tags": []
   },
   "outputs": [
    {
     "data": {
      "text/plain": [
       "Index(['Rk', 'Age', 'Born', 'MP', 'Starts', 'Min', 'Goals'], dtype='object')"
      ]
     },
     "execution_count": 8,
     "metadata": {},
     "output_type": "execute_result"
    }
   ],
   "source": [
    "# Checking our columns with data type integer to see if we need to convert to categorical variables.\n",
    "player_stats2023.columns[player_stats2023.dtypes == 'int64']"
   ]
  },
  {
   "cell_type": "markdown",
   "id": "0e901305-bcae-424a-9f7f-50bad3de85ef",
   "metadata": {},
   "source": [
    "This dataset has 2689 entries - which means there are 2689 players listed. This sounds intuitively correct as each league has aorund 20 teams, and each team has 25 to 30 players. A rough estimate shows that each league should have 500 (20 x 25) to 600 (20 x 30) players. If we multiple that by 5 (the number of leagues in the dataset), we should "
   ]
  },
  {
   "cell_type": "code",
   "execution_count": 9,
   "id": "f2b7f058-02dc-43f1-b883-9b259feb6f47",
   "metadata": {
    "tags": []
   },
   "outputs": [
    {
     "data": {
      "text/plain": [
       "Index(['Rk', 'Player', 'Nation', 'Pos', 'Squad', 'Comp', 'Age', 'Born', 'MP',\n",
       "       'Starts', 'Min', '90s', 'Goals', 'Shots', 'SoT'],\n",
       "      dtype='object')"
      ]
     },
     "execution_count": 9,
     "metadata": {},
     "output_type": "execute_result"
    }
   ],
   "source": [
    "player_stats2023.columns[:15]"
   ]
  },
  {
   "cell_type": "code",
   "execution_count": 10,
   "id": "470cf38d-6585-423c-b3e7-f478cfa6b198",
   "metadata": {
    "tags": []
   },
   "outputs": [
    {
     "data": {
      "text/plain": [
       "Index(['OG', 'Recov', 'AerWon', 'AerLost', 'AerWon%'], dtype='object')"
      ]
     },
     "execution_count": 10,
     "metadata": {},
     "output_type": "execute_result"
    }
   ],
   "source": [
    "player_stats2023.columns[-5:]"
   ]
  },
  {
   "cell_type": "code",
   "execution_count": 11,
   "id": "081e2c4c-b67e-4854-8e87-5f109d29d6fd",
   "metadata": {
    "tags": []
   },
   "outputs": [
    {
     "name": "stdout",
     "output_type": "stream",
     "text": [
      "['Rk', 'Player', 'Nation', 'Pos', 'Squad', 'Comp', 'Age', 'Born', 'MP', 'Starts', 'Min', '90s', 'Goals', 'Shots', 'SoT', 'SoT%', 'G/Sh', 'G/SoT', 'ShoDist', 'ShoFK', 'ShoPK', 'PKatt', 'PasTotCmp', 'PasTotAtt', 'PasTotCmp%', 'PasTotDist', 'PasTotPrgDist', 'PasShoCmp', 'PasShoAtt', 'PasShoCmp%', 'PasMedCmp', 'PasMedAtt', 'PasMedCmp%', 'PasLonCmp', 'PasLonAtt', 'PasLonCmp%', 'Assists', 'PasAss', 'Pas3rd', 'PPA', 'CrsPA', 'PasProg', 'PasAtt', 'PasLive', 'PasDead', 'PasFK', 'TB', 'Sw', 'PasCrs', 'TI', 'CK', 'CkIn', 'CkOut', 'CkStr', 'PasCmp', 'PasOff', 'PasBlocks', 'SCA', 'ScaPassLive', 'ScaPassDead', 'ScaDrib', 'ScaSh', 'ScaFld', 'ScaDef', 'GCA', 'GcaPassLive', 'GcaPassDead', 'GcaDrib', 'GcaSh', 'GcaFld', 'GcaDef', 'Tkl', 'TklWon', 'TklDef3rd', 'TklMid3rd', 'TklAtt3rd', 'TklDri', 'TklDriAtt', 'TklDri%', 'TklDriPast', 'Blocks', 'BlkSh', 'BlkPass', 'Int', 'Tkl+Int', 'Clr', 'Err', 'Touches', 'TouDefPen', 'TouDef3rd', 'TouMid3rd', 'TouAtt3rd', 'TouAttPen', 'TouLive', 'ToAtt', 'ToSuc', 'ToSuc%', 'ToTkl', 'ToTkl%', 'Carries', 'CarTotDist', 'CarPrgDist', 'CarProg', 'Car3rd', 'CPA', 'CarMis', 'CarDis', 'Rec', 'RecProg', 'CrdY', 'CrdR', '2CrdY', 'Fls', 'Fld', 'Off', 'Crs', 'TklW', 'PKwon', 'PKcon', 'OG', 'Recov', 'AerWon', 'AerLost', 'AerWon%']\n"
     ]
    }
   ],
   "source": [
    "print(player_stats2023.columns.tolist())"
   ]
  },
  {
   "cell_type": "markdown",
   "id": "a4899e2c-d133-46f7-a60a-6137da21df47",
   "metadata": {},
   "source": [
    "Note that there are 124 columns in this dataset, with 112 as float datatypes, 7 as integers and 5 as objects. The first 8 columns show descriptive information about the player. These are mainly categorical columns.\n",
    "\n",
    "This dataset has many numeric columns which each attribute to an individual metric. As an example, we can see the last 5 columns are all player statistics, which is shown in the 'per 90' format.\n",
    "\n",
    "Below is a comprehensive list provided by the dataset creators, explaining the meaning of each column:"
   ]
  },
  {
   "cell_type": "markdown",
   "id": "68bb155b-11c4-41f6-bc7b-a518a190dafd",
   "metadata": {
    "tags": []
   },
   "source": [
    "- **Rk**: Rank\n",
    "- **Player**: Player's name\n",
    "- **Nation**: Player's nation\n",
    "- **Pos**: Position\n",
    "- **Squad**: Squad’s name\n",
    "- **Comp**: League that squad occupies\n",
    "- **Age**: Player's age\n",
    "- **Born**: Year of birth\n",
    "- **MP**: Matches played\n",
    "- **Starts**: Matches started\n",
    "- **Min**: Minutes played\n",
    "- **90s**: Minutes played divided by 90\n",
    "- **Goals**: Goals scored or allowed\n",
    "- **Shots**: Shots total (Does not include penalty kicks)\n",
    "- **SoT**: Shots on target (Does not include penalty kicks)\n",
    "- **SoT%**: Shots on target percentage (Does not include penalty kicks)\n",
    "- **G/Sh**: Goals per shot\n",
    "- **G/SoT**: Goals per shot on target (Does not include penalty kicks)\n",
    "- **ShoDist**: Average distance, in yards, from goal of all shots taken (Does not include penalty kicks)\n",
    "- **ShoFK**: Shots from free kicks\n",
    "- **ShoPK**: Penalty kicks made\n",
    "- **PKatt**: Penalty kicks attempted\n",
    "- **PasTotCmp**: Passes completed\n",
    "- **PasTotAtt**: Passes attempted\n",
    "- **PasTotCmp%**: Pass completion percentage\n",
    "- **PasTotDist**: Total distance, in yards, that completed passes have traveled in any direction\n",
    "- **PasTotPrgDist**: Total distance, in yards, that completed passes have traveled towards the opponent's goal\n",
    "- **PasShoCmp**: Passes completed (Passes between 5 and 15 yards)\n",
    "- **PasShoAtt**: Passes attempted (Passes between 5 and 15 yards)\n",
    "- **PasShoCmp%**: Pass completion percentage (Passes between 5 and 15 yards)\n",
    "- **PasMedCmp**: Passes completed (Passes between 15 and 30 yards)\n",
    "- **PasMedAtt**: Passes attempted (Passes between 15 and 30 yards)\n",
    "- **PasMedCmp%**: Pass completion percentage (Passes between 15 and 30 yards)\n",
    "- **PasLonCmp**: Passes completed (Passes longer than 30 yards)\n",
    "- **PasLonAtt**: Passes attempted (Passes longer than 30 yards)\n",
    "- **PasLonCmp%**: Pass completion percentage (Passes longer than 30 yards)\n",
    "- **Assists**: Assists\n",
    "- **PasAss**: Passes that directly lead to a shot (assisted shots)\n",
    "- **Pas3rd**: Completed passes that enter the 1/3 of the pitch closest to the goal\n",
    "- **PPA**: Completed passes into the 18-yard box\n",
    "- **CrsPA**: Completed crosses into the 18-yard box\n",
    "- **PasProg**: Completed passes that move the ball towards the opponent's goal at least 10 yards from its furthest point in the last six passes, or any completed pass into the penalty area\n",
    "- **PasAtt**: Passes attempted\n",
    "- **PasLive**: Live-ball passes\n",
    "- **PasDead**: Dead-ball passes\n",
    "- **PasFK**: Passes attempted from free kicks\n",
    "- **TB**: Completed pass sent between back defenders into open space\n",
    "- **Sw**: Passes that travel more than 40 yards of the width of the pitch\n",
    "- **PasCrs**: Crosses\n",
    "- **TI**: Throw-Ins taken\n",
    "- **CK**: Corner kicks\n",
    "- **CkIn**: Inswinging corner kicks\n",
    "- **CkOut**: Outswinging corner kicks\n",
    "- **CkStr**: Straight corner kicks\n",
    "- **PasCmp**: Passes completed\n",
    "- **PasOff**: Offsides\n",
    "- **PasBlocks**: Blocked by the opponent who was standing it the path\n",
    "- **SCA**: Shot-creating actions\n",
    "- **ScaPassLive**: Completed live-ball passes that lead to a shot attempt\n",
    "- **ScaPassDead**: Completed dead-ball passes that lead to a shot attempt\n",
    "- **ScaDrib**: Successful dribbles that lead to a shot attempt\n",
    "- **ScaSh**: Shots that lead to another shot attempt\n",
    "- **ScaFld**: Fouls drawn that lead to a shot attempt\n",
    "- **ScaDef**: Defensive actions that lead to a shot attempt\n",
    "- **GCA**: Goal-creating actions\n",
    "- **GcaPassLive**: Completed live-ball passes that lead to a goal\n",
    "- **GcaPassDead**: Completed dead-ball passes that lead to a goal\n",
    "- **GcaDrib**: Successful dribbles that lead to a goal\n",
    "- **GcaSh**: Shots that lead to another goal-scoring shot\n",
    "- **GcaFld**: Fouls drawn that lead to a goal\n",
    "- **GcaDef**: Defensive actions that lead to a goal\n",
    "- **Tkl**: Number of players tackled\n",
    "- **TklWon**: Tackles in which the tackler's team won possession of the ball\n",
    "- **TklDef3rd**: Tackles in defensive 1/3\n",
    "- **TklMid3rd**: Tackles in middle 1/3\n",
    "- **TklAtt3rd**: Tackles in attacking 1/3\n",
    "- **TklDri**: Number of dribblers tackled\n",
    "- **TklDriAtt**: Number of times dribbled past plus number of tackles\n",
    "- **TklDri%**: Percentage of dribblers tackled\n",
    "- **TklDriPast**: Number of times dribbled past by an opposing player\n",
    "- **Blocks**: Number of times blocking the ball by standing in its path\n",
    "- **BlkSh**: Number of times blocking a shot by standing in its path\n",
    "- **BlkPass**: Number of times blocking a pass by standing in its path\n",
    "- **Int**: Interceptions\n",
    "- **Tkl+Int**: Number of players tackled plus number of interceptions\n",
    "- **Clr**: Clearances\n",
    "- **Err**: Mistakes leading to an opponent's shot\n",
    "- **Touches**: Number of times a player touched the ball. Note: Receiving a pass, then dribbling, then sending a pass counts as one touch\n",
    "- **TouDefPen**: Touches in defensive penalty area\n",
    "- **TouDef3rd**: Touches in defensive 1/3\n",
    "- **TouMid3rd**: Touches in middle 1/3\n",
    "- **TouAtt3rd**: Touches in attacking 1/3\n",
    "- **TouAttPen**: Touches in attacking penalty area\n",
    "- **TouLive**: Live-ball touches. Does not include corner kicks, free kicks, throw-ins, kick-offs, goal kicks or penalty kicks.\n",
    "- **ToAtt**: Number of attempts to take on defenders while dribbling\n",
    "- **ToSuc**: Number of defenders taken on successfully, by dribbling past them\n",
    "- **ToSuc%**: Percentage of take-ons Completed Successfully\n",
    "- **ToTkl**: Number of times tackled by a defender during a take-on attempt\n",
    "- **ToTkl%**: Percentage of time tackled by a defender during a take-on attempt\n",
    "- **Carries**: Number of times the player controlled the ball with their feet\n",
    "- **CarTotDist**: Total distance, in yards, a player moved the ball while controlling it with their feet, in any direction\n",
    "- **CarPrgDist**: Total distance, in yards, a player moved the ball while controlling it with their feet towards the opponent's goal\n",
    "- **CarProg**: Carries that move the ball towards the opponent's goal at least 5 yards, or any carry into the penalty area\n",
    "- **Car3rd**: Carries that enter the 1/3 of the pitch closest to the goal\n",
    "- **CPA**: Carries into the 18-yard box\n",
    "- **CarMis**: Number of times a player failed when attempting to gain control of a ball\n",
    "- **CarDis**: Number of times a player loses control of the ball after being tackled by an opposing player\n",
    "- **Rec**: Number of times a player successfully received a pass\n",
    "- **RecProg**: Completed passes that move the ball towards the opponent's goal at least 10 yards from its furthest point in the last six passes, or any completed pass into the penalty area\n",
    "- **CrdY**: Yellow cards\n",
    "- **CrdR**: Red cards\n",
    "- **2CrdY**: Second yellow card\n",
    "- **Fls**: Fouls committed\n",
    "- **Fld**: Fouls drawn\n",
    "- **Off**: Offsides\n",
    "- **Crs**: Crosses\n",
    "- **TklW**: Tackles in which the tackler's team won possession of the ball\n",
    "- **PKwon**: Penalty kicks won\n",
    "- **PKcon**: Penalty kicks conceded\n",
    "- **OG**: Own goals\n",
    "- **Recov**: Number of loose balls recovered\n",
    "- **AerWon**: Aerials won\n",
    "- **AerLost**: Aerials lost\n",
    "- **AerWon%**: Percentage of aerials won\n"
   ]
  },
  {
   "cell_type": "markdown",
   "id": "68464391-44d2-45a5-81e8-17992e5cf32f",
   "metadata": {},
   "source": [
    "#### Duplicate columns and rows"
   ]
  },
  {
   "cell_type": "markdown",
   "id": "f633c860-32ee-48bf-bf4b-c912ba2ec460",
   "metadata": {},
   "source": [
    "First, let's check for duplicate columns to make sure that each colum contains unique information."
   ]
  },
  {
   "cell_type": "code",
   "execution_count": 12,
   "id": "e1e16e70-8065-4a6e-a5dc-3e956b43e625",
   "metadata": {},
   "outputs": [
    {
     "data": {
      "text/html": [
       "<div>\n",
       "<style scoped>\n",
       "    .dataframe tbody tr th:only-of-type {\n",
       "        vertical-align: middle;\n",
       "    }\n",
       "\n",
       "    .dataframe tbody tr th {\n",
       "        vertical-align: top;\n",
       "    }\n",
       "\n",
       "    .dataframe thead th {\n",
       "        text-align: right;\n",
       "    }\n",
       "</style>\n",
       "<table border=\"1\" class=\"dataframe\">\n",
       "  <thead>\n",
       "    <tr style=\"text-align: right;\">\n",
       "      <th></th>\n",
       "      <th>0</th>\n",
       "      <th>1</th>\n",
       "      <th>2</th>\n",
       "      <th>3</th>\n",
       "      <th>4</th>\n",
       "      <th>5</th>\n",
       "      <th>6</th>\n",
       "      <th>7</th>\n",
       "      <th>8</th>\n",
       "      <th>9</th>\n",
       "      <th>...</th>\n",
       "      <th>2679</th>\n",
       "      <th>2680</th>\n",
       "      <th>2681</th>\n",
       "      <th>2682</th>\n",
       "      <th>2683</th>\n",
       "      <th>2684</th>\n",
       "      <th>2685</th>\n",
       "      <th>2686</th>\n",
       "      <th>2687</th>\n",
       "      <th>2688</th>\n",
       "    </tr>\n",
       "  </thead>\n",
       "  <tbody>\n",
       "    <tr>\n",
       "      <th>PasTotCmp</th>\n",
       "      <td>23.2</td>\n",
       "      <td>38.5</td>\n",
       "      <td>40.0</td>\n",
       "      <td>59.5</td>\n",
       "      <td>37.9</td>\n",
       "      <td>20.0</td>\n",
       "      <td>7.14</td>\n",
       "      <td>5.83</td>\n",
       "      <td>39.0</td>\n",
       "      <td>17.6</td>\n",
       "      <td>...</td>\n",
       "      <td>59.0</td>\n",
       "      <td>36.8</td>\n",
       "      <td>27.5</td>\n",
       "      <td>45.8</td>\n",
       "      <td>45.0</td>\n",
       "      <td>42.5</td>\n",
       "      <td>20.0</td>\n",
       "      <td>38.3</td>\n",
       "      <td>19.7</td>\n",
       "      <td>23.5</td>\n",
       "    </tr>\n",
       "    <tr>\n",
       "      <th>PasTotAtt</th>\n",
       "      <td>31.0</td>\n",
       "      <td>47.2</td>\n",
       "      <td>49.5</td>\n",
       "      <td>64.9</td>\n",
       "      <td>43.4</td>\n",
       "      <td>30.0</td>\n",
       "      <td>10.0</td>\n",
       "      <td>12.5</td>\n",
       "      <td>54.3</td>\n",
       "      <td>25.3</td>\n",
       "      <td>...</td>\n",
       "      <td>67.0</td>\n",
       "      <td>43.0</td>\n",
       "      <td>45.0</td>\n",
       "      <td>52.7</td>\n",
       "      <td>53.4</td>\n",
       "      <td>47.5</td>\n",
       "      <td>40.0</td>\n",
       "      <td>48.4</td>\n",
       "      <td>36.9</td>\n",
       "      <td>30.9</td>\n",
       "    </tr>\n",
       "    <tr>\n",
       "      <th>PasAtt</th>\n",
       "      <td>31.0</td>\n",
       "      <td>47.2</td>\n",
       "      <td>49.5</td>\n",
       "      <td>64.9</td>\n",
       "      <td>43.4</td>\n",
       "      <td>30.0</td>\n",
       "      <td>10.0</td>\n",
       "      <td>12.5</td>\n",
       "      <td>54.3</td>\n",
       "      <td>25.3</td>\n",
       "      <td>...</td>\n",
       "      <td>67.0</td>\n",
       "      <td>43.0</td>\n",
       "      <td>45.0</td>\n",
       "      <td>52.7</td>\n",
       "      <td>53.4</td>\n",
       "      <td>47.5</td>\n",
       "      <td>40.0</td>\n",
       "      <td>48.4</td>\n",
       "      <td>36.9</td>\n",
       "      <td>30.9</td>\n",
       "    </tr>\n",
       "    <tr>\n",
       "      <th>PasCrs</th>\n",
       "      <td>2.54</td>\n",
       "      <td>0.18</td>\n",
       "      <td>1.05</td>\n",
       "      <td>0.35</td>\n",
       "      <td>0.23</td>\n",
       "      <td>0.0</td>\n",
       "      <td>0.95</td>\n",
       "      <td>1.67</td>\n",
       "      <td>1.33</td>\n",
       "      <td>0.96</td>\n",
       "      <td>...</td>\n",
       "      <td>4.0</td>\n",
       "      <td>0.0</td>\n",
       "      <td>0.0</td>\n",
       "      <td>0.21</td>\n",
       "      <td>0.11</td>\n",
       "      <td>2.5</td>\n",
       "      <td>0.0</td>\n",
       "      <td>2.51</td>\n",
       "      <td>0.0</td>\n",
       "      <td>1.56</td>\n",
       "    </tr>\n",
       "    <tr>\n",
       "      <th>PasCmp</th>\n",
       "      <td>23.2</td>\n",
       "      <td>38.5</td>\n",
       "      <td>40.0</td>\n",
       "      <td>59.5</td>\n",
       "      <td>37.9</td>\n",
       "      <td>20.0</td>\n",
       "      <td>7.14</td>\n",
       "      <td>5.83</td>\n",
       "      <td>39.0</td>\n",
       "      <td>17.6</td>\n",
       "      <td>...</td>\n",
       "      <td>59.0</td>\n",
       "      <td>36.8</td>\n",
       "      <td>27.5</td>\n",
       "      <td>45.8</td>\n",
       "      <td>45.0</td>\n",
       "      <td>42.5</td>\n",
       "      <td>20.0</td>\n",
       "      <td>38.3</td>\n",
       "      <td>19.7</td>\n",
       "      <td>23.5</td>\n",
       "    </tr>\n",
       "    <tr>\n",
       "      <th>TklWon</th>\n",
       "      <td>0.51</td>\n",
       "      <td>1.59</td>\n",
       "      <td>1.4</td>\n",
       "      <td>0.8</td>\n",
       "      <td>2.02</td>\n",
       "      <td>10.0</td>\n",
       "      <td>0.48</td>\n",
       "      <td>0.83</td>\n",
       "      <td>2.33</td>\n",
       "      <td>0.72</td>\n",
       "      <td>...</td>\n",
       "      <td>2.0</td>\n",
       "      <td>0.14</td>\n",
       "      <td>0.0</td>\n",
       "      <td>0.86</td>\n",
       "      <td>1.07</td>\n",
       "      <td>0.0</td>\n",
       "      <td>0.0</td>\n",
       "      <td>0.7</td>\n",
       "      <td>0.13</td>\n",
       "      <td>0.88</td>\n",
       "    </tr>\n",
       "    <tr>\n",
       "      <th>Crs</th>\n",
       "      <td>2.54</td>\n",
       "      <td>0.18</td>\n",
       "      <td>1.05</td>\n",
       "      <td>0.35</td>\n",
       "      <td>0.23</td>\n",
       "      <td>0.0</td>\n",
       "      <td>0.95</td>\n",
       "      <td>1.67</td>\n",
       "      <td>1.33</td>\n",
       "      <td>0.96</td>\n",
       "      <td>...</td>\n",
       "      <td>4.0</td>\n",
       "      <td>0.0</td>\n",
       "      <td>0.0</td>\n",
       "      <td>0.21</td>\n",
       "      <td>0.11</td>\n",
       "      <td>2.5</td>\n",
       "      <td>0.0</td>\n",
       "      <td>2.51</td>\n",
       "      <td>0.0</td>\n",
       "      <td>1.56</td>\n",
       "    </tr>\n",
       "    <tr>\n",
       "      <th>TklW</th>\n",
       "      <td>0.51</td>\n",
       "      <td>1.59</td>\n",
       "      <td>1.4</td>\n",
       "      <td>0.8</td>\n",
       "      <td>2.02</td>\n",
       "      <td>10.0</td>\n",
       "      <td>0.48</td>\n",
       "      <td>0.83</td>\n",
       "      <td>2.33</td>\n",
       "      <td>0.72</td>\n",
       "      <td>...</td>\n",
       "      <td>2.0</td>\n",
       "      <td>0.14</td>\n",
       "      <td>0.0</td>\n",
       "      <td>0.86</td>\n",
       "      <td>1.07</td>\n",
       "      <td>0.0</td>\n",
       "      <td>0.0</td>\n",
       "      <td>0.7</td>\n",
       "      <td>0.13</td>\n",
       "      <td>0.88</td>\n",
       "    </tr>\n",
       "  </tbody>\n",
       "</table>\n",
       "<p>8 rows × 2689 columns</p>\n",
       "</div>"
      ],
      "text/plain": [
       "           0     1     2     3     4     5     6     7     8     9     ...  \\\n",
       "PasTotCmp  23.2  38.5  40.0  59.5  37.9  20.0  7.14  5.83  39.0  17.6  ...   \n",
       "PasTotAtt  31.0  47.2  49.5  64.9  43.4  30.0  10.0  12.5  54.3  25.3  ...   \n",
       "PasAtt     31.0  47.2  49.5  64.9  43.4  30.0  10.0  12.5  54.3  25.3  ...   \n",
       "PasCrs     2.54  0.18  1.05  0.35  0.23   0.0  0.95  1.67  1.33  0.96  ...   \n",
       "PasCmp     23.2  38.5  40.0  59.5  37.9  20.0  7.14  5.83  39.0  17.6  ...   \n",
       "TklWon     0.51  1.59   1.4   0.8  2.02  10.0  0.48  0.83  2.33  0.72  ...   \n",
       "Crs        2.54  0.18  1.05  0.35  0.23   0.0  0.95  1.67  1.33  0.96  ...   \n",
       "TklW       0.51  1.59   1.4   0.8  2.02  10.0  0.48  0.83  2.33  0.72  ...   \n",
       "\n",
       "           2679  2680  2681  2682  2683  2684  2685  2686  2687  2688  \n",
       "PasTotCmp  59.0  36.8  27.5  45.8  45.0  42.5  20.0  38.3  19.7  23.5  \n",
       "PasTotAtt  67.0  43.0  45.0  52.7  53.4  47.5  40.0  48.4  36.9  30.9  \n",
       "PasAtt     67.0  43.0  45.0  52.7  53.4  47.5  40.0  48.4  36.9  30.9  \n",
       "PasCrs      4.0   0.0   0.0  0.21  0.11   2.5   0.0  2.51   0.0  1.56  \n",
       "PasCmp     59.0  36.8  27.5  45.8  45.0  42.5  20.0  38.3  19.7  23.5  \n",
       "TklWon      2.0  0.14   0.0  0.86  1.07   0.0   0.0   0.7  0.13  0.88  \n",
       "Crs         4.0   0.0   0.0  0.21  0.11   2.5   0.0  2.51   0.0  1.56  \n",
       "TklW        2.0  0.14   0.0  0.86  1.07   0.0   0.0   0.7  0.13  0.88  \n",
       "\n",
       "[8 rows x 2689 columns]"
      ]
     },
     "execution_count": 12,
     "metadata": {},
     "output_type": "execute_result"
    }
   ],
   "source": [
    "# Transversing the data will show information about the columns instead\n",
    "player_stats2023.T[player_stats2023.T.duplicated(keep = False)] "
   ]
  },
  {
   "cell_type": "markdown",
   "id": "549c688c-444c-4502-9a7b-087d6256d67b",
   "metadata": {},
   "source": [
    "We can see 4 of the columns are duplicates of another column, even though the column name is unique, the information contained is identical in these columns.\n",
    "\n",
    "Thus, we will need to remove these 4 columns later (one of each pair). It is not important which one we choose, but we must make sure we check the same for the next dataset and drop the same rows."
   ]
  },
  {
   "cell_type": "markdown",
   "id": "48e3169e-1c65-4c96-8a65-ab3685cfddf4",
   "metadata": {},
   "source": [
    "Next, we check for duplicate rows."
   ]
  },
  {
   "cell_type": "code",
   "execution_count": 13,
   "id": "062b52a1-ddbe-45e9-859e-a52745293b78",
   "metadata": {
    "tags": []
   },
   "outputs": [
    {
     "data": {
      "text/plain": [
       "False"
      ]
     },
     "execution_count": 13,
     "metadata": {},
     "output_type": "execute_result"
    }
   ],
   "source": [
    "player_stats2023.duplicated().any()"
   ]
  },
  {
   "cell_type": "markdown",
   "id": "94572504-794a-4dde-a231-7aa661aa5f21",
   "metadata": {},
   "source": [
    "There are no duplicated rows in this dataset."
   ]
  },
  {
   "cell_type": "markdown",
   "id": "811ab956-6fde-418d-89f7-17fa9760e8c7",
   "metadata": {},
   "source": [
    "#### Null values"
   ]
  },
  {
   "cell_type": "markdown",
   "id": "c3bdddeb-a6f2-42da-8a4d-f58b96aeb6ed",
   "metadata": {
    "tags": []
   },
   "source": [
    "Next, we check for null values in the dataset."
   ]
  },
  {
   "cell_type": "code",
   "execution_count": 14,
   "id": "841c49a2-0fe7-42ea-bf9e-7fadda7c1841",
   "metadata": {
    "tags": []
   },
   "outputs": [
    {
     "data": {
      "text/plain": [
       "Index(['Nation'], dtype='object')"
      ]
     },
     "execution_count": 14,
     "metadata": {},
     "output_type": "execute_result"
    }
   ],
   "source": [
    "# To check which column has null values\n",
    "player_stats2023.columns[player_stats2023.isna().any()]"
   ]
  },
  {
   "cell_type": "code",
   "execution_count": 15,
   "id": "b6536231-7ab6-4f38-b8b5-ef550669c418",
   "metadata": {
    "tags": []
   },
   "outputs": [
    {
     "data": {
      "text/html": [
       "<div>\n",
       "<style scoped>\n",
       "    .dataframe tbody tr th:only-of-type {\n",
       "        vertical-align: middle;\n",
       "    }\n",
       "\n",
       "    .dataframe tbody tr th {\n",
       "        vertical-align: top;\n",
       "    }\n",
       "\n",
       "    .dataframe thead th {\n",
       "        text-align: right;\n",
       "    }\n",
       "</style>\n",
       "<table border=\"1\" class=\"dataframe\">\n",
       "  <thead>\n",
       "    <tr style=\"text-align: right;\">\n",
       "      <th></th>\n",
       "      <th>Rk</th>\n",
       "      <th>Player</th>\n",
       "      <th>Nation</th>\n",
       "      <th>Pos</th>\n",
       "      <th>Squad</th>\n",
       "      <th>Comp</th>\n",
       "      <th>Age</th>\n",
       "      <th>Born</th>\n",
       "      <th>MP</th>\n",
       "      <th>Starts</th>\n",
       "      <th>...</th>\n",
       "      <th>Off</th>\n",
       "      <th>Crs</th>\n",
       "      <th>TklW</th>\n",
       "      <th>PKwon</th>\n",
       "      <th>PKcon</th>\n",
       "      <th>OG</th>\n",
       "      <th>Recov</th>\n",
       "      <th>AerWon</th>\n",
       "      <th>AerLost</th>\n",
       "      <th>AerWon%</th>\n",
       "    </tr>\n",
       "  </thead>\n",
       "  <tbody>\n",
       "    <tr>\n",
       "      <th>1875</th>\n",
       "      <td>1876</td>\n",
       "      <td>David Ozoh</td>\n",
       "      <td>NaN</td>\n",
       "      <td>FW</td>\n",
       "      <td>Crystal Palace</td>\n",
       "      <td>Premier League</td>\n",
       "      <td>17</td>\n",
       "      <td>2005</td>\n",
       "      <td>1</td>\n",
       "      <td>0</td>\n",
       "      <td>...</td>\n",
       "      <td>0.0</td>\n",
       "      <td>0.0</td>\n",
       "      <td>0.0</td>\n",
       "      <td>0.0</td>\n",
       "      <td>0.0</td>\n",
       "      <td>0.0</td>\n",
       "      <td>0.0</td>\n",
       "      <td>0.0</td>\n",
       "      <td>0.0</td>\n",
       "      <td>0.0</td>\n",
       "    </tr>\n",
       "  </tbody>\n",
       "</table>\n",
       "<p>1 rows × 124 columns</p>\n",
       "</div>"
      ],
      "text/plain": [
       "        Rk      Player Nation Pos           Squad            Comp  Age  Born  \\\n",
       "1875  1876  David Ozoh    NaN  FW  Crystal Palace  Premier League   17  2005   \n",
       "\n",
       "      MP  Starts  ...  Off  Crs  TklW  PKwon  PKcon   OG  Recov  AerWon  \\\n",
       "1875   1       0  ...  0.0  0.0   0.0    0.0    0.0  0.0    0.0     0.0   \n",
       "\n",
       "      AerLost  AerWon%  \n",
       "1875      0.0      0.0  \n",
       "\n",
       "[1 rows x 124 columns]"
      ]
     },
     "execution_count": 15,
     "metadata": {},
     "output_type": "execute_result"
    }
   ],
   "source": [
    "player_stats2023[player_stats2023['Nation'].isna()]"
   ]
  },
  {
   "cell_type": "markdown",
   "id": "ed5e7015-c2d6-4a0d-a963-c72907dfda79",
   "metadata": {},
   "source": [
    "A quick google search will show that David Ozoh is English, we can fill this information as English."
   ]
  },
  {
   "cell_type": "code",
   "execution_count": 16,
   "id": "9d62b434-b970-4cda-969d-689097c28892",
   "metadata": {
    "tags": []
   },
   "outputs": [],
   "source": [
    "player_stats2023.loc[player_stats2023['Player'] =='David Ozoh','Nation'] = 'English'"
   ]
  },
  {
   "cell_type": "code",
   "execution_count": 17,
   "id": "26e83d8a-e60a-4223-9786-b9bb9d6b7cc8",
   "metadata": {
    "tags": []
   },
   "outputs": [
    {
     "data": {
      "text/html": [
       "<div>\n",
       "<style scoped>\n",
       "    .dataframe tbody tr th:only-of-type {\n",
       "        vertical-align: middle;\n",
       "    }\n",
       "\n",
       "    .dataframe tbody tr th {\n",
       "        vertical-align: top;\n",
       "    }\n",
       "\n",
       "    .dataframe thead th {\n",
       "        text-align: right;\n",
       "    }\n",
       "</style>\n",
       "<table border=\"1\" class=\"dataframe\">\n",
       "  <thead>\n",
       "    <tr style=\"text-align: right;\">\n",
       "      <th></th>\n",
       "      <th>Rk</th>\n",
       "      <th>Player</th>\n",
       "      <th>Nation</th>\n",
       "      <th>Pos</th>\n",
       "      <th>Squad</th>\n",
       "      <th>Comp</th>\n",
       "      <th>Age</th>\n",
       "      <th>Born</th>\n",
       "      <th>MP</th>\n",
       "      <th>Starts</th>\n",
       "      <th>...</th>\n",
       "      <th>Off</th>\n",
       "      <th>Crs</th>\n",
       "      <th>TklW</th>\n",
       "      <th>PKwon</th>\n",
       "      <th>PKcon</th>\n",
       "      <th>OG</th>\n",
       "      <th>Recov</th>\n",
       "      <th>AerWon</th>\n",
       "      <th>AerLost</th>\n",
       "      <th>AerWon%</th>\n",
       "    </tr>\n",
       "  </thead>\n",
       "  <tbody>\n",
       "    <tr>\n",
       "      <th>1875</th>\n",
       "      <td>1876</td>\n",
       "      <td>David Ozoh</td>\n",
       "      <td>English</td>\n",
       "      <td>FW</td>\n",
       "      <td>Crystal Palace</td>\n",
       "      <td>Premier League</td>\n",
       "      <td>17</td>\n",
       "      <td>2005</td>\n",
       "      <td>1</td>\n",
       "      <td>0</td>\n",
       "      <td>...</td>\n",
       "      <td>0.0</td>\n",
       "      <td>0.0</td>\n",
       "      <td>0.0</td>\n",
       "      <td>0.0</td>\n",
       "      <td>0.0</td>\n",
       "      <td>0.0</td>\n",
       "      <td>0.0</td>\n",
       "      <td>0.0</td>\n",
       "      <td>0.0</td>\n",
       "      <td>0.0</td>\n",
       "    </tr>\n",
       "  </tbody>\n",
       "</table>\n",
       "<p>1 rows × 124 columns</p>\n",
       "</div>"
      ],
      "text/plain": [
       "        Rk      Player   Nation Pos           Squad            Comp  Age  \\\n",
       "1875  1876  David Ozoh  English  FW  Crystal Palace  Premier League   17   \n",
       "\n",
       "      Born  MP  Starts  ...  Off  Crs  TklW  PKwon  PKcon   OG  Recov  AerWon  \\\n",
       "1875  2005   1       0  ...  0.0  0.0   0.0    0.0    0.0  0.0    0.0     0.0   \n",
       "\n",
       "      AerLost  AerWon%  \n",
       "1875      0.0      0.0  \n",
       "\n",
       "[1 rows x 124 columns]"
      ]
     },
     "execution_count": 17,
     "metadata": {},
     "output_type": "execute_result"
    }
   ],
   "source": [
    "# Sanity check\n",
    "player_stats2023.loc[player_stats2023['Player'] =='David Ozoh']"
   ]
  },
  {
   "cell_type": "code",
   "execution_count": 18,
   "id": "cecbbc78-793b-4687-ae3f-16b4b2c2c305",
   "metadata": {
    "tags": []
   },
   "outputs": [
    {
     "data": {
      "text/plain": [
       "Index([], dtype='object')"
      ]
     },
     "execution_count": 18,
     "metadata": {},
     "output_type": "execute_result"
    }
   ],
   "source": [
    "# Double check to make sure there are no more null values\n",
    "player_stats2023.columns[player_stats2023.isna().any()]"
   ]
  },
  {
   "cell_type": "markdown",
   "id": "a211f865-e134-4fc6-87b1-eab72ee0cd10",
   "metadata": {},
   "source": [
    "There are still a few things to look out for as we clean the rest of the datasets:\n",
    "- Since we will be joining the valuation datasets using the name, we must make sure that the names are properly cleaned. Some names with accents may prove problematic.\n",
    "- There are a different amount of columns in this dataset and the next. I will have to make a choice on how to deal with the additional/ different rows for my model.\n",
    "- Many of the columns are in the format 'per 90', whilst some other columns have absolute numbers but convey the same information. It may be wise to convert all the columns to the same base and remove any which convey the same information."
   ]
  },
  {
   "cell_type": "markdown",
   "id": "3932d7f2-3b30-4052-a8ea-3a365284ca32",
   "metadata": {},
   "source": [
    "### Player_stats2022 table"
   ]
  },
  {
   "cell_type": "code",
   "execution_count": 19,
   "id": "51592d4a-ebb7-424b-97e5-7cd4ea475e18",
   "metadata": {
    "tags": []
   },
   "outputs": [
    {
     "data": {
      "text/html": [
       "<div>\n",
       "<style scoped>\n",
       "    .dataframe tbody tr th:only-of-type {\n",
       "        vertical-align: middle;\n",
       "    }\n",
       "\n",
       "    .dataframe tbody tr th {\n",
       "        vertical-align: top;\n",
       "    }\n",
       "\n",
       "    .dataframe thead th {\n",
       "        text-align: right;\n",
       "    }\n",
       "</style>\n",
       "<table border=\"1\" class=\"dataframe\">\n",
       "  <thead>\n",
       "    <tr style=\"text-align: right;\">\n",
       "      <th></th>\n",
       "      <th>Rk</th>\n",
       "      <th>Player</th>\n",
       "      <th>Nation</th>\n",
       "      <th>Pos</th>\n",
       "      <th>Squad</th>\n",
       "      <th>Comp</th>\n",
       "      <th>Age</th>\n",
       "      <th>Born</th>\n",
       "      <th>MP</th>\n",
       "      <th>Starts</th>\n",
       "      <th>...</th>\n",
       "      <th>Off</th>\n",
       "      <th>Crs</th>\n",
       "      <th>TklW</th>\n",
       "      <th>PKwon</th>\n",
       "      <th>PKcon</th>\n",
       "      <th>OG</th>\n",
       "      <th>Recov</th>\n",
       "      <th>AerWon</th>\n",
       "      <th>AerLost</th>\n",
       "      <th>AerWon%</th>\n",
       "    </tr>\n",
       "  </thead>\n",
       "  <tbody>\n",
       "    <tr>\n",
       "      <th>0</th>\n",
       "      <td>1</td>\n",
       "      <td>Max Aarons</td>\n",
       "      <td>ENG</td>\n",
       "      <td>DF</td>\n",
       "      <td>Norwich City</td>\n",
       "      <td>Premier League</td>\n",
       "      <td>22.0</td>\n",
       "      <td>2000</td>\n",
       "      <td>34</td>\n",
       "      <td>32</td>\n",
       "      <td>...</td>\n",
       "      <td>0.03</td>\n",
       "      <td>1.41</td>\n",
       "      <td>1.16</td>\n",
       "      <td>0.00</td>\n",
       "      <td>0.06</td>\n",
       "      <td>0.03</td>\n",
       "      <td>5.53</td>\n",
       "      <td>0.47</td>\n",
       "      <td>1.59</td>\n",
       "      <td>22.7</td>\n",
       "    </tr>\n",
       "    <tr>\n",
       "      <th>1</th>\n",
       "      <td>2</td>\n",
       "      <td>Yunis Abdelhamid</td>\n",
       "      <td>MAR</td>\n",
       "      <td>DF</td>\n",
       "      <td>Reims</td>\n",
       "      <td>Ligue 1</td>\n",
       "      <td>34.0</td>\n",
       "      <td>1987</td>\n",
       "      <td>34</td>\n",
       "      <td>34</td>\n",
       "      <td>...</td>\n",
       "      <td>0.00</td>\n",
       "      <td>0.06</td>\n",
       "      <td>1.39</td>\n",
       "      <td>0.00</td>\n",
       "      <td>0.03</td>\n",
       "      <td>0.00</td>\n",
       "      <td>6.77</td>\n",
       "      <td>2.02</td>\n",
       "      <td>1.36</td>\n",
       "      <td>59.8</td>\n",
       "    </tr>\n",
       "    <tr>\n",
       "      <th>2</th>\n",
       "      <td>3</td>\n",
       "      <td>Salis Abdul Samed</td>\n",
       "      <td>GHA</td>\n",
       "      <td>MF</td>\n",
       "      <td>Clermont Foot</td>\n",
       "      <td>Ligue 1</td>\n",
       "      <td>22.0</td>\n",
       "      <td>2000</td>\n",
       "      <td>31</td>\n",
       "      <td>29</td>\n",
       "      <td>...</td>\n",
       "      <td>0.00</td>\n",
       "      <td>0.36</td>\n",
       "      <td>1.24</td>\n",
       "      <td>0.00</td>\n",
       "      <td>0.00</td>\n",
       "      <td>0.00</td>\n",
       "      <td>8.76</td>\n",
       "      <td>0.88</td>\n",
       "      <td>0.88</td>\n",
       "      <td>50.0</td>\n",
       "    </tr>\n",
       "    <tr>\n",
       "      <th>3</th>\n",
       "      <td>4</td>\n",
       "      <td>Laurent Abergel</td>\n",
       "      <td>FRA</td>\n",
       "      <td>MF</td>\n",
       "      <td>Lorient</td>\n",
       "      <td>Ligue 1</td>\n",
       "      <td>29.0</td>\n",
       "      <td>1993</td>\n",
       "      <td>34</td>\n",
       "      <td>34</td>\n",
       "      <td>...</td>\n",
       "      <td>0.03</td>\n",
       "      <td>0.79</td>\n",
       "      <td>2.23</td>\n",
       "      <td>0.00</td>\n",
       "      <td>0.00</td>\n",
       "      <td>0.00</td>\n",
       "      <td>8.87</td>\n",
       "      <td>0.43</td>\n",
       "      <td>0.43</td>\n",
       "      <td>50.0</td>\n",
       "    </tr>\n",
       "    <tr>\n",
       "      <th>4</th>\n",
       "      <td>5</td>\n",
       "      <td>Charles Abi</td>\n",
       "      <td>FRA</td>\n",
       "      <td>FW</td>\n",
       "      <td>Saint-Étienne</td>\n",
       "      <td>Ligue 1</td>\n",
       "      <td>22.0</td>\n",
       "      <td>2000</td>\n",
       "      <td>1</td>\n",
       "      <td>1</td>\n",
       "      <td>...</td>\n",
       "      <td>0.00</td>\n",
       "      <td>2.00</td>\n",
       "      <td>0.00</td>\n",
       "      <td>0.00</td>\n",
       "      <td>0.00</td>\n",
       "      <td>0.00</td>\n",
       "      <td>4.00</td>\n",
       "      <td>2.00</td>\n",
       "      <td>0.00</td>\n",
       "      <td>100.0</td>\n",
       "    </tr>\n",
       "    <tr>\n",
       "      <th>5</th>\n",
       "      <td>6</td>\n",
       "      <td>Dickson Abiama</td>\n",
       "      <td>NGA</td>\n",
       "      <td>FW</td>\n",
       "      <td>Greuther Fürth</td>\n",
       "      <td>Bundesliga</td>\n",
       "      <td>23.0</td>\n",
       "      <td>1998</td>\n",
       "      <td>24</td>\n",
       "      <td>5</td>\n",
       "      <td>...</td>\n",
       "      <td>1.85</td>\n",
       "      <td>0.25</td>\n",
       "      <td>0.86</td>\n",
       "      <td>0.00</td>\n",
       "      <td>0.00</td>\n",
       "      <td>0.00</td>\n",
       "      <td>4.81</td>\n",
       "      <td>2.72</td>\n",
       "      <td>4.94</td>\n",
       "      <td>35.5</td>\n",
       "    </tr>\n",
       "    <tr>\n",
       "      <th>6</th>\n",
       "      <td>7</td>\n",
       "      <td>Matthis Abline</td>\n",
       "      <td>FRA</td>\n",
       "      <td>FW</td>\n",
       "      <td>Rennes</td>\n",
       "      <td>Ligue 1</td>\n",
       "      <td>19.0</td>\n",
       "      <td>2003</td>\n",
       "      <td>7</td>\n",
       "      <td>1</td>\n",
       "      <td>...</td>\n",
       "      <td>0.00</td>\n",
       "      <td>0.91</td>\n",
       "      <td>0.00</td>\n",
       "      <td>0.00</td>\n",
       "      <td>0.00</td>\n",
       "      <td>0.00</td>\n",
       "      <td>6.36</td>\n",
       "      <td>0.00</td>\n",
       "      <td>1.82</td>\n",
       "      <td>0.0</td>\n",
       "    </tr>\n",
       "    <tr>\n",
       "      <th>7</th>\n",
       "      <td>8</td>\n",
       "      <td>Tammy Abraham</td>\n",
       "      <td>ENG</td>\n",
       "      <td>FW</td>\n",
       "      <td>Roma</td>\n",
       "      <td>Serie A</td>\n",
       "      <td>24.0</td>\n",
       "      <td>1997</td>\n",
       "      <td>37</td>\n",
       "      <td>36</td>\n",
       "      <td>...</td>\n",
       "      <td>0.50</td>\n",
       "      <td>0.70</td>\n",
       "      <td>0.64</td>\n",
       "      <td>0.03</td>\n",
       "      <td>0.03</td>\n",
       "      <td>0.00</td>\n",
       "      <td>3.67</td>\n",
       "      <td>2.39</td>\n",
       "      <td>2.89</td>\n",
       "      <td>45.3</td>\n",
       "    </tr>\n",
       "    <tr>\n",
       "      <th>8</th>\n",
       "      <td>9</td>\n",
       "      <td>Luis Abram</td>\n",
       "      <td>PER</td>\n",
       "      <td>DF</td>\n",
       "      <td>Granada</td>\n",
       "      <td>La Liga</td>\n",
       "      <td>26.0</td>\n",
       "      <td>1996</td>\n",
       "      <td>8</td>\n",
       "      <td>6</td>\n",
       "      <td>...</td>\n",
       "      <td>0.00</td>\n",
       "      <td>0.00</td>\n",
       "      <td>0.97</td>\n",
       "      <td>0.00</td>\n",
       "      <td>0.00</td>\n",
       "      <td>0.16</td>\n",
       "      <td>4.03</td>\n",
       "      <td>1.94</td>\n",
       "      <td>2.42</td>\n",
       "      <td>44.4</td>\n",
       "    </tr>\n",
       "    <tr>\n",
       "      <th>9</th>\n",
       "      <td>10</td>\n",
       "      <td>Francesco Acerbi</td>\n",
       "      <td>ITA</td>\n",
       "      <td>DF</td>\n",
       "      <td>Lazio</td>\n",
       "      <td>Serie A</td>\n",
       "      <td>34.0</td>\n",
       "      <td>1988</td>\n",
       "      <td>30</td>\n",
       "      <td>29</td>\n",
       "      <td>...</td>\n",
       "      <td>0.14</td>\n",
       "      <td>0.04</td>\n",
       "      <td>0.43</td>\n",
       "      <td>0.04</td>\n",
       "      <td>0.00</td>\n",
       "      <td>0.00</td>\n",
       "      <td>10.70</td>\n",
       "      <td>2.84</td>\n",
       "      <td>1.60</td>\n",
       "      <td>64.0</td>\n",
       "    </tr>\n",
       "    <tr>\n",
       "      <th>10</th>\n",
       "      <td>11</td>\n",
       "      <td>Ragnar Ache</td>\n",
       "      <td>GER</td>\n",
       "      <td>MFFW</td>\n",
       "      <td>Eint Frankfurt</td>\n",
       "      <td>Bundesliga</td>\n",
       "      <td>23.0</td>\n",
       "      <td>1998</td>\n",
       "      <td>13</td>\n",
       "      <td>1</td>\n",
       "      <td>...</td>\n",
       "      <td>2.07</td>\n",
       "      <td>2.07</td>\n",
       "      <td>0.69</td>\n",
       "      <td>0.00</td>\n",
       "      <td>0.00</td>\n",
       "      <td>0.00</td>\n",
       "      <td>5.17</td>\n",
       "      <td>6.90</td>\n",
       "      <td>3.79</td>\n",
       "      <td>64.5</td>\n",
       "    </tr>\n",
       "    <tr>\n",
       "      <th>11</th>\n",
       "      <td>12</td>\n",
       "      <td>Mohamed Achi</td>\n",
       "      <td>FRA</td>\n",
       "      <td>MF</td>\n",
       "      <td>Nantes</td>\n",
       "      <td>Ligue 1</td>\n",
       "      <td>20.0</td>\n",
       "      <td>2002</td>\n",
       "      <td>1</td>\n",
       "      <td>0</td>\n",
       "      <td>...</td>\n",
       "      <td>0.00</td>\n",
       "      <td>0.00</td>\n",
       "      <td>10.00</td>\n",
       "      <td>0.00</td>\n",
       "      <td>0.00</td>\n",
       "      <td>0.00</td>\n",
       "      <td>10.00</td>\n",
       "      <td>0.00</td>\n",
       "      <td>0.00</td>\n",
       "      <td>0.0</td>\n",
       "    </tr>\n",
       "    <tr>\n",
       "      <th>12</th>\n",
       "      <td>13</td>\n",
       "      <td>Marcos Acuña</td>\n",
       "      <td>ARG</td>\n",
       "      <td>DF</td>\n",
       "      <td>Sevilla</td>\n",
       "      <td>La Liga</td>\n",
       "      <td>30.0</td>\n",
       "      <td>1991</td>\n",
       "      <td>31</td>\n",
       "      <td>26</td>\n",
       "      <td>...</td>\n",
       "      <td>0.00</td>\n",
       "      <td>4.94</td>\n",
       "      <td>1.55</td>\n",
       "      <td>0.00</td>\n",
       "      <td>0.04</td>\n",
       "      <td>0.00</td>\n",
       "      <td>8.92</td>\n",
       "      <td>1.31</td>\n",
       "      <td>1.47</td>\n",
       "      <td>47.1</td>\n",
       "    </tr>\n",
       "    <tr>\n",
       "      <th>13</th>\n",
       "      <td>14</td>\n",
       "      <td>Che Adams</td>\n",
       "      <td>SCO</td>\n",
       "      <td>FW</td>\n",
       "      <td>Southampton</td>\n",
       "      <td>Premier League</td>\n",
       "      <td>25.0</td>\n",
       "      <td>1996</td>\n",
       "      <td>30</td>\n",
       "      <td>23</td>\n",
       "      <td>...</td>\n",
       "      <td>0.31</td>\n",
       "      <td>0.48</td>\n",
       "      <td>0.40</td>\n",
       "      <td>0.00</td>\n",
       "      <td>0.00</td>\n",
       "      <td>0.00</td>\n",
       "      <td>5.29</td>\n",
       "      <td>2.47</td>\n",
       "      <td>4.89</td>\n",
       "      <td>33.5</td>\n",
       "    </tr>\n",
       "    <tr>\n",
       "      <th>14</th>\n",
       "      <td>15</td>\n",
       "      <td>Tyler Adams</td>\n",
       "      <td>USA</td>\n",
       "      <td>MF</td>\n",
       "      <td>RB Leipzig</td>\n",
       "      <td>Bundesliga</td>\n",
       "      <td>23.0</td>\n",
       "      <td>1999</td>\n",
       "      <td>24</td>\n",
       "      <td>12</td>\n",
       "      <td>...</td>\n",
       "      <td>0.00</td>\n",
       "      <td>0.20</td>\n",
       "      <td>1.07</td>\n",
       "      <td>0.00</td>\n",
       "      <td>0.00</td>\n",
       "      <td>0.00</td>\n",
       "      <td>10.60</td>\n",
       "      <td>1.53</td>\n",
       "      <td>0.80</td>\n",
       "      <td>65.7</td>\n",
       "    </tr>\n",
       "  </tbody>\n",
       "</table>\n",
       "<p>15 rows × 143 columns</p>\n",
       "</div>"
      ],
      "text/plain": [
       "    Rk             Player Nation   Pos           Squad            Comp   Age  \\\n",
       "0    1         Max Aarons    ENG    DF    Norwich City  Premier League  22.0   \n",
       "1    2   Yunis Abdelhamid    MAR    DF           Reims         Ligue 1  34.0   \n",
       "2    3  Salis Abdul Samed    GHA    MF   Clermont Foot         Ligue 1  22.0   \n",
       "3    4    Laurent Abergel    FRA    MF         Lorient         Ligue 1  29.0   \n",
       "4    5        Charles Abi    FRA    FW   Saint-Étienne         Ligue 1  22.0   \n",
       "5    6     Dickson Abiama    NGA    FW  Greuther Fürth      Bundesliga  23.0   \n",
       "6    7     Matthis Abline    FRA    FW          Rennes         Ligue 1  19.0   \n",
       "7    8      Tammy Abraham    ENG    FW            Roma         Serie A  24.0   \n",
       "8    9         Luis Abram    PER    DF         Granada         La Liga  26.0   \n",
       "9   10   Francesco Acerbi    ITA    DF           Lazio         Serie A  34.0   \n",
       "10  11        Ragnar Ache    GER  MFFW  Eint Frankfurt      Bundesliga  23.0   \n",
       "11  12       Mohamed Achi    FRA    MF          Nantes         Ligue 1  20.0   \n",
       "12  13       Marcos Acuña    ARG    DF         Sevilla         La Liga  30.0   \n",
       "13  14          Che Adams    SCO    FW     Southampton  Premier League  25.0   \n",
       "14  15        Tyler Adams    USA    MF      RB Leipzig      Bundesliga  23.0   \n",
       "\n",
       "    Born  MP  Starts  ...   Off   Crs   TklW  PKwon  PKcon    OG  Recov  \\\n",
       "0   2000  34      32  ...  0.03  1.41   1.16   0.00   0.06  0.03   5.53   \n",
       "1   1987  34      34  ...  0.00  0.06   1.39   0.00   0.03  0.00   6.77   \n",
       "2   2000  31      29  ...  0.00  0.36   1.24   0.00   0.00  0.00   8.76   \n",
       "3   1993  34      34  ...  0.03  0.79   2.23   0.00   0.00  0.00   8.87   \n",
       "4   2000   1       1  ...  0.00  2.00   0.00   0.00   0.00  0.00   4.00   \n",
       "5   1998  24       5  ...  1.85  0.25   0.86   0.00   0.00  0.00   4.81   \n",
       "6   2003   7       1  ...  0.00  0.91   0.00   0.00   0.00  0.00   6.36   \n",
       "7   1997  37      36  ...  0.50  0.70   0.64   0.03   0.03  0.00   3.67   \n",
       "8   1996   8       6  ...  0.00  0.00   0.97   0.00   0.00  0.16   4.03   \n",
       "9   1988  30      29  ...  0.14  0.04   0.43   0.04   0.00  0.00  10.70   \n",
       "10  1998  13       1  ...  2.07  2.07   0.69   0.00   0.00  0.00   5.17   \n",
       "11  2002   1       0  ...  0.00  0.00  10.00   0.00   0.00  0.00  10.00   \n",
       "12  1991  31      26  ...  0.00  4.94   1.55   0.00   0.04  0.00   8.92   \n",
       "13  1996  30      23  ...  0.31  0.48   0.40   0.00   0.00  0.00   5.29   \n",
       "14  1999  24      12  ...  0.00  0.20   1.07   0.00   0.00  0.00  10.60   \n",
       "\n",
       "    AerWon  AerLost  AerWon%  \n",
       "0     0.47     1.59     22.7  \n",
       "1     2.02     1.36     59.8  \n",
       "2     0.88     0.88     50.0  \n",
       "3     0.43     0.43     50.0  \n",
       "4     2.00     0.00    100.0  \n",
       "5     2.72     4.94     35.5  \n",
       "6     0.00     1.82      0.0  \n",
       "7     2.39     2.89     45.3  \n",
       "8     1.94     2.42     44.4  \n",
       "9     2.84     1.60     64.0  \n",
       "10    6.90     3.79     64.5  \n",
       "11    0.00     0.00      0.0  \n",
       "12    1.31     1.47     47.1  \n",
       "13    2.47     4.89     33.5  \n",
       "14    1.53     0.80     65.7  \n",
       "\n",
       "[15 rows x 143 columns]"
      ]
     },
     "execution_count": 19,
     "metadata": {},
     "output_type": "execute_result"
    }
   ],
   "source": [
    "player_stats2022.head(15)"
   ]
  },
  {
   "cell_type": "code",
   "execution_count": 20,
   "id": "65e85112-ec24-49d4-aab5-8c71e25fd09e",
   "metadata": {
    "tags": []
   },
   "outputs": [
    {
     "name": "stdout",
     "output_type": "stream",
     "text": [
      "<class 'pandas.core.frame.DataFrame'>\n",
      "RangeIndex: 2921 entries, 0 to 2920\n",
      "Columns: 143 entries, Rk to AerWon%\n",
      "dtypes: float64(133), int64(5), object(5)\n",
      "memory usage: 3.2+ MB\n"
     ]
    }
   ],
   "source": [
    "player_stats2022.info()"
   ]
  },
  {
   "cell_type": "markdown",
   "id": "ccf148a0-eb8c-4eb5-a39c-53a19724744f",
   "metadata": {},
   "source": [
    "This dataset has 2921 entries, slightly more than the 2023 dataset. However, note that there are 143 columns in this dataset as opposed to 124 columns in the first dataset."
   ]
  },
  {
   "cell_type": "markdown",
   "id": "889677ad-5318-4e60-9b00-e3a9b94a7fe1",
   "metadata": {},
   "source": [
    "#### Duplicate values"
   ]
  },
  {
   "cell_type": "markdown",
   "id": "b4405975-c671-402c-b39f-3c97d19325b0",
   "metadata": {},
   "source": [
    "Let's take a look at the columns. First, we check for any duplicates."
   ]
  },
  {
   "cell_type": "code",
   "execution_count": 21,
   "id": "e5dc9663-22df-4712-b071-9948669f7518",
   "metadata": {
    "tags": []
   },
   "outputs": [
    {
     "data": {
      "text/html": [
       "<div>\n",
       "<style scoped>\n",
       "    .dataframe tbody tr th:only-of-type {\n",
       "        vertical-align: middle;\n",
       "    }\n",
       "\n",
       "    .dataframe tbody tr th {\n",
       "        vertical-align: top;\n",
       "    }\n",
       "\n",
       "    .dataframe thead th {\n",
       "        text-align: right;\n",
       "    }\n",
       "</style>\n",
       "<table border=\"1\" class=\"dataframe\">\n",
       "  <thead>\n",
       "    <tr style=\"text-align: right;\">\n",
       "      <th></th>\n",
       "      <th>0</th>\n",
       "      <th>1</th>\n",
       "      <th>2</th>\n",
       "      <th>3</th>\n",
       "      <th>4</th>\n",
       "      <th>5</th>\n",
       "      <th>6</th>\n",
       "      <th>7</th>\n",
       "      <th>8</th>\n",
       "      <th>9</th>\n",
       "      <th>...</th>\n",
       "      <th>2911</th>\n",
       "      <th>2912</th>\n",
       "      <th>2913</th>\n",
       "      <th>2914</th>\n",
       "      <th>2915</th>\n",
       "      <th>2916</th>\n",
       "      <th>2917</th>\n",
       "      <th>2918</th>\n",
       "      <th>2919</th>\n",
       "      <th>2920</th>\n",
       "    </tr>\n",
       "  </thead>\n",
       "  <tbody>\n",
       "    <tr>\n",
       "      <th>PasTotCmp</th>\n",
       "      <td>34.0</td>\n",
       "      <td>38.7</td>\n",
       "      <td>55.9</td>\n",
       "      <td>40.7</td>\n",
       "      <td>4.0</td>\n",
       "      <td>11.1</td>\n",
       "      <td>7.27</td>\n",
       "      <td>14.6</td>\n",
       "      <td>31.3</td>\n",
       "      <td>64.3</td>\n",
       "      <td>...</td>\n",
       "      <td>20.3</td>\n",
       "      <td>26.7</td>\n",
       "      <td>36.6</td>\n",
       "      <td>23.3</td>\n",
       "      <td>50.2</td>\n",
       "      <td>43.2</td>\n",
       "      <td>28.6</td>\n",
       "      <td>43.9</td>\n",
       "      <td>17.7</td>\n",
       "      <td>24.5</td>\n",
       "    </tr>\n",
       "    <tr>\n",
       "      <th>PasTotAtt</th>\n",
       "      <td>45.0</td>\n",
       "      <td>47.0</td>\n",
       "      <td>61.0</td>\n",
       "      <td>49.8</td>\n",
       "      <td>12.0</td>\n",
       "      <td>17.2</td>\n",
       "      <td>9.09</td>\n",
       "      <td>20.2</td>\n",
       "      <td>35.5</td>\n",
       "      <td>71.1</td>\n",
       "      <td>...</td>\n",
       "      <td>31.0</td>\n",
       "      <td>28.9</td>\n",
       "      <td>41.1</td>\n",
       "      <td>33.3</td>\n",
       "      <td>56.6</td>\n",
       "      <td>50.4</td>\n",
       "      <td>35.7</td>\n",
       "      <td>51.7</td>\n",
       "      <td>28.3</td>\n",
       "      <td>30.1</td>\n",
       "    </tr>\n",
       "    <tr>\n",
       "      <th>PasAtt</th>\n",
       "      <td>45.0</td>\n",
       "      <td>47.0</td>\n",
       "      <td>61.0</td>\n",
       "      <td>49.8</td>\n",
       "      <td>12.0</td>\n",
       "      <td>17.2</td>\n",
       "      <td>9.09</td>\n",
       "      <td>20.2</td>\n",
       "      <td>35.5</td>\n",
       "      <td>71.1</td>\n",
       "      <td>...</td>\n",
       "      <td>31.0</td>\n",
       "      <td>28.9</td>\n",
       "      <td>41.1</td>\n",
       "      <td>33.3</td>\n",
       "      <td>56.6</td>\n",
       "      <td>50.4</td>\n",
       "      <td>35.7</td>\n",
       "      <td>51.7</td>\n",
       "      <td>28.3</td>\n",
       "      <td>30.1</td>\n",
       "    </tr>\n",
       "    <tr>\n",
       "      <th>PasCrs</th>\n",
       "      <td>1.41</td>\n",
       "      <td>0.06</td>\n",
       "      <td>0.36</td>\n",
       "      <td>0.79</td>\n",
       "      <td>2.0</td>\n",
       "      <td>0.25</td>\n",
       "      <td>0.91</td>\n",
       "      <td>0.7</td>\n",
       "      <td>0.0</td>\n",
       "      <td>0.04</td>\n",
       "      <td>...</td>\n",
       "      <td>3.18</td>\n",
       "      <td>0.0</td>\n",
       "      <td>0.09</td>\n",
       "      <td>0.0</td>\n",
       "      <td>0.22</td>\n",
       "      <td>0.1</td>\n",
       "      <td>0.74</td>\n",
       "      <td>0.84</td>\n",
       "      <td>0.29</td>\n",
       "      <td>0.0</td>\n",
       "    </tr>\n",
       "    <tr>\n",
       "      <th>PasCmp</th>\n",
       "      <td>34.0</td>\n",
       "      <td>38.7</td>\n",
       "      <td>55.9</td>\n",
       "      <td>40.7</td>\n",
       "      <td>4.0</td>\n",
       "      <td>11.1</td>\n",
       "      <td>7.27</td>\n",
       "      <td>14.6</td>\n",
       "      <td>31.3</td>\n",
       "      <td>64.3</td>\n",
       "      <td>...</td>\n",
       "      <td>20.3</td>\n",
       "      <td>26.7</td>\n",
       "      <td>36.6</td>\n",
       "      <td>23.3</td>\n",
       "      <td>50.2</td>\n",
       "      <td>43.2</td>\n",
       "      <td>28.6</td>\n",
       "      <td>43.9</td>\n",
       "      <td>17.7</td>\n",
       "      <td>24.5</td>\n",
       "    </tr>\n",
       "    <tr>\n",
       "      <th>TklWon</th>\n",
       "      <td>1.16</td>\n",
       "      <td>1.39</td>\n",
       "      <td>1.24</td>\n",
       "      <td>2.23</td>\n",
       "      <td>0.0</td>\n",
       "      <td>0.86</td>\n",
       "      <td>0.0</td>\n",
       "      <td>0.64</td>\n",
       "      <td>0.97</td>\n",
       "      <td>0.43</td>\n",
       "      <td>...</td>\n",
       "      <td>0.83</td>\n",
       "      <td>0.0</td>\n",
       "      <td>0.22</td>\n",
       "      <td>0.0</td>\n",
       "      <td>0.82</td>\n",
       "      <td>1.08</td>\n",
       "      <td>1.91</td>\n",
       "      <td>0.81</td>\n",
       "      <td>0.17</td>\n",
       "      <td>0.93</td>\n",
       "    </tr>\n",
       "    <tr>\n",
       "      <th>Crs</th>\n",
       "      <td>1.41</td>\n",
       "      <td>0.06</td>\n",
       "      <td>0.36</td>\n",
       "      <td>0.79</td>\n",
       "      <td>2.0</td>\n",
       "      <td>0.25</td>\n",
       "      <td>0.91</td>\n",
       "      <td>0.7</td>\n",
       "      <td>0.0</td>\n",
       "      <td>0.04</td>\n",
       "      <td>...</td>\n",
       "      <td>3.18</td>\n",
       "      <td>0.0</td>\n",
       "      <td>0.09</td>\n",
       "      <td>0.0</td>\n",
       "      <td>0.22</td>\n",
       "      <td>0.1</td>\n",
       "      <td>0.74</td>\n",
       "      <td>0.84</td>\n",
       "      <td>0.29</td>\n",
       "      <td>0.0</td>\n",
       "    </tr>\n",
       "    <tr>\n",
       "      <th>TklW</th>\n",
       "      <td>1.16</td>\n",
       "      <td>1.39</td>\n",
       "      <td>1.24</td>\n",
       "      <td>2.23</td>\n",
       "      <td>0.0</td>\n",
       "      <td>0.86</td>\n",
       "      <td>0.0</td>\n",
       "      <td>0.64</td>\n",
       "      <td>0.97</td>\n",
       "      <td>0.43</td>\n",
       "      <td>...</td>\n",
       "      <td>0.83</td>\n",
       "      <td>0.0</td>\n",
       "      <td>0.22</td>\n",
       "      <td>0.0</td>\n",
       "      <td>0.82</td>\n",
       "      <td>1.08</td>\n",
       "      <td>1.91</td>\n",
       "      <td>0.81</td>\n",
       "      <td>0.17</td>\n",
       "      <td>0.93</td>\n",
       "    </tr>\n",
       "  </tbody>\n",
       "</table>\n",
       "<p>8 rows × 2921 columns</p>\n",
       "</div>"
      ],
      "text/plain": [
       "           0     1     2     3     4     5     6     7     8     9     ...  \\\n",
       "PasTotCmp  34.0  38.7  55.9  40.7   4.0  11.1  7.27  14.6  31.3  64.3  ...   \n",
       "PasTotAtt  45.0  47.0  61.0  49.8  12.0  17.2  9.09  20.2  35.5  71.1  ...   \n",
       "PasAtt     45.0  47.0  61.0  49.8  12.0  17.2  9.09  20.2  35.5  71.1  ...   \n",
       "PasCrs     1.41  0.06  0.36  0.79   2.0  0.25  0.91   0.7   0.0  0.04  ...   \n",
       "PasCmp     34.0  38.7  55.9  40.7   4.0  11.1  7.27  14.6  31.3  64.3  ...   \n",
       "TklWon     1.16  1.39  1.24  2.23   0.0  0.86   0.0  0.64  0.97  0.43  ...   \n",
       "Crs        1.41  0.06  0.36  0.79   2.0  0.25  0.91   0.7   0.0  0.04  ...   \n",
       "TklW       1.16  1.39  1.24  2.23   0.0  0.86   0.0  0.64  0.97  0.43  ...   \n",
       "\n",
       "           2911  2912  2913  2914  2915  2916  2917  2918  2919  2920  \n",
       "PasTotCmp  20.3  26.7  36.6  23.3  50.2  43.2  28.6  43.9  17.7  24.5  \n",
       "PasTotAtt  31.0  28.9  41.1  33.3  56.6  50.4  35.7  51.7  28.3  30.1  \n",
       "PasAtt     31.0  28.9  41.1  33.3  56.6  50.4  35.7  51.7  28.3  30.1  \n",
       "PasCrs     3.18   0.0  0.09   0.0  0.22   0.1  0.74  0.84  0.29   0.0  \n",
       "PasCmp     20.3  26.7  36.6  23.3  50.2  43.2  28.6  43.9  17.7  24.5  \n",
       "TklWon     0.83   0.0  0.22   0.0  0.82  1.08  1.91  0.81  0.17  0.93  \n",
       "Crs        3.18   0.0  0.09   0.0  0.22   0.1  0.74  0.84  0.29   0.0  \n",
       "TklW       0.83   0.0  0.22   0.0  0.82  1.08  1.91  0.81  0.17  0.93  \n",
       "\n",
       "[8 rows x 2921 columns]"
      ]
     },
     "execution_count": 21,
     "metadata": {},
     "output_type": "execute_result"
    }
   ],
   "source": [
    "player_stats2022.T[player_stats2022.T.duplicated(keep = False)]"
   ]
  },
  {
   "cell_type": "markdown",
   "id": "c7869ed9-4c94-48eb-88f0-bbb9b8c6164a",
   "metadata": {},
   "source": [
    "The duplicate columns are indentical to those in the first dataset. We can choose to drop one of the columns of each pair in both of the datasets. I will drop PasTotCmp, PasTotAtt, Crs, TklW, due to their relative position in the columns (these dropped columns have more complex names or are awkwardly positioned within the columns). "
   ]
  },
  {
   "cell_type": "code",
   "execution_count": 22,
   "id": "56ee4741-0cae-4462-aafa-c4a9837ab778",
   "metadata": {
    "tags": []
   },
   "outputs": [],
   "source": [
    "player_stats2023.drop(columns = ['PasTotCmp','PasTotAtt', 'Crs','TklW'], inplace = True)"
   ]
  },
  {
   "cell_type": "code",
   "execution_count": 23,
   "id": "39878b17-db38-42f2-b436-ad4414c60c82",
   "metadata": {
    "tags": []
   },
   "outputs": [],
   "source": [
    "player_stats2022.drop(columns = ['PasTotCmp','PasTotAtt', 'Crs','TklW'], inplace = True)"
   ]
  },
  {
   "cell_type": "code",
   "execution_count": 24,
   "id": "2907e32e-c188-44d4-ab6b-038afae8dee1",
   "metadata": {
    "tags": []
   },
   "outputs": [
    {
     "data": {
      "text/html": [
       "<div>\n",
       "<style scoped>\n",
       "    .dataframe tbody tr th:only-of-type {\n",
       "        vertical-align: middle;\n",
       "    }\n",
       "\n",
       "    .dataframe tbody tr th {\n",
       "        vertical-align: top;\n",
       "    }\n",
       "\n",
       "    .dataframe thead th {\n",
       "        text-align: right;\n",
       "    }\n",
       "</style>\n",
       "<table border=\"1\" class=\"dataframe\">\n",
       "  <thead>\n",
       "    <tr style=\"text-align: right;\">\n",
       "      <th></th>\n",
       "      <th>0</th>\n",
       "      <th>1</th>\n",
       "      <th>2</th>\n",
       "      <th>3</th>\n",
       "      <th>4</th>\n",
       "      <th>5</th>\n",
       "      <th>6</th>\n",
       "      <th>7</th>\n",
       "      <th>8</th>\n",
       "      <th>9</th>\n",
       "      <th>...</th>\n",
       "      <th>2679</th>\n",
       "      <th>2680</th>\n",
       "      <th>2681</th>\n",
       "      <th>2682</th>\n",
       "      <th>2683</th>\n",
       "      <th>2684</th>\n",
       "      <th>2685</th>\n",
       "      <th>2686</th>\n",
       "      <th>2687</th>\n",
       "      <th>2688</th>\n",
       "    </tr>\n",
       "  </thead>\n",
       "  <tbody>\n",
       "  </tbody>\n",
       "</table>\n",
       "<p>0 rows × 2689 columns</p>\n",
       "</div>"
      ],
      "text/plain": [
       "Empty DataFrame\n",
       "Columns: [0, 1, 2, 3, 4, 5, 6, 7, 8, 9, 10, 11, 12, 13, 14, 15, 16, 17, 18, 19, 20, 21, 22, 23, 24, 25, 26, 27, 28, 29, 30, 31, 32, 33, 34, 35, 36, 37, 38, 39, 40, 41, 42, 43, 44, 45, 46, 47, 48, 49, 50, 51, 52, 53, 54, 55, 56, 57, 58, 59, 60, 61, 62, 63, 64, 65, 66, 67, 68, 69, 70, 71, 72, 73, 74, 75, 76, 77, 78, 79, 80, 81, 82, 83, 84, 85, 86, 87, 88, 89, 90, 91, 92, 93, 94, 95, 96, 97, 98, 99, ...]\n",
       "Index: []\n",
       "\n",
       "[0 rows x 2689 columns]"
      ]
     },
     "execution_count": 24,
     "metadata": {},
     "output_type": "execute_result"
    }
   ],
   "source": [
    "# Sanity check\n",
    "player_stats2023.T[player_stats2023.T.duplicated(keep = False)]"
   ]
  },
  {
   "cell_type": "code",
   "execution_count": 25,
   "id": "2bf740d3-0187-4f27-a0c1-3039b800d956",
   "metadata": {
    "tags": []
   },
   "outputs": [
    {
     "data": {
      "text/html": [
       "<div>\n",
       "<style scoped>\n",
       "    .dataframe tbody tr th:only-of-type {\n",
       "        vertical-align: middle;\n",
       "    }\n",
       "\n",
       "    .dataframe tbody tr th {\n",
       "        vertical-align: top;\n",
       "    }\n",
       "\n",
       "    .dataframe thead th {\n",
       "        text-align: right;\n",
       "    }\n",
       "</style>\n",
       "<table border=\"1\" class=\"dataframe\">\n",
       "  <thead>\n",
       "    <tr style=\"text-align: right;\">\n",
       "      <th></th>\n",
       "      <th>0</th>\n",
       "      <th>1</th>\n",
       "      <th>2</th>\n",
       "      <th>3</th>\n",
       "      <th>4</th>\n",
       "      <th>5</th>\n",
       "      <th>6</th>\n",
       "      <th>7</th>\n",
       "      <th>8</th>\n",
       "      <th>9</th>\n",
       "      <th>...</th>\n",
       "      <th>2911</th>\n",
       "      <th>2912</th>\n",
       "      <th>2913</th>\n",
       "      <th>2914</th>\n",
       "      <th>2915</th>\n",
       "      <th>2916</th>\n",
       "      <th>2917</th>\n",
       "      <th>2918</th>\n",
       "      <th>2919</th>\n",
       "      <th>2920</th>\n",
       "    </tr>\n",
       "  </thead>\n",
       "  <tbody>\n",
       "  </tbody>\n",
       "</table>\n",
       "<p>0 rows × 2921 columns</p>\n",
       "</div>"
      ],
      "text/plain": [
       "Empty DataFrame\n",
       "Columns: [0, 1, 2, 3, 4, 5, 6, 7, 8, 9, 10, 11, 12, 13, 14, 15, 16, 17, 18, 19, 20, 21, 22, 23, 24, 25, 26, 27, 28, 29, 30, 31, 32, 33, 34, 35, 36, 37, 38, 39, 40, 41, 42, 43, 44, 45, 46, 47, 48, 49, 50, 51, 52, 53, 54, 55, 56, 57, 58, 59, 60, 61, 62, 63, 64, 65, 66, 67, 68, 69, 70, 71, 72, 73, 74, 75, 76, 77, 78, 79, 80, 81, 82, 83, 84, 85, 86, 87, 88, 89, 90, 91, 92, 93, 94, 95, 96, 97, 98, 99, ...]\n",
       "Index: []\n",
       "\n",
       "[0 rows x 2921 columns]"
      ]
     },
     "execution_count": 25,
     "metadata": {},
     "output_type": "execute_result"
    }
   ],
   "source": [
    "# Sanity check\n",
    "player_stats2022.T[player_stats2022.T.duplicated(keep = False)]"
   ]
  },
  {
   "cell_type": "markdown",
   "id": "489ff7b7-1d8f-4577-afe2-ba4b4056f0de",
   "metadata": {
    "tags": []
   },
   "source": [
    "Next, let's investigate the unique columns that in this dataset as opposed to the first dataset.\n",
    "\n",
    "We need to check both sides: even though the 2023 dataset has less columns, there may be columns in the 2023 dataset that is not available in the 2022 dataset."
   ]
  },
  {
   "cell_type": "code",
   "execution_count": 26,
   "id": "0cfe490b-0fb9-4b36-9dd3-843a78426aab",
   "metadata": {
    "tags": []
   },
   "outputs": [
    {
     "name": "stdout",
     "output_type": "stream",
     "text": [
      "These columns are unique to 2023 Dataset: {'ToTkl%', 'ToSuc%', 'ToSuc', 'ToTkl', 'ToAtt'}\n"
     ]
    }
   ],
   "source": [
    "# We use the set function to find unique columns in each dataset\n",
    "Unique2023 = set(player_stats2023.columns) - set(player_stats2022.columns)\n",
    "print(f'These columns are unique to 2023 Dataset: {Unique2023}')"
   ]
  },
  {
   "cell_type": "code",
   "execution_count": 27,
   "id": "408946ab-57b5-49c1-8062-1b56fcea1459",
   "metadata": {
    "tags": []
   },
   "outputs": [
    {
     "name": "stdout",
     "output_type": "stream",
     "text": [
      "These columns are unique to 2022 Dataset: {'DriMegs', 'DriSucc%', 'PasHigh', 'Press', 'BlkShSv', 'PasPress', 'RecTarg', 'PaswOther', 'PresSucc', 'DriAtt', 'PaswLeft', 'PresAtt3rd', 'DriSucc', 'PasLow', 'PresDef3rd', 'PasInt', 'Press%', 'PaswHead', 'DriPast', 'PresMid3rd', 'PasGround', 'Rec%', 'PaswRight', 'PasOut'}\n"
     ]
    }
   ],
   "source": [
    "Unique2022 = set(player_stats2022.columns) - set(player_stats2023.columns)\n",
    "print(f'These columns are unique to 2022 Dataset: {Unique2022}')"
   ]
  },
  {
   "cell_type": "code",
   "execution_count": 28,
   "id": "ba698758-f15a-408e-8adf-2fcb8d69c81b",
   "metadata": {
    "tags": []
   },
   "outputs": [
    {
     "data": {
      "text/html": [
       "<div>\n",
       "<style scoped>\n",
       "    .dataframe tbody tr th:only-of-type {\n",
       "        vertical-align: middle;\n",
       "    }\n",
       "\n",
       "    .dataframe tbody tr th {\n",
       "        vertical-align: top;\n",
       "    }\n",
       "\n",
       "    .dataframe thead th {\n",
       "        text-align: right;\n",
       "    }\n",
       "</style>\n",
       "<table border=\"1\" class=\"dataframe\">\n",
       "  <thead>\n",
       "    <tr style=\"text-align: right;\">\n",
       "      <th></th>\n",
       "      <th>DriMegs</th>\n",
       "      <th>DriSucc%</th>\n",
       "      <th>PasHigh</th>\n",
       "      <th>Press</th>\n",
       "      <th>BlkShSv</th>\n",
       "      <th>PasPress</th>\n",
       "      <th>RecTarg</th>\n",
       "      <th>PaswOther</th>\n",
       "      <th>PresSucc</th>\n",
       "      <th>DriAtt</th>\n",
       "      <th>...</th>\n",
       "      <th>PresDef3rd</th>\n",
       "      <th>PasInt</th>\n",
       "      <th>Press%</th>\n",
       "      <th>PaswHead</th>\n",
       "      <th>DriPast</th>\n",
       "      <th>PresMid3rd</th>\n",
       "      <th>PasGround</th>\n",
       "      <th>Rec%</th>\n",
       "      <th>PaswRight</th>\n",
       "      <th>PasOut</th>\n",
       "    </tr>\n",
       "  </thead>\n",
       "  <tbody>\n",
       "    <tr>\n",
       "      <th>0</th>\n",
       "      <td>0.19</td>\n",
       "      <td>42.3</td>\n",
       "      <td>8.94</td>\n",
       "      <td>13.6</td>\n",
       "      <td>0.03</td>\n",
       "      <td>5.41</td>\n",
       "      <td>36.0</td>\n",
       "      <td>0.06</td>\n",
       "      <td>3.53</td>\n",
       "      <td>2.44</td>\n",
       "      <td>...</td>\n",
       "      <td>7.97</td>\n",
       "      <td>1.63</td>\n",
       "      <td>26.0</td>\n",
       "      <td>0.91</td>\n",
       "      <td>1.09</td>\n",
       "      <td>4.38</td>\n",
       "      <td>26.50</td>\n",
       "      <td>89.9</td>\n",
       "      <td>29.00</td>\n",
       "      <td>0.88</td>\n",
       "    </tr>\n",
       "    <tr>\n",
       "      <th>1</th>\n",
       "      <td>0.03</td>\n",
       "      <td>72.7</td>\n",
       "      <td>7.95</td>\n",
       "      <td>13.6</td>\n",
       "      <td>0.06</td>\n",
       "      <td>5.68</td>\n",
       "      <td>37.5</td>\n",
       "      <td>0.12</td>\n",
       "      <td>4.89</td>\n",
       "      <td>0.66</td>\n",
       "      <td>...</td>\n",
       "      <td>7.61</td>\n",
       "      <td>1.24</td>\n",
       "      <td>35.9</td>\n",
       "      <td>1.48</td>\n",
       "      <td>0.48</td>\n",
       "      <td>5.14</td>\n",
       "      <td>35.30</td>\n",
       "      <td>96.9</td>\n",
       "      <td>12.10</td>\n",
       "      <td>0.97</td>\n",
       "    </tr>\n",
       "    <tr>\n",
       "      <th>2</th>\n",
       "      <td>0.07</td>\n",
       "      <td>64.3</td>\n",
       "      <td>3.72</td>\n",
       "      <td>23.4</td>\n",
       "      <td>0.00</td>\n",
       "      <td>8.03</td>\n",
       "      <td>58.6</td>\n",
       "      <td>0.29</td>\n",
       "      <td>6.53</td>\n",
       "      <td>1.53</td>\n",
       "      <td>...</td>\n",
       "      <td>7.19</td>\n",
       "      <td>1.24</td>\n",
       "      <td>27.9</td>\n",
       "      <td>1.90</td>\n",
       "      <td>1.09</td>\n",
       "      <td>12.30</td>\n",
       "      <td>52.60</td>\n",
       "      <td>92.5</td>\n",
       "      <td>53.10</td>\n",
       "      <td>0.58</td>\n",
       "    </tr>\n",
       "    <tr>\n",
       "      <th>3</th>\n",
       "      <td>0.09</td>\n",
       "      <td>64.6</td>\n",
       "      <td>6.65</td>\n",
       "      <td>28.0</td>\n",
       "      <td>0.00</td>\n",
       "      <td>9.48</td>\n",
       "      <td>46.3</td>\n",
       "      <td>0.15</td>\n",
       "      <td>7.90</td>\n",
       "      <td>1.98</td>\n",
       "      <td>...</td>\n",
       "      <td>9.27</td>\n",
       "      <td>1.83</td>\n",
       "      <td>28.2</td>\n",
       "      <td>0.73</td>\n",
       "      <td>1.34</td>\n",
       "      <td>15.30</td>\n",
       "      <td>37.60</td>\n",
       "      <td>93.0</td>\n",
       "      <td>43.90</td>\n",
       "      <td>0.55</td>\n",
       "    </tr>\n",
       "    <tr>\n",
       "      <th>4</th>\n",
       "      <td>0.00</td>\n",
       "      <td>0.0</td>\n",
       "      <td>2.00</td>\n",
       "      <td>28.0</td>\n",
       "      <td>0.00</td>\n",
       "      <td>6.00</td>\n",
       "      <td>24.0</td>\n",
       "      <td>0.00</td>\n",
       "      <td>2.00</td>\n",
       "      <td>0.00</td>\n",
       "      <td>...</td>\n",
       "      <td>0.00</td>\n",
       "      <td>4.00</td>\n",
       "      <td>7.1</td>\n",
       "      <td>0.00</td>\n",
       "      <td>0.00</td>\n",
       "      <td>22.00</td>\n",
       "      <td>10.00</td>\n",
       "      <td>66.7</td>\n",
       "      <td>0.00</td>\n",
       "      <td>0.00</td>\n",
       "    </tr>\n",
       "    <tr>\n",
       "      <th>...</th>\n",
       "      <td>...</td>\n",
       "      <td>...</td>\n",
       "      <td>...</td>\n",
       "      <td>...</td>\n",
       "      <td>...</td>\n",
       "      <td>...</td>\n",
       "      <td>...</td>\n",
       "      <td>...</td>\n",
       "      <td>...</td>\n",
       "      <td>...</td>\n",
       "      <td>...</td>\n",
       "      <td>...</td>\n",
       "      <td>...</td>\n",
       "      <td>...</td>\n",
       "      <td>...</td>\n",
       "      <td>...</td>\n",
       "      <td>...</td>\n",
       "      <td>...</td>\n",
       "      <td>...</td>\n",
       "      <td>...</td>\n",
       "      <td>...</td>\n",
       "    </tr>\n",
       "    <tr>\n",
       "      <th>2916</th>\n",
       "      <td>0.00</td>\n",
       "      <td>62.5</td>\n",
       "      <td>7.57</td>\n",
       "      <td>13.7</td>\n",
       "      <td>0.00</td>\n",
       "      <td>9.06</td>\n",
       "      <td>41.9</td>\n",
       "      <td>0.28</td>\n",
       "      <td>4.48</td>\n",
       "      <td>0.56</td>\n",
       "      <td>...</td>\n",
       "      <td>4.58</td>\n",
       "      <td>1.35</td>\n",
       "      <td>32.7</td>\n",
       "      <td>1.81</td>\n",
       "      <td>0.42</td>\n",
       "      <td>7.50</td>\n",
       "      <td>37.80</td>\n",
       "      <td>96.9</td>\n",
       "      <td>35.50</td>\n",
       "      <td>0.83</td>\n",
       "    </tr>\n",
       "    <tr>\n",
       "      <th>2917</th>\n",
       "      <td>0.04</td>\n",
       "      <td>70.0</td>\n",
       "      <td>3.79</td>\n",
       "      <td>18.6</td>\n",
       "      <td>0.04</td>\n",
       "      <td>8.63</td>\n",
       "      <td>38.9</td>\n",
       "      <td>0.16</td>\n",
       "      <td>5.47</td>\n",
       "      <td>1.56</td>\n",
       "      <td>...</td>\n",
       "      <td>6.52</td>\n",
       "      <td>1.41</td>\n",
       "      <td>29.4</td>\n",
       "      <td>0.70</td>\n",
       "      <td>1.17</td>\n",
       "      <td>7.58</td>\n",
       "      <td>28.20</td>\n",
       "      <td>86.5</td>\n",
       "      <td>28.10</td>\n",
       "      <td>0.63</td>\n",
       "    </tr>\n",
       "    <tr>\n",
       "      <th>2918</th>\n",
       "      <td>0.06</td>\n",
       "      <td>52.4</td>\n",
       "      <td>5.89</td>\n",
       "      <td>18.6</td>\n",
       "      <td>0.00</td>\n",
       "      <td>7.99</td>\n",
       "      <td>51.4</td>\n",
       "      <td>0.42</td>\n",
       "      <td>4.98</td>\n",
       "      <td>1.36</td>\n",
       "      <td>...</td>\n",
       "      <td>3.46</td>\n",
       "      <td>1.75</td>\n",
       "      <td>26.8</td>\n",
       "      <td>1.10</td>\n",
       "      <td>0.74</td>\n",
       "      <td>8.48</td>\n",
       "      <td>40.30</td>\n",
       "      <td>87.5</td>\n",
       "      <td>4.17</td>\n",
       "      <td>0.49</td>\n",
       "    </tr>\n",
       "    <tr>\n",
       "      <th>2919</th>\n",
       "      <td>0.04</td>\n",
       "      <td>64.7</td>\n",
       "      <td>8.67</td>\n",
       "      <td>10.3</td>\n",
       "      <td>0.00</td>\n",
       "      <td>14.40</td>\n",
       "      <td>47.3</td>\n",
       "      <td>2.07</td>\n",
       "      <td>2.45</td>\n",
       "      <td>0.71</td>\n",
       "      <td>...</td>\n",
       "      <td>0.29</td>\n",
       "      <td>1.29</td>\n",
       "      <td>23.8</td>\n",
       "      <td>5.06</td>\n",
       "      <td>0.50</td>\n",
       "      <td>4.15</td>\n",
       "      <td>9.29</td>\n",
       "      <td>65.0</td>\n",
       "      <td>8.96</td>\n",
       "      <td>0.41</td>\n",
       "    </tr>\n",
       "    <tr>\n",
       "      <th>2920</th>\n",
       "      <td>0.13</td>\n",
       "      <td>44.4</td>\n",
       "      <td>2.67</td>\n",
       "      <td>15.2</td>\n",
       "      <td>0.00</td>\n",
       "      <td>7.07</td>\n",
       "      <td>40.4</td>\n",
       "      <td>0.00</td>\n",
       "      <td>4.53</td>\n",
       "      <td>2.40</td>\n",
       "      <td>...</td>\n",
       "      <td>3.20</td>\n",
       "      <td>1.33</td>\n",
       "      <td>29.8</td>\n",
       "      <td>0.67</td>\n",
       "      <td>1.07</td>\n",
       "      <td>8.13</td>\n",
       "      <td>24.50</td>\n",
       "      <td>80.2</td>\n",
       "      <td>26.40</td>\n",
       "      <td>0.13</td>\n",
       "    </tr>\n",
       "  </tbody>\n",
       "</table>\n",
       "<p>2921 rows × 24 columns</p>\n",
       "</div>"
      ],
      "text/plain": [
       "      DriMegs  DriSucc%  PasHigh  Press  BlkShSv  PasPress  RecTarg  \\\n",
       "0        0.19      42.3     8.94   13.6     0.03      5.41     36.0   \n",
       "1        0.03      72.7     7.95   13.6     0.06      5.68     37.5   \n",
       "2        0.07      64.3     3.72   23.4     0.00      8.03     58.6   \n",
       "3        0.09      64.6     6.65   28.0     0.00      9.48     46.3   \n",
       "4        0.00       0.0     2.00   28.0     0.00      6.00     24.0   \n",
       "...       ...       ...      ...    ...      ...       ...      ...   \n",
       "2916     0.00      62.5     7.57   13.7     0.00      9.06     41.9   \n",
       "2917     0.04      70.0     3.79   18.6     0.04      8.63     38.9   \n",
       "2918     0.06      52.4     5.89   18.6     0.00      7.99     51.4   \n",
       "2919     0.04      64.7     8.67   10.3     0.00     14.40     47.3   \n",
       "2920     0.13      44.4     2.67   15.2     0.00      7.07     40.4   \n",
       "\n",
       "      PaswOther  PresSucc  DriAtt  ...  PresDef3rd  PasInt  Press%  PaswHead  \\\n",
       "0          0.06      3.53    2.44  ...        7.97    1.63    26.0      0.91   \n",
       "1          0.12      4.89    0.66  ...        7.61    1.24    35.9      1.48   \n",
       "2          0.29      6.53    1.53  ...        7.19    1.24    27.9      1.90   \n",
       "3          0.15      7.90    1.98  ...        9.27    1.83    28.2      0.73   \n",
       "4          0.00      2.00    0.00  ...        0.00    4.00     7.1      0.00   \n",
       "...         ...       ...     ...  ...         ...     ...     ...       ...   \n",
       "2916       0.28      4.48    0.56  ...        4.58    1.35    32.7      1.81   \n",
       "2917       0.16      5.47    1.56  ...        6.52    1.41    29.4      0.70   \n",
       "2918       0.42      4.98    1.36  ...        3.46    1.75    26.8      1.10   \n",
       "2919       2.07      2.45    0.71  ...        0.29    1.29    23.8      5.06   \n",
       "2920       0.00      4.53    2.40  ...        3.20    1.33    29.8      0.67   \n",
       "\n",
       "      DriPast  PresMid3rd  PasGround  Rec%  PaswRight  PasOut  \n",
       "0        1.09        4.38      26.50  89.9      29.00    0.88  \n",
       "1        0.48        5.14      35.30  96.9      12.10    0.97  \n",
       "2        1.09       12.30      52.60  92.5      53.10    0.58  \n",
       "3        1.34       15.30      37.60  93.0      43.90    0.55  \n",
       "4        0.00       22.00      10.00  66.7       0.00    0.00  \n",
       "...       ...         ...        ...   ...        ...     ...  \n",
       "2916     0.42        7.50      37.80  96.9      35.50    0.83  \n",
       "2917     1.17        7.58      28.20  86.5      28.10    0.63  \n",
       "2918     0.74        8.48      40.30  87.5       4.17    0.49  \n",
       "2919     0.50        4.15       9.29  65.0       8.96    0.41  \n",
       "2920     1.07        8.13      24.50  80.2      26.40    0.13  \n",
       "\n",
       "[2921 rows x 24 columns]"
      ]
     },
     "execution_count": 28,
     "metadata": {},
     "output_type": "execute_result"
    }
   ],
   "source": [
    "player_stats2022[list(Unique2022)]"
   ]
  },
  {
   "cell_type": "markdown",
   "id": "80b87b38-457a-4560-8b88-1ec052ff1dd1",
   "metadata": {},
   "source": [
    "These variables do look interesting. For now, we can update our data dictionary with these unique columns:\n",
    "- **PresMid3rd**: Number of times applying pressure to opposing player who is receiving, carrying or releasing the ball, in the middle 1/3\n",
    "- **BlkShSv**: Number of times blocking a shot that was on target, by standing in its path\n",
    "- **Rec%**: Percentage of time a player successfully received a pass\n",
    "- **PresSucc**: Number of times the squad gained possession within five seconds of applying pressure\n",
    "- **DriPast**: Number of players dribbled past\n",
    "- **PresAtt3rd**: Number of times applying pressure to opposing player who is receiving, carrying or releasing the ball, in the attacking 1/3\n",
    "- **PaswOther**: Passes attempted using body parts other than the player's head or feet\n",
    "- **DriMegs**: Number of times a player dribbled the ball through an opposing player's legs\n",
    "- **PasLow**: Passes that leave the ground but stay below shoulder-level\n",
    "- **DriSucc**: Dribbles completed successfully\n",
    "- **DriSucc%**: Percentage of dribbles completed successfully\n",
    "- **DriAtt**: Dribbles attempted\n",
    "- **RecTarg**: Number of times a player was the target of an attempted pass\n",
    "- **PasGround**: Ground passes\n",
    "- **PaswRight**: Passes attempted using right foot\n",
    "- **PasHigh**: Passes that are above shoulder-level at the peak height\n",
    "- **PasInt**: Intercepted passes\n",
    "- **PasOut**: Passes that went out of bounds\n",
    "- **PaswLeft**: Passes attempted using left foot\n",
    "- **PaswHead**: Passes attempted using head\n",
    "- **Press**: Number of times applying pressure to an opposing player\n",
    "- **PresDef3rd**: Number of times applying pressure to an opposing player, in the defensive 1/3\n",
    "- **PasPress**: Passes made while under pressure from an opponent\n",
    "- **Press%**: Percentage of time the squad gained possession within five seconds of applying pressure\n",
    "\n",
    "We will decide what to do with these columns later. My initial thoughts are to drop the columns, as they do not exist in the first dataset. Likewise, I will likely drop the unique columns in the first dataset."
   ]
  },
  {
   "cell_type": "markdown",
   "id": "8ed6c7d5-1a05-4bc8-a838-eecc0bcbcc71",
   "metadata": {
    "tags": []
   },
   "source": [
    "#### Null values"
   ]
  },
  {
   "cell_type": "markdown",
   "id": "3793db17-4dd2-4792-a3ff-042cb663f9c9",
   "metadata": {
    "tags": []
   },
   "source": [
    "Next, we check for null values."
   ]
  },
  {
   "cell_type": "code",
   "execution_count": 29,
   "id": "b1cd8559-5378-4e27-8996-73f7f80586af",
   "metadata": {
    "tags": []
   },
   "outputs": [
    {
     "data": {
      "text/html": [
       "<div>\n",
       "<style scoped>\n",
       "    .dataframe tbody tr th:only-of-type {\n",
       "        vertical-align: middle;\n",
       "    }\n",
       "\n",
       "    .dataframe tbody tr th {\n",
       "        vertical-align: top;\n",
       "    }\n",
       "\n",
       "    .dataframe thead th {\n",
       "        text-align: right;\n",
       "    }\n",
       "</style>\n",
       "<table border=\"1\" class=\"dataframe\">\n",
       "  <thead>\n",
       "    <tr style=\"text-align: right;\">\n",
       "      <th></th>\n",
       "      <th>Rk</th>\n",
       "      <th>Player</th>\n",
       "      <th>Nation</th>\n",
       "      <th>Pos</th>\n",
       "      <th>Squad</th>\n",
       "      <th>Comp</th>\n",
       "      <th>Age</th>\n",
       "      <th>Born</th>\n",
       "      <th>MP</th>\n",
       "      <th>Starts</th>\n",
       "      <th>...</th>\n",
       "      <th>Fls</th>\n",
       "      <th>Fld</th>\n",
       "      <th>Off</th>\n",
       "      <th>PKwon</th>\n",
       "      <th>PKcon</th>\n",
       "      <th>OG</th>\n",
       "      <th>Recov</th>\n",
       "      <th>AerWon</th>\n",
       "      <th>AerLost</th>\n",
       "      <th>AerWon%</th>\n",
       "    </tr>\n",
       "  </thead>\n",
       "  <tbody>\n",
       "    <tr>\n",
       "      <th>1531</th>\n",
       "      <td>1532</td>\n",
       "      <td>Javier Llabrés</td>\n",
       "      <td>NaN</td>\n",
       "      <td>FWMF</td>\n",
       "      <td>Mallorca</td>\n",
       "      <td>La Liga</td>\n",
       "      <td>NaN</td>\n",
       "      <td>0</td>\n",
       "      <td>5</td>\n",
       "      <td>1</td>\n",
       "      <td>...</td>\n",
       "      <td>0.0</td>\n",
       "      <td>0.67</td>\n",
       "      <td>0.67</td>\n",
       "      <td>0.0</td>\n",
       "      <td>0.0</td>\n",
       "      <td>0.0</td>\n",
       "      <td>5.33</td>\n",
       "      <td>0.67</td>\n",
       "      <td>2.0</td>\n",
       "      <td>25.0</td>\n",
       "    </tr>\n",
       "  </tbody>\n",
       "</table>\n",
       "<p>1 rows × 139 columns</p>\n",
       "</div>"
      ],
      "text/plain": [
       "        Rk          Player Nation   Pos     Squad     Comp  Age  Born  MP  \\\n",
       "1531  1532  Javier Llabrés    NaN  FWMF  Mallorca  La Liga  NaN     0   5   \n",
       "\n",
       "      Starts  ...  Fls   Fld   Off  PKwon  PKcon   OG  Recov  AerWon  AerLost  \\\n",
       "1531       1  ...  0.0  0.67  0.67    0.0    0.0  0.0   5.33    0.67      2.0   \n",
       "\n",
       "      AerWon%  \n",
       "1531     25.0  \n",
       "\n",
       "[1 rows x 139 columns]"
      ]
     },
     "execution_count": 29,
     "metadata": {},
     "output_type": "execute_result"
    }
   ],
   "source": [
    "player_stats2022[player_stats2022.isna().any(axis = 1)]"
   ]
  },
  {
   "cell_type": "code",
   "execution_count": 30,
   "id": "0c9b8d47-3e7b-4da2-8833-67bdd7946380",
   "metadata": {
    "tags": []
   },
   "outputs": [],
   "source": [
    "# Replace the values with information obtained from google.\n",
    "player_stats2022.loc[1531,'Nation'] = 'Spain'\n",
    "player_stats2022.loc[1531, 'Age'] = 20.0"
   ]
  },
  {
   "cell_type": "code",
   "execution_count": 31,
   "id": "1bfe3afb-04f8-4912-8754-a2b929ec00d5",
   "metadata": {
    "tags": []
   },
   "outputs": [
    {
     "data": {
      "text/html": [
       "<div>\n",
       "<style scoped>\n",
       "    .dataframe tbody tr th:only-of-type {\n",
       "        vertical-align: middle;\n",
       "    }\n",
       "\n",
       "    .dataframe tbody tr th {\n",
       "        vertical-align: top;\n",
       "    }\n",
       "\n",
       "    .dataframe thead th {\n",
       "        text-align: right;\n",
       "    }\n",
       "</style>\n",
       "<table border=\"1\" class=\"dataframe\">\n",
       "  <thead>\n",
       "    <tr style=\"text-align: right;\">\n",
       "      <th></th>\n",
       "      <th>Rk</th>\n",
       "      <th>Player</th>\n",
       "      <th>Nation</th>\n",
       "      <th>Pos</th>\n",
       "      <th>Squad</th>\n",
       "      <th>Comp</th>\n",
       "      <th>Age</th>\n",
       "      <th>Born</th>\n",
       "      <th>MP</th>\n",
       "      <th>Starts</th>\n",
       "      <th>...</th>\n",
       "      <th>Fls</th>\n",
       "      <th>Fld</th>\n",
       "      <th>Off</th>\n",
       "      <th>PKwon</th>\n",
       "      <th>PKcon</th>\n",
       "      <th>OG</th>\n",
       "      <th>Recov</th>\n",
       "      <th>AerWon</th>\n",
       "      <th>AerLost</th>\n",
       "      <th>AerWon%</th>\n",
       "    </tr>\n",
       "  </thead>\n",
       "  <tbody>\n",
       "  </tbody>\n",
       "</table>\n",
       "<p>0 rows × 139 columns</p>\n",
       "</div>"
      ],
      "text/plain": [
       "Empty DataFrame\n",
       "Columns: [Rk, Player, Nation, Pos, Squad, Comp, Age, Born, MP, Starts, Min, 90s, Goals, Shots, SoT, SoT%, G/Sh, G/SoT, ShoDist, ShoFK, ShoPK, PKatt, PasTotCmp%, PasTotDist, PasTotPrgDist, PasShoCmp, PasShoAtt, PasShoCmp%, PasMedCmp, PasMedAtt, PasMedCmp%, PasLonCmp, PasLonAtt, PasLonCmp%, Assists, PasAss, Pas3rd, PPA, CrsPA, PasProg, PasAtt, PasLive, PasDead, PasFK, TB, PasPress, Sw, PasCrs, CK, CkIn, CkOut, CkStr, PasGround, PasLow, PasHigh, PaswLeft, PaswRight, PaswHead, TI, PaswOther, PasCmp, PasOff, PasOut, PasInt, PasBlocks, SCA, ScaPassLive, ScaPassDead, ScaDrib, ScaSh, ScaFld, ScaDef, GCA, GcaPassLive, GcaPassDead, GcaDrib, GcaSh, GcaFld, GcaDef, Tkl, TklWon, TklDef3rd, TklMid3rd, TklAtt3rd, TklDri, TklDriAtt, TklDri%, TklDriPast, Press, PresSucc, Press%, PresDef3rd, PresMid3rd, PresAtt3rd, Blocks, BlkSh, BlkShSv, BlkPass, Int, Tkl+Int, ...]\n",
       "Index: []\n",
       "\n",
       "[0 rows x 139 columns]"
      ]
     },
     "execution_count": 31,
     "metadata": {},
     "output_type": "execute_result"
    }
   ],
   "source": [
    "# Sanity check\n",
    "player_stats2022[player_stats2022.isna().any(axis = 1)]"
   ]
  },
  {
   "cell_type": "markdown",
   "id": "c600cd7c-4415-4c4b-bcac-99796d5a8bcd",
   "metadata": {},
   "source": [
    "### Players and Player Valuation Datasets\n",
    "Next, we investigate the `players` and `players_valuation` datasets"
   ]
  },
  {
   "cell_type": "code",
   "execution_count": 32,
   "id": "bd02127e-115e-4363-83df-b083ea980cd0",
   "metadata": {
    "tags": []
   },
   "outputs": [
    {
     "data": {
      "text/html": [
       "<div>\n",
       "<style scoped>\n",
       "    .dataframe tbody tr th:only-of-type {\n",
       "        vertical-align: middle;\n",
       "    }\n",
       "\n",
       "    .dataframe tbody tr th {\n",
       "        vertical-align: top;\n",
       "    }\n",
       "\n",
       "    .dataframe thead th {\n",
       "        text-align: right;\n",
       "    }\n",
       "</style>\n",
       "<table border=\"1\" class=\"dataframe\">\n",
       "  <thead>\n",
       "    <tr style=\"text-align: right;\">\n",
       "      <th></th>\n",
       "      <th>player_id</th>\n",
       "      <th>first_name</th>\n",
       "      <th>last_name</th>\n",
       "      <th>name</th>\n",
       "      <th>last_season</th>\n",
       "      <th>current_club_id</th>\n",
       "      <th>player_code</th>\n",
       "      <th>country_of_birth</th>\n",
       "      <th>city_of_birth</th>\n",
       "      <th>country_of_citizenship</th>\n",
       "      <th>...</th>\n",
       "      <th>foot</th>\n",
       "      <th>height_in_cm</th>\n",
       "      <th>market_value_in_eur</th>\n",
       "      <th>highest_market_value_in_eur</th>\n",
       "      <th>contract_expiration_date</th>\n",
       "      <th>agent_name</th>\n",
       "      <th>image_url</th>\n",
       "      <th>url</th>\n",
       "      <th>current_club_domestic_competition_id</th>\n",
       "      <th>current_club_name</th>\n",
       "    </tr>\n",
       "  </thead>\n",
       "  <tbody>\n",
       "    <tr>\n",
       "      <th>0</th>\n",
       "      <td>598</td>\n",
       "      <td>Timo</td>\n",
       "      <td>Hildebrand</td>\n",
       "      <td>Timo Hildebrand</td>\n",
       "      <td>2014</td>\n",
       "      <td>24</td>\n",
       "      <td>timo-hildebrand</td>\n",
       "      <td>Germany</td>\n",
       "      <td>Worms</td>\n",
       "      <td>Germany</td>\n",
       "      <td>...</td>\n",
       "      <td>NaN</td>\n",
       "      <td>NaN</td>\n",
       "      <td>NaN</td>\n",
       "      <td>10000000.0</td>\n",
       "      <td>NaN</td>\n",
       "      <td>NaN</td>\n",
       "      <td>https://img.a.transfermarkt.technology/portrai...</td>\n",
       "      <td>https://www.transfermarkt.co.uk/timo-hildebran...</td>\n",
       "      <td>L1</td>\n",
       "      <td>Eintracht Frankfurt</td>\n",
       "    </tr>\n",
       "    <tr>\n",
       "      <th>1</th>\n",
       "      <td>670</td>\n",
       "      <td>Martin</td>\n",
       "      <td>Petrov</td>\n",
       "      <td>Martin Petrov</td>\n",
       "      <td>2012</td>\n",
       "      <td>714</td>\n",
       "      <td>martin-petrov</td>\n",
       "      <td>Bulgaria</td>\n",
       "      <td>Vratsa</td>\n",
       "      <td>Bulgaria</td>\n",
       "      <td>...</td>\n",
       "      <td>NaN</td>\n",
       "      <td>NaN</td>\n",
       "      <td>NaN</td>\n",
       "      <td>12000000.0</td>\n",
       "      <td>NaN</td>\n",
       "      <td>IFM</td>\n",
       "      <td>https://img.a.transfermarkt.technology/portrai...</td>\n",
       "      <td>https://www.transfermarkt.co.uk/martin-petrov/...</td>\n",
       "      <td>ES1</td>\n",
       "      <td>RCD Espanyol Barcelona</td>\n",
       "    </tr>\n",
       "    <tr>\n",
       "      <th>2</th>\n",
       "      <td>1323</td>\n",
       "      <td>Martin</td>\n",
       "      <td>Amedick</td>\n",
       "      <td>Martin Amedick</td>\n",
       "      <td>2012</td>\n",
       "      <td>24</td>\n",
       "      <td>martin-amedick</td>\n",
       "      <td>Germany</td>\n",
       "      <td>Paderborn</td>\n",
       "      <td>Germany</td>\n",
       "      <td>...</td>\n",
       "      <td>NaN</td>\n",
       "      <td>NaN</td>\n",
       "      <td>NaN</td>\n",
       "      <td>2750000.0</td>\n",
       "      <td>NaN</td>\n",
       "      <td>NaN</td>\n",
       "      <td>https://img.a.transfermarkt.technology/portrai...</td>\n",
       "      <td>https://www.transfermarkt.co.uk/martin-amedick...</td>\n",
       "      <td>L1</td>\n",
       "      <td>Eintracht Frankfurt</td>\n",
       "    </tr>\n",
       "    <tr>\n",
       "      <th>3</th>\n",
       "      <td>3195</td>\n",
       "      <td>Jermaine</td>\n",
       "      <td>Pennant</td>\n",
       "      <td>Jermaine Pennant</td>\n",
       "      <td>2013</td>\n",
       "      <td>512</td>\n",
       "      <td>jermaine-pennant</td>\n",
       "      <td>England</td>\n",
       "      <td>Nottingham</td>\n",
       "      <td>England</td>\n",
       "      <td>...</td>\n",
       "      <td>right</td>\n",
       "      <td>173.0</td>\n",
       "      <td>NaN</td>\n",
       "      <td>10500000.0</td>\n",
       "      <td>NaN</td>\n",
       "      <td>Andrew Sky</td>\n",
       "      <td>https://img.a.transfermarkt.technology/portrai...</td>\n",
       "      <td>https://www.transfermarkt.co.uk/jermaine-penna...</td>\n",
       "      <td>GB1</td>\n",
       "      <td>Stoke City</td>\n",
       "    </tr>\n",
       "    <tr>\n",
       "      <th>4</th>\n",
       "      <td>3259</td>\n",
       "      <td>Damien</td>\n",
       "      <td>Duff</td>\n",
       "      <td>Damien Duff</td>\n",
       "      <td>2013</td>\n",
       "      <td>931</td>\n",
       "      <td>damien-duff</td>\n",
       "      <td>Ireland</td>\n",
       "      <td>Ballyboden</td>\n",
       "      <td>Ireland</td>\n",
       "      <td>...</td>\n",
       "      <td>left</td>\n",
       "      <td>177.0</td>\n",
       "      <td>NaN</td>\n",
       "      <td>17000000.0</td>\n",
       "      <td>NaN</td>\n",
       "      <td>NaN</td>\n",
       "      <td>https://img.a.transfermarkt.technology/portrai...</td>\n",
       "      <td>https://www.transfermarkt.co.uk/damien-duff/pr...</td>\n",
       "      <td>GB1</td>\n",
       "      <td>Fulham FC</td>\n",
       "    </tr>\n",
       "  </tbody>\n",
       "</table>\n",
       "<p>5 rows × 23 columns</p>\n",
       "</div>"
      ],
      "text/plain": [
       "   player_id first_name   last_name              name  last_season  \\\n",
       "0        598       Timo  Hildebrand   Timo Hildebrand         2014   \n",
       "1        670     Martin      Petrov     Martin Petrov         2012   \n",
       "2       1323     Martin     Amedick    Martin Amedick         2012   \n",
       "3       3195   Jermaine     Pennant  Jermaine Pennant         2013   \n",
       "4       3259     Damien        Duff       Damien Duff         2013   \n",
       "\n",
       "   current_club_id       player_code country_of_birth city_of_birth  \\\n",
       "0               24   timo-hildebrand          Germany         Worms   \n",
       "1              714     martin-petrov         Bulgaria        Vratsa   \n",
       "2               24    martin-amedick          Germany     Paderborn   \n",
       "3              512  jermaine-pennant          England    Nottingham   \n",
       "4              931       damien-duff          Ireland    Ballyboden   \n",
       "\n",
       "  country_of_citizenship  ...   foot height_in_cm market_value_in_eur  \\\n",
       "0                Germany  ...    NaN          NaN                 NaN   \n",
       "1               Bulgaria  ...    NaN          NaN                 NaN   \n",
       "2                Germany  ...    NaN          NaN                 NaN   \n",
       "3                England  ...  right        173.0                 NaN   \n",
       "4                Ireland  ...   left        177.0                 NaN   \n",
       "\n",
       "  highest_market_value_in_eur  contract_expiration_date  agent_name  \\\n",
       "0                  10000000.0                       NaN         NaN   \n",
       "1                  12000000.0                       NaN         IFM   \n",
       "2                   2750000.0                       NaN         NaN   \n",
       "3                  10500000.0                       NaN  Andrew Sky   \n",
       "4                  17000000.0                       NaN         NaN   \n",
       "\n",
       "                                           image_url  \\\n",
       "0  https://img.a.transfermarkt.technology/portrai...   \n",
       "1  https://img.a.transfermarkt.technology/portrai...   \n",
       "2  https://img.a.transfermarkt.technology/portrai...   \n",
       "3  https://img.a.transfermarkt.technology/portrai...   \n",
       "4  https://img.a.transfermarkt.technology/portrai...   \n",
       "\n",
       "                                                 url  \\\n",
       "0  https://www.transfermarkt.co.uk/timo-hildebran...   \n",
       "1  https://www.transfermarkt.co.uk/martin-petrov/...   \n",
       "2  https://www.transfermarkt.co.uk/martin-amedick...   \n",
       "3  https://www.transfermarkt.co.uk/jermaine-penna...   \n",
       "4  https://www.transfermarkt.co.uk/damien-duff/pr...   \n",
       "\n",
       "  current_club_domestic_competition_id       current_club_name  \n",
       "0                                   L1     Eintracht Frankfurt  \n",
       "1                                  ES1  RCD Espanyol Barcelona  \n",
       "2                                   L1     Eintracht Frankfurt  \n",
       "3                                  GB1              Stoke City  \n",
       "4                                  GB1               Fulham FC  \n",
       "\n",
       "[5 rows x 23 columns]"
      ]
     },
     "execution_count": 32,
     "metadata": {},
     "output_type": "execute_result"
    }
   ],
   "source": [
    "players.head()"
   ]
  },
  {
   "cell_type": "markdown",
   "id": "4def8fcf-563d-481f-a079-b8ecfaad81dc",
   "metadata": {},
   "source": [
    "For the `players` dataset, we need to make sure the `player_id`, `first_name` and `last_name` are properly formatted so we can append it to our our tables. We can quickly take a look at the other columns to see if there is any useful information."
   ]
  },
  {
   "cell_type": "code",
   "execution_count": 33,
   "id": "6007463e-c296-4969-add3-226ff09fb19c",
   "metadata": {
    "tags": []
   },
   "outputs": [
    {
     "name": "stdout",
     "output_type": "stream",
     "text": [
      "<class 'pandas.core.frame.DataFrame'>\n",
      "RangeIndex: 30302 entries, 0 to 30301\n",
      "Data columns (total 23 columns):\n",
      " #   Column                                Non-Null Count  Dtype  \n",
      "---  ------                                --------------  -----  \n",
      " 0   player_id                             30302 non-null  int64  \n",
      " 1   first_name                            28337 non-null  object \n",
      " 2   last_name                             30302 non-null  object \n",
      " 3   name                                  30302 non-null  object \n",
      " 4   last_season                           30302 non-null  int64  \n",
      " 5   current_club_id                       30302 non-null  int64  \n",
      " 6   player_code                           30302 non-null  object \n",
      " 7   country_of_birth                      27613 non-null  object \n",
      " 8   city_of_birth                         28099 non-null  object \n",
      " 9   country_of_citizenship                29759 non-null  object \n",
      " 10  date_of_birth                         30255 non-null  object \n",
      " 11  sub_position                          30130 non-null  object \n",
      " 12  position                              30302 non-null  object \n",
      " 13  foot                                  27913 non-null  object \n",
      " 14  height_in_cm                          28204 non-null  float64\n",
      " 15  market_value_in_eur                   19383 non-null  float64\n",
      " 16  highest_market_value_in_eur           28981 non-null  float64\n",
      " 17  contract_expiration_date              18835 non-null  object \n",
      " 18  agent_name                            14941 non-null  object \n",
      " 19  image_url                             30302 non-null  object \n",
      " 20  url                                   30302 non-null  object \n",
      " 21  current_club_domestic_competition_id  30302 non-null  object \n",
      " 22  current_club_name                     30302 non-null  object \n",
      "dtypes: float64(3), int64(3), object(17)\n",
      "memory usage: 5.3+ MB\n"
     ]
    }
   ],
   "source": [
    "players.info()"
   ]
  },
  {
   "cell_type": "markdown",
   "id": "0176a666-15b6-4a0f-9c51-48fbbd2936da",
   "metadata": {},
   "source": [
    "The height column can be useful, as it is not present in our player statistics datasets. My intuition is that height can play a big role in player valuation, especially for goalkeepers and defenders. We are not using the market value from this table as it is not time specific. The next dataset has valuations at different time markers.\n",
    "\n",
    "Additionally, there are 30302 rows as the time spans from over 20 years ago. However, we only need data for players in the last two years. It is also more likely player data from older times are less complete, having more null values. I will filter the dataset where the `last_season` is greater than 2020."
   ]
  },
  {
   "cell_type": "code",
   "execution_count": 34,
   "id": "361b0eaf-0745-45e4-ada2-e4467ab79319",
   "metadata": {
    "tags": []
   },
   "outputs": [
    {
     "data": {
      "text/plain": [
       "False"
      ]
     },
     "execution_count": 34,
     "metadata": {},
     "output_type": "execute_result"
    }
   ],
   "source": [
    "# We can check duplicates next.\n",
    "players.duplicated().any()"
   ]
  },
  {
   "cell_type": "markdown",
   "id": "1cc5eb32-719f-445c-b804-74387f086264",
   "metadata": {},
   "source": [
    "#### Null Values"
   ]
  },
  {
   "cell_type": "markdown",
   "id": "394740ce-be77-4566-90eb-b808f01feebe",
   "metadata": {},
   "source": [
    "Next, we can take a look at null values. Since we only need the columns - player_id, first_name, last_name and height - we can check for null values only in these columns."
   ]
  },
  {
   "cell_type": "code",
   "execution_count": 35,
   "id": "358ee583-b1b9-43c4-98af-a134b490376c",
   "metadata": {
    "tags": []
   },
   "outputs": [],
   "source": [
    "# Extract the relevant columns out of the dataset\n",
    "players = players[['player_id','first_name','last_name','height_in_cm']]"
   ]
  },
  {
   "cell_type": "code",
   "execution_count": 36,
   "id": "d8dd286e-2193-4f1c-bd37-707572d516f5",
   "metadata": {
    "tags": []
   },
   "outputs": [
    {
     "data": {
      "text/plain": [
       "player_id          0\n",
       "first_name      1965\n",
       "last_name          0\n",
       "height_in_cm    2098\n",
       "dtype: int64"
      ]
     },
     "execution_count": 36,
     "metadata": {},
     "output_type": "execute_result"
    }
   ],
   "source": [
    "players.isna().sum()"
   ]
  },
  {
   "cell_type": "markdown",
   "id": "6eabb663-29c3-4c39-994e-6319a11f662d",
   "metadata": {},
   "source": [
    "It is likely that the null heights are for less known players. Since this dataset contains many more players compared to the player statistics dataset, it is likely these unknown heights are for players in lesser known competitions (i.e. not in the top 5 competitions). "
   ]
  },
  {
   "cell_type": "markdown",
   "id": "f4e4b218-44d8-4d2d-a9eb-f9b3d527cab8",
   "metadata": {},
   "source": [
    "#### Checking names\n",
    "Since we will need to append the first and last name to match the player stats datasets, the absense of a first name is not important. Many players in foreign countries, notably Spain and Brazil, do not have a public/ registered first name so it is unlikely because of data quality issues."
   ]
  },
  {
   "cell_type": "code",
   "execution_count": 37,
   "id": "b381b877-d4fc-435b-8d15-ed292dade4d3",
   "metadata": {
    "tags": []
   },
   "outputs": [
    {
     "data": {
      "text/html": [
       "<div>\n",
       "<style scoped>\n",
       "    .dataframe tbody tr th:only-of-type {\n",
       "        vertical-align: middle;\n",
       "    }\n",
       "\n",
       "    .dataframe tbody tr th {\n",
       "        vertical-align: top;\n",
       "    }\n",
       "\n",
       "    .dataframe thead th {\n",
       "        text-align: right;\n",
       "    }\n",
       "</style>\n",
       "<table border=\"1\" class=\"dataframe\">\n",
       "  <thead>\n",
       "    <tr style=\"text-align: right;\">\n",
       "      <th></th>\n",
       "      <th>player_id</th>\n",
       "      <th>first_name</th>\n",
       "      <th>last_name</th>\n",
       "      <th>height_in_cm</th>\n",
       "    </tr>\n",
       "  </thead>\n",
       "  <tbody>\n",
       "    <tr>\n",
       "      <th>16607</th>\n",
       "      <td>44172</td>\n",
       "      <td>NaN</td>\n",
       "      <td>Vinicius</td>\n",
       "      <td>186.0</td>\n",
       "    </tr>\n",
       "    <tr>\n",
       "      <th>29633</th>\n",
       "      <td>984959</td>\n",
       "      <td>Faissal</td>\n",
       "      <td>El Hajoui</td>\n",
       "      <td>NaN</td>\n",
       "    </tr>\n",
       "    <tr>\n",
       "      <th>1548</th>\n",
       "      <td>13872</td>\n",
       "      <td>NaN</td>\n",
       "      <td>Zé Castro</td>\n",
       "      <td>183.0</td>\n",
       "    </tr>\n",
       "    <tr>\n",
       "      <th>2</th>\n",
       "      <td>1323</td>\n",
       "      <td>Martin</td>\n",
       "      <td>Amedick</td>\n",
       "      <td>NaN</td>\n",
       "    </tr>\n",
       "    <tr>\n",
       "      <th>2325</th>\n",
       "      <td>158427</td>\n",
       "      <td>NaN</td>\n",
       "      <td>Nildo Petrolina</td>\n",
       "      <td>175.0</td>\n",
       "    </tr>\n",
       "    <tr>\n",
       "      <th>20904</th>\n",
       "      <td>251452</td>\n",
       "      <td>Tugay</td>\n",
       "      <td>Kaya</td>\n",
       "      <td>NaN</td>\n",
       "    </tr>\n",
       "    <tr>\n",
       "      <th>17171</th>\n",
       "      <td>253783</td>\n",
       "      <td>Jesse</td>\n",
       "      <td>Renken</td>\n",
       "      <td>NaN</td>\n",
       "    </tr>\n",
       "    <tr>\n",
       "      <th>20307</th>\n",
       "      <td>44358</td>\n",
       "      <td>NaN</td>\n",
       "      <td>Leonardo</td>\n",
       "      <td>188.0</td>\n",
       "    </tr>\n",
       "    <tr>\n",
       "      <th>21674</th>\n",
       "      <td>973825</td>\n",
       "      <td>Alessio</td>\n",
       "      <td>Sternon</td>\n",
       "      <td>NaN</td>\n",
       "    </tr>\n",
       "    <tr>\n",
       "      <th>29883</th>\n",
       "      <td>351898</td>\n",
       "      <td>NaN</td>\n",
       "      <td>Leandrinho</td>\n",
       "      <td>174.0</td>\n",
       "    </tr>\n",
       "    <tr>\n",
       "      <th>28997</th>\n",
       "      <td>586534</td>\n",
       "      <td>Alexandros</td>\n",
       "      <td>Kavvadias</td>\n",
       "      <td>NaN</td>\n",
       "    </tr>\n",
       "    <tr>\n",
       "      <th>14095</th>\n",
       "      <td>399382</td>\n",
       "      <td>Paul-André</td>\n",
       "      <td>Guerin</td>\n",
       "      <td>NaN</td>\n",
       "    </tr>\n",
       "    <tr>\n",
       "      <th>3703</th>\n",
       "      <td>125165</td>\n",
       "      <td>NaN</td>\n",
       "      <td>Tecatito</td>\n",
       "      <td>173.0</td>\n",
       "    </tr>\n",
       "    <tr>\n",
       "      <th>2685</th>\n",
       "      <td>312314</td>\n",
       "      <td>NaN</td>\n",
       "      <td>Otávio</td>\n",
       "      <td>173.0</td>\n",
       "    </tr>\n",
       "    <tr>\n",
       "      <th>21136</th>\n",
       "      <td>364238</td>\n",
       "      <td>Alhassane</td>\n",
       "      <td>Sylla</td>\n",
       "      <td>NaN</td>\n",
       "    </tr>\n",
       "  </tbody>\n",
       "</table>\n",
       "</div>"
      ],
      "text/plain": [
       "       player_id  first_name        last_name  height_in_cm\n",
       "16607      44172         NaN         Vinicius         186.0\n",
       "29633     984959     Faissal        El Hajoui           NaN\n",
       "1548       13872         NaN        Zé Castro         183.0\n",
       "2           1323      Martin          Amedick           NaN\n",
       "2325      158427         NaN  Nildo Petrolina         175.0\n",
       "20904     251452       Tugay             Kaya           NaN\n",
       "17171     253783       Jesse           Renken           NaN\n",
       "20307      44358         NaN         Leonardo         188.0\n",
       "21674     973825     Alessio          Sternon           NaN\n",
       "29883     351898         NaN       Leandrinho         174.0\n",
       "28997     586534  Alexandros        Kavvadias           NaN\n",
       "14095     399382  Paul-André           Guerin           NaN\n",
       "3703      125165         NaN         Tecatito         173.0\n",
       "2685      312314         NaN           Otávio         173.0\n",
       "21136     364238   Alhassane            Sylla           NaN"
      ]
     },
     "execution_count": 37,
     "metadata": {},
     "output_type": "execute_result"
    }
   ],
   "source": [
    "# Check several names\n",
    "players[players.isna().any(axis = 1)].sample(15)"
   ]
  },
  {
   "cell_type": "code",
   "execution_count": 38,
   "id": "5d9de3b3-2fc4-4232-b30d-0856d68e5e5a",
   "metadata": {
    "tags": []
   },
   "outputs": [
    {
     "data": {
      "text/html": [
       "<div>\n",
       "<style scoped>\n",
       "    .dataframe tbody tr th:only-of-type {\n",
       "        vertical-align: middle;\n",
       "    }\n",
       "\n",
       "    .dataframe tbody tr th {\n",
       "        vertical-align: top;\n",
       "    }\n",
       "\n",
       "    .dataframe thead th {\n",
       "        text-align: right;\n",
       "    }\n",
       "</style>\n",
       "<table border=\"1\" class=\"dataframe\">\n",
       "  <thead>\n",
       "    <tr style=\"text-align: right;\">\n",
       "      <th></th>\n",
       "      <th>player_id</th>\n",
       "      <th>first_name</th>\n",
       "      <th>last_name</th>\n",
       "      <th>height_in_cm</th>\n",
       "    </tr>\n",
       "  </thead>\n",
       "  <tbody>\n",
       "    <tr>\n",
       "      <th>7419</th>\n",
       "      <td>79960</td>\n",
       "      <td>NaN</td>\n",
       "      <td>Alex Sandro</td>\n",
       "      <td>181.0</td>\n",
       "    </tr>\n",
       "  </tbody>\n",
       "</table>\n",
       "</div>"
      ],
      "text/plain": [
       "      player_id first_name    last_name  height_in_cm\n",
       "7419      79960        NaN  Alex Sandro         181.0"
      ]
     },
     "execution_count": 38,
     "metadata": {},
     "output_type": "execute_result"
    }
   ],
   "source": [
    "# Check for compatibility between two datasets. Check for players dataset\n",
    "players[players['last_name'] == 'Alex Sandro']"
   ]
  },
  {
   "cell_type": "code",
   "execution_count": 39,
   "id": "b150a5e7-50ec-4fc7-9941-a7d5818048a0",
   "metadata": {
    "tags": []
   },
   "outputs": [
    {
     "data": {
      "text/html": [
       "<div>\n",
       "<style scoped>\n",
       "    .dataframe tbody tr th:only-of-type {\n",
       "        vertical-align: middle;\n",
       "    }\n",
       "\n",
       "    .dataframe tbody tr th {\n",
       "        vertical-align: top;\n",
       "    }\n",
       "\n",
       "    .dataframe thead th {\n",
       "        text-align: right;\n",
       "    }\n",
       "</style>\n",
       "<table border=\"1\" class=\"dataframe\">\n",
       "  <thead>\n",
       "    <tr style=\"text-align: right;\">\n",
       "      <th></th>\n",
       "      <th>Rk</th>\n",
       "      <th>Player</th>\n",
       "      <th>Nation</th>\n",
       "      <th>Pos</th>\n",
       "      <th>Squad</th>\n",
       "      <th>Comp</th>\n",
       "      <th>Age</th>\n",
       "      <th>Born</th>\n",
       "      <th>MP</th>\n",
       "      <th>Starts</th>\n",
       "      <th>...</th>\n",
       "      <th>Fls</th>\n",
       "      <th>Fld</th>\n",
       "      <th>Off</th>\n",
       "      <th>PKwon</th>\n",
       "      <th>PKcon</th>\n",
       "      <th>OG</th>\n",
       "      <th>Recov</th>\n",
       "      <th>AerWon</th>\n",
       "      <th>AerLost</th>\n",
       "      <th>AerWon%</th>\n",
       "    </tr>\n",
       "  </thead>\n",
       "  <tbody>\n",
       "    <tr>\n",
       "      <th>2197</th>\n",
       "      <td>2198</td>\n",
       "      <td>Alex Sandro</td>\n",
       "      <td>BRA</td>\n",
       "      <td>DF</td>\n",
       "      <td>Juventus</td>\n",
       "      <td>Serie A</td>\n",
       "      <td>32</td>\n",
       "      <td>1991</td>\n",
       "      <td>17</td>\n",
       "      <td>13</td>\n",
       "      <td>...</td>\n",
       "      <td>1.5</td>\n",
       "      <td>1.26</td>\n",
       "      <td>0.0</td>\n",
       "      <td>0.08</td>\n",
       "      <td>0.0</td>\n",
       "      <td>0.0</td>\n",
       "      <td>6.61</td>\n",
       "      <td>1.97</td>\n",
       "      <td>0.87</td>\n",
       "      <td>69.4</td>\n",
       "    </tr>\n",
       "  </tbody>\n",
       "</table>\n",
       "<p>1 rows × 120 columns</p>\n",
       "</div>"
      ],
      "text/plain": [
       "        Rk       Player Nation Pos     Squad     Comp  Age  Born  MP  Starts  \\\n",
       "2197  2198  Alex Sandro    BRA  DF  Juventus  Serie A   32  1991  17      13   \n",
       "\n",
       "      ...  Fls   Fld  Off  PKwon  PKcon   OG  Recov  AerWon  AerLost  AerWon%  \n",
       "2197  ...  1.5  1.26  0.0   0.08    0.0  0.0   6.61    1.97     0.87     69.4  \n",
       "\n",
       "[1 rows x 120 columns]"
      ]
     },
     "execution_count": 39,
     "metadata": {},
     "output_type": "execute_result"
    }
   ],
   "source": [
    "# Check for player_stats2023 dataset\n",
    "player_stats2023[player_stats2023['Player'] == 'Alex Sandro']"
   ]
  },
  {
   "cell_type": "markdown",
   "id": "743807bc-413d-4121-a1a7-19b5a8914ae1",
   "metadata": {},
   "source": [
    "We check the names to see how accents are displayed"
   ]
  },
  {
   "cell_type": "code",
   "execution_count": 40,
   "id": "125cd52a-e3b9-4b75-bcdd-e8a680b64c66",
   "metadata": {
    "tags": []
   },
   "outputs": [
    {
     "data": {
      "text/html": [
       "<div>\n",
       "<style scoped>\n",
       "    .dataframe tbody tr th:only-of-type {\n",
       "        vertical-align: middle;\n",
       "    }\n",
       "\n",
       "    .dataframe tbody tr th {\n",
       "        vertical-align: top;\n",
       "    }\n",
       "\n",
       "    .dataframe thead th {\n",
       "        text-align: right;\n",
       "    }\n",
       "</style>\n",
       "<table border=\"1\" class=\"dataframe\">\n",
       "  <thead>\n",
       "    <tr style=\"text-align: right;\">\n",
       "      <th></th>\n",
       "      <th>player_id</th>\n",
       "      <th>first_name</th>\n",
       "      <th>last_name</th>\n",
       "      <th>height_in_cm</th>\n",
       "    </tr>\n",
       "  </thead>\n",
       "  <tbody>\n",
       "    <tr>\n",
       "      <th>192</th>\n",
       "      <td>45403</td>\n",
       "      <td>André</td>\n",
       "      <td>Ayew</td>\n",
       "      <td>175.0</td>\n",
       "    </tr>\n",
       "    <tr>\n",
       "      <th>506</th>\n",
       "      <td>153538</td>\n",
       "      <td>André</td>\n",
       "      <td>Bjerregaard</td>\n",
       "      <td>188.0</td>\n",
       "    </tr>\n",
       "    <tr>\n",
       "      <th>582</th>\n",
       "      <td>186357</td>\n",
       "      <td>André</td>\n",
       "      <td>Luiz</td>\n",
       "      <td>167.0</td>\n",
       "    </tr>\n",
       "    <tr>\n",
       "      <th>583</th>\n",
       "      <td>188689</td>\n",
       "      <td>André</td>\n",
       "      <td>Dias</td>\n",
       "      <td>178.0</td>\n",
       "    </tr>\n",
       "    <tr>\n",
       "      <th>1178</th>\n",
       "      <td>500638</td>\n",
       "      <td>André</td>\n",
       "      <td>Cardoso</td>\n",
       "      <td>179.0</td>\n",
       "    </tr>\n",
       "    <tr>\n",
       "      <th>...</th>\n",
       "      <td>...</td>\n",
       "      <td>...</td>\n",
       "      <td>...</td>\n",
       "      <td>...</td>\n",
       "    </tr>\n",
       "    <tr>\n",
       "      <th>27465</th>\n",
       "      <td>14263</td>\n",
       "      <td>André</td>\n",
       "      <td>Vilas Boas</td>\n",
       "      <td>185.0</td>\n",
       "    </tr>\n",
       "    <tr>\n",
       "      <th>27654</th>\n",
       "      <td>56510</td>\n",
       "      <td>André</td>\n",
       "      <td>Fomitschow</td>\n",
       "      <td>180.0</td>\n",
       "    </tr>\n",
       "    <tr>\n",
       "      <th>28235</th>\n",
       "      <td>135057</td>\n",
       "      <td>André</td>\n",
       "      <td>Carrillo</td>\n",
       "      <td>180.0</td>\n",
       "    </tr>\n",
       "    <tr>\n",
       "      <th>28392</th>\n",
       "      <td>198008</td>\n",
       "      <td>André</td>\n",
       "      <td>Silva</td>\n",
       "      <td>185.0</td>\n",
       "    </tr>\n",
       "    <tr>\n",
       "      <th>28734</th>\n",
       "      <td>372478</td>\n",
       "      <td>André</td>\n",
       "      <td>Pedrosa</td>\n",
       "      <td>183.0</td>\n",
       "    </tr>\n",
       "  </tbody>\n",
       "</table>\n",
       "<p>67 rows × 4 columns</p>\n",
       "</div>"
      ],
      "text/plain": [
       "       player_id first_name    last_name  height_in_cm\n",
       "192        45403      André         Ayew         175.0\n",
       "506       153538      André  Bjerregaard         188.0\n",
       "582       186357      André         Luiz         167.0\n",
       "583       188689      André         Dias         178.0\n",
       "1178      500638      André      Cardoso         179.0\n",
       "...          ...        ...          ...           ...\n",
       "27465      14263      André   Vilas Boas         185.0\n",
       "27654      56510      André   Fomitschow         180.0\n",
       "28235     135057      André     Carrillo         180.0\n",
       "28392     198008      André        Silva         185.0\n",
       "28734     372478      André      Pedrosa         183.0\n",
       "\n",
       "[67 rows x 4 columns]"
      ]
     },
     "execution_count": 40,
     "metadata": {},
     "output_type": "execute_result"
    }
   ],
   "source": [
    "players[players['first_name'] == 'André']"
   ]
  },
  {
   "cell_type": "code",
   "execution_count": 41,
   "id": "1235dbb9-6a78-46b4-93d5-7d3b3985bfd7",
   "metadata": {
    "tags": []
   },
   "outputs": [
    {
     "data": {
      "text/html": [
       "<div>\n",
       "<style scoped>\n",
       "    .dataframe tbody tr th:only-of-type {\n",
       "        vertical-align: middle;\n",
       "    }\n",
       "\n",
       "    .dataframe tbody tr th {\n",
       "        vertical-align: top;\n",
       "    }\n",
       "\n",
       "    .dataframe thead th {\n",
       "        text-align: right;\n",
       "    }\n",
       "</style>\n",
       "<table border=\"1\" class=\"dataframe\">\n",
       "  <thead>\n",
       "    <tr style=\"text-align: right;\">\n",
       "      <th></th>\n",
       "      <th>Rk</th>\n",
       "      <th>Player</th>\n",
       "      <th>Nation</th>\n",
       "      <th>Pos</th>\n",
       "      <th>Squad</th>\n",
       "      <th>Comp</th>\n",
       "      <th>Age</th>\n",
       "      <th>Born</th>\n",
       "      <th>MP</th>\n",
       "      <th>Starts</th>\n",
       "      <th>...</th>\n",
       "      <th>Fls</th>\n",
       "      <th>Fld</th>\n",
       "      <th>Off</th>\n",
       "      <th>PKwon</th>\n",
       "      <th>PKcon</th>\n",
       "      <th>OG</th>\n",
       "      <th>Recov</th>\n",
       "      <th>AerWon</th>\n",
       "      <th>AerLost</th>\n",
       "      <th>AerWon%</th>\n",
       "    </tr>\n",
       "  </thead>\n",
       "  <tbody>\n",
       "    <tr>\n",
       "      <th>149</th>\n",
       "      <td>150</td>\n",
       "      <td>André Ayew</td>\n",
       "      <td>GHA</td>\n",
       "      <td>FW</td>\n",
       "      <td>Nott'ham Forest</td>\n",
       "      <td>Premier League</td>\n",
       "      <td>33</td>\n",
       "      <td>1989</td>\n",
       "      <td>2</td>\n",
       "      <td>0</td>\n",
       "      <td>...</td>\n",
       "      <td>0.0</td>\n",
       "      <td>3.33</td>\n",
       "      <td>0.0</td>\n",
       "      <td>0.0</td>\n",
       "      <td>0.0</td>\n",
       "      <td>0.0</td>\n",
       "      <td>0.0</td>\n",
       "      <td>3.33</td>\n",
       "      <td>6.67</td>\n",
       "      <td>33.3</td>\n",
       "    </tr>\n",
       "  </tbody>\n",
       "</table>\n",
       "<p>1 rows × 120 columns</p>\n",
       "</div>"
      ],
      "text/plain": [
       "      Rk      Player Nation Pos            Squad            Comp  Age  Born  \\\n",
       "149  150  André Ayew    GHA  FW  Nott'ham Forest  Premier League   33  1989   \n",
       "\n",
       "     MP  Starts  ...  Fls   Fld  Off  PKwon  PKcon   OG  Recov  AerWon  \\\n",
       "149   2       0  ...  0.0  3.33  0.0    0.0    0.0  0.0    0.0    3.33   \n",
       "\n",
       "     AerLost  AerWon%  \n",
       "149     6.67     33.3  \n",
       "\n",
       "[1 rows x 120 columns]"
      ]
     },
     "execution_count": 41,
     "metadata": {},
     "output_type": "execute_result"
    }
   ],
   "source": [
    "# Test to see if accented names properly search in player stats tables\n",
    "player_stats2023[player_stats2023['Player'] == 'André Ayew']"
   ]
  },
  {
   "cell_type": "markdown",
   "id": "4c86c3c0-7c5b-480f-88ae-3fa9764a20ca",
   "metadata": {},
   "source": [
    "The name accents seems similar to the `player_stats` datasets. The tables should join well."
   ]
  },
  {
   "cell_type": "markdown",
   "id": "10c644e7-9f73-42c8-878a-6791a95dbd0f",
   "metadata": {},
   "source": [
    "### Player_valuation dataset"
   ]
  },
  {
   "cell_type": "markdown",
   "id": "418c181a-87e3-476c-94d8-1a62b7c1d73d",
   "metadata": {},
   "source": [
    "Next, we look at the `player_valuation` dataset. "
   ]
  },
  {
   "cell_type": "code",
   "execution_count": 42,
   "id": "2506f177-044d-4f5a-b17a-4a28b3ac3172",
   "metadata": {
    "tags": []
   },
   "outputs": [
    {
     "data": {
      "text/html": [
       "<div>\n",
       "<style scoped>\n",
       "    .dataframe tbody tr th:only-of-type {\n",
       "        vertical-align: middle;\n",
       "    }\n",
       "\n",
       "    .dataframe tbody tr th {\n",
       "        vertical-align: top;\n",
       "    }\n",
       "\n",
       "    .dataframe thead th {\n",
       "        text-align: right;\n",
       "    }\n",
       "</style>\n",
       "<table border=\"1\" class=\"dataframe\">\n",
       "  <thead>\n",
       "    <tr style=\"text-align: right;\">\n",
       "      <th></th>\n",
       "      <th>player_id</th>\n",
       "      <th>last_season</th>\n",
       "      <th>datetime</th>\n",
       "      <th>date</th>\n",
       "      <th>dateweek</th>\n",
       "      <th>market_value_in_eur</th>\n",
       "      <th>n</th>\n",
       "      <th>current_club_id</th>\n",
       "      <th>player_club_domestic_competition_id</th>\n",
       "    </tr>\n",
       "  </thead>\n",
       "  <tbody>\n",
       "    <tr>\n",
       "      <th>0</th>\n",
       "      <td>3132</td>\n",
       "      <td>2013</td>\n",
       "      <td>2003-12-09 00:00:00</td>\n",
       "      <td>2003-12-09</td>\n",
       "      <td>2003-12-08</td>\n",
       "      <td>400000</td>\n",
       "      <td>1</td>\n",
       "      <td>126</td>\n",
       "      <td>TR1</td>\n",
       "    </tr>\n",
       "    <tr>\n",
       "      <th>1</th>\n",
       "      <td>6893</td>\n",
       "      <td>2012</td>\n",
       "      <td>2003-12-15 00:00:00</td>\n",
       "      <td>2003-12-15</td>\n",
       "      <td>2003-12-15</td>\n",
       "      <td>900000</td>\n",
       "      <td>1</td>\n",
       "      <td>984</td>\n",
       "      <td>GB1</td>\n",
       "    </tr>\n",
       "    <tr>\n",
       "      <th>2</th>\n",
       "      <td>10</td>\n",
       "      <td>2015</td>\n",
       "      <td>2004-10-04 00:00:00</td>\n",
       "      <td>2004-10-04</td>\n",
       "      <td>2004-10-04</td>\n",
       "      <td>7000000</td>\n",
       "      <td>1</td>\n",
       "      <td>398</td>\n",
       "      <td>IT1</td>\n",
       "    </tr>\n",
       "    <tr>\n",
       "      <th>3</th>\n",
       "      <td>26</td>\n",
       "      <td>2017</td>\n",
       "      <td>2004-10-04 00:00:00</td>\n",
       "      <td>2004-10-04</td>\n",
       "      <td>2004-10-04</td>\n",
       "      <td>1500000</td>\n",
       "      <td>1</td>\n",
       "      <td>16</td>\n",
       "      <td>L1</td>\n",
       "    </tr>\n",
       "    <tr>\n",
       "      <th>4</th>\n",
       "      <td>65</td>\n",
       "      <td>2015</td>\n",
       "      <td>2004-10-04 00:00:00</td>\n",
       "      <td>2004-10-04</td>\n",
       "      <td>2004-10-04</td>\n",
       "      <td>8000000</td>\n",
       "      <td>1</td>\n",
       "      <td>1091</td>\n",
       "      <td>GR1</td>\n",
       "    </tr>\n",
       "  </tbody>\n",
       "</table>\n",
       "</div>"
      ],
      "text/plain": [
       "   player_id  last_season             datetime        date    dateweek  \\\n",
       "0       3132         2013  2003-12-09 00:00:00  2003-12-09  2003-12-08   \n",
       "1       6893         2012  2003-12-15 00:00:00  2003-12-15  2003-12-15   \n",
       "2         10         2015  2004-10-04 00:00:00  2004-10-04  2004-10-04   \n",
       "3         26         2017  2004-10-04 00:00:00  2004-10-04  2004-10-04   \n",
       "4         65         2015  2004-10-04 00:00:00  2004-10-04  2004-10-04   \n",
       "\n",
       "   market_value_in_eur  n  current_club_id player_club_domestic_competition_id  \n",
       "0               400000  1              126                                 TR1  \n",
       "1               900000  1              984                                 GB1  \n",
       "2              7000000  1              398                                 IT1  \n",
       "3              1500000  1               16                                  L1  \n",
       "4              8000000  1             1091                                 GR1  "
      ]
     },
     "execution_count": 42,
     "metadata": {},
     "output_type": "execute_result"
    }
   ],
   "source": [
    "player_valuation.head()"
   ]
  },
  {
   "cell_type": "code",
   "execution_count": 43,
   "id": "05734f77-191e-4f27-8bdd-a278917c30ae",
   "metadata": {
    "tags": []
   },
   "outputs": [
    {
     "name": "stdout",
     "output_type": "stream",
     "text": [
      "<class 'pandas.core.frame.DataFrame'>\n",
      "RangeIndex: 440663 entries, 0 to 440662\n",
      "Data columns (total 9 columns):\n",
      " #   Column                               Non-Null Count   Dtype \n",
      "---  ------                               --------------   ----- \n",
      " 0   player_id                            440663 non-null  int64 \n",
      " 1   last_season                          440663 non-null  int64 \n",
      " 2   datetime                             440663 non-null  object\n",
      " 3   date                                 440663 non-null  object\n",
      " 4   dateweek                             440663 non-null  object\n",
      " 5   market_value_in_eur                  440663 non-null  int64 \n",
      " 6   n                                    440663 non-null  int64 \n",
      " 7   current_club_id                      440663 non-null  int64 \n",
      " 8   player_club_domestic_competition_id  440663 non-null  object\n",
      "dtypes: int64(5), object(4)\n",
      "memory usage: 30.3+ MB\n"
     ]
    }
   ],
   "source": [
    "player_valuation.info()"
   ]
  },
  {
   "cell_type": "markdown",
   "id": "c031daf1-6203-4260-bc35-463ae7ebebf3",
   "metadata": {},
   "source": [
    "Note that all the dates columns are in 'object' datatype. From this dataset, we need to find valuations for players in each year, 2022 and 2023. Thus, we can convert the `date` column to datetime."
   ]
  },
  {
   "cell_type": "code",
   "execution_count": 44,
   "id": "f1185683-32c3-4586-927b-840360353e61",
   "metadata": {
    "tags": []
   },
   "outputs": [],
   "source": [
    "player_valuation['date'] = pd.to_datetime(player_valuation['date'])"
   ]
  },
  {
   "cell_type": "code",
   "execution_count": 45,
   "id": "54691c0f-b7c8-4a93-bc61-4231eb6fa8e8",
   "metadata": {
    "tags": []
   },
   "outputs": [
    {
     "name": "stdout",
     "output_type": "stream",
     "text": [
      "<class 'pandas.core.frame.DataFrame'>\n",
      "RangeIndex: 440663 entries, 0 to 440662\n",
      "Data columns (total 9 columns):\n",
      " #   Column                               Non-Null Count   Dtype         \n",
      "---  ------                               --------------   -----         \n",
      " 0   player_id                            440663 non-null  int64         \n",
      " 1   last_season                          440663 non-null  int64         \n",
      " 2   datetime                             440663 non-null  object        \n",
      " 3   date                                 440663 non-null  datetime64[ns]\n",
      " 4   dateweek                             440663 non-null  object        \n",
      " 5   market_value_in_eur                  440663 non-null  int64         \n",
      " 6   n                                    440663 non-null  int64         \n",
      " 7   current_club_id                      440663 non-null  int64         \n",
      " 8   player_club_domestic_competition_id  440663 non-null  object        \n",
      "dtypes: datetime64[ns](1), int64(5), object(3)\n",
      "memory usage: 30.3+ MB\n"
     ]
    }
   ],
   "source": [
    "#Sanity check\n",
    "player_valuation.info()"
   ]
  },
  {
   "cell_type": "markdown",
   "id": "21a61db1-9e40-498b-8432-836593460e9e",
   "metadata": {},
   "source": [
    "Next, we can filter this table down. We only need the columns: `player_id`, `date` and `market_value_in_eur`."
   ]
  },
  {
   "cell_type": "code",
   "execution_count": 46,
   "id": "8ef0abed-36e0-4d0d-9e5a-1244d448b1de",
   "metadata": {
    "tags": []
   },
   "outputs": [],
   "source": [
    "player_valuation = player_valuation[['player_id','date','market_value_in_eur']]"
   ]
  },
  {
   "cell_type": "code",
   "execution_count": 47,
   "id": "b1b101fd-2844-4ded-b126-6dd88c5f4819",
   "metadata": {
    "tags": []
   },
   "outputs": [
    {
     "data": {
      "text/html": [
       "<div>\n",
       "<style scoped>\n",
       "    .dataframe tbody tr th:only-of-type {\n",
       "        vertical-align: middle;\n",
       "    }\n",
       "\n",
       "    .dataframe tbody tr th {\n",
       "        vertical-align: top;\n",
       "    }\n",
       "\n",
       "    .dataframe thead th {\n",
       "        text-align: right;\n",
       "    }\n",
       "</style>\n",
       "<table border=\"1\" class=\"dataframe\">\n",
       "  <thead>\n",
       "    <tr style=\"text-align: right;\">\n",
       "      <th></th>\n",
       "      <th>player_id</th>\n",
       "      <th>date</th>\n",
       "      <th>market_value_in_eur</th>\n",
       "    </tr>\n",
       "  </thead>\n",
       "  <tbody>\n",
       "    <tr>\n",
       "      <th>0</th>\n",
       "      <td>3132</td>\n",
       "      <td>2003-12-09</td>\n",
       "      <td>400000</td>\n",
       "    </tr>\n",
       "    <tr>\n",
       "      <th>1</th>\n",
       "      <td>6893</td>\n",
       "      <td>2003-12-15</td>\n",
       "      <td>900000</td>\n",
       "    </tr>\n",
       "    <tr>\n",
       "      <th>2</th>\n",
       "      <td>10</td>\n",
       "      <td>2004-10-04</td>\n",
       "      <td>7000000</td>\n",
       "    </tr>\n",
       "    <tr>\n",
       "      <th>3</th>\n",
       "      <td>26</td>\n",
       "      <td>2004-10-04</td>\n",
       "      <td>1500000</td>\n",
       "    </tr>\n",
       "    <tr>\n",
       "      <th>4</th>\n",
       "      <td>65</td>\n",
       "      <td>2004-10-04</td>\n",
       "      <td>8000000</td>\n",
       "    </tr>\n",
       "  </tbody>\n",
       "</table>\n",
       "</div>"
      ],
      "text/plain": [
       "   player_id       date  market_value_in_eur\n",
       "0       3132 2003-12-09               400000\n",
       "1       6893 2003-12-15               900000\n",
       "2         10 2004-10-04              7000000\n",
       "3         26 2004-10-04              1500000\n",
       "4         65 2004-10-04              8000000"
      ]
     },
     "execution_count": 47,
     "metadata": {},
     "output_type": "execute_result"
    }
   ],
   "source": [
    "# Double check\n",
    "player_valuation.head()"
   ]
  },
  {
   "cell_type": "markdown",
   "id": "b8b33c54-e6cb-4b55-8bf7-e69638a362c3",
   "metadata": {},
   "source": [
    "#### Merging the datasets\n",
    "First, we can merge the `players` and `players_valuation` dataset and do a inner join by the `player_id`. Since these two datasets are from the same source, there should be no issues with the join.\n",
    "\n",
    "Our next step will be to join the new merged table with each of our datasets. However, there are still multiple valuations for the same player within the required time window (summer of the respective year). The method I will employ is as follows:\n",
    "- Two tables are created - one for valuations for the summer of 2022, one for valuations for the summer of 2023. For multiple valuations in these tables, we proceed to average the valuations within the time window, from May to September. \n",
    "- Afterwards, we merge the data with each of the player_stats tables. Ideally, each player will have a valuation."
   ]
  },
  {
   "cell_type": "code",
   "execution_count": 48,
   "id": "4eeecaa3-5904-4d68-9e26-252f4bbebbee",
   "metadata": {
    "tags": []
   },
   "outputs": [],
   "source": [
    "# Setting the player valuation for the 2022 season to be between May and September\n",
    "player_valuation_2022 = player_valuation[\n",
    "    (player_valuation['date'].dt.year.between (2022,2022)) & \n",
    "    (player_valuation['date'].dt.month.between(5,9))]"
   ]
  },
  {
   "cell_type": "code",
   "execution_count": 49,
   "id": "322deec2-cf19-48ac-b45a-83defd3035aa",
   "metadata": {
    "tags": []
   },
   "outputs": [
    {
     "name": "stdout",
     "output_type": "stream",
     "text": [
      "<class 'pandas.core.frame.DataFrame'>\n",
      "Index: 19751 entries, 389273 to 409023\n",
      "Data columns (total 3 columns):\n",
      " #   Column               Non-Null Count  Dtype         \n",
      "---  ------               --------------  -----         \n",
      " 0   player_id            19751 non-null  int64         \n",
      " 1   date                 19751 non-null  datetime64[ns]\n",
      " 2   market_value_in_eur  19751 non-null  int64         \n",
      "dtypes: datetime64[ns](1), int64(2)\n",
      "memory usage: 617.2 KB\n"
     ]
    }
   ],
   "source": [
    "player_valuation_2022.info()"
   ]
  },
  {
   "cell_type": "code",
   "execution_count": 50,
   "id": "ab51078d-7a07-4953-b04c-0d7574daf5e5",
   "metadata": {
    "tags": []
   },
   "outputs": [],
   "source": [
    "# Creating the filtered table for 2023 player valuation\n",
    "player_valuation_2023 = player_valuation[\n",
    "    (player_valuation['date'].dt.year.between (2023,2023)) & \n",
    "    (player_valuation['date'].dt.month.between(5,9))]"
   ]
  },
  {
   "cell_type": "code",
   "execution_count": 51,
   "id": "20d108d9-85ed-4915-92bc-340c1c646ab5",
   "metadata": {
    "tags": []
   },
   "outputs": [
    {
     "name": "stdout",
     "output_type": "stream",
     "text": [
      "<class 'pandas.core.frame.DataFrame'>\n",
      "Index: 9537 entries, 431125 to 440661\n",
      "Data columns (total 3 columns):\n",
      " #   Column               Non-Null Count  Dtype         \n",
      "---  ------               --------------  -----         \n",
      " 0   player_id            9537 non-null   int64         \n",
      " 1   date                 9537 non-null   datetime64[ns]\n",
      " 2   market_value_in_eur  9537 non-null   int64         \n",
      "dtypes: datetime64[ns](1), int64(2)\n",
      "memory usage: 298.0 KB\n"
     ]
    }
   ],
   "source": [
    "player_valuation_2023.info()"
   ]
  },
  {
   "cell_type": "markdown",
   "id": "5b3c3cd8-6948-40d6-a6e0-5f9e4910c334",
   "metadata": {},
   "source": [
    "First, we merge the `player_valuation 2023` with `players`."
   ]
  },
  {
   "cell_type": "code",
   "execution_count": 52,
   "id": "e7e5f2c2-35f6-4853-8845-67aa7a91762d",
   "metadata": {
    "tags": []
   },
   "outputs": [],
   "source": [
    "merged_2023 = pd.merge(players,player_valuation_2023, on = 'player_id', how = 'inner')"
   ]
  },
  {
   "cell_type": "code",
   "execution_count": 53,
   "id": "e769fa6d-42fd-49c3-9610-f2f275d786b1",
   "metadata": {
    "tags": []
   },
   "outputs": [
    {
     "data": {
      "text/html": [
       "<div>\n",
       "<style scoped>\n",
       "    .dataframe tbody tr th:only-of-type {\n",
       "        vertical-align: middle;\n",
       "    }\n",
       "\n",
       "    .dataframe tbody tr th {\n",
       "        vertical-align: top;\n",
       "    }\n",
       "\n",
       "    .dataframe thead th {\n",
       "        text-align: right;\n",
       "    }\n",
       "</style>\n",
       "<table border=\"1\" class=\"dataframe\">\n",
       "  <thead>\n",
       "    <tr style=\"text-align: right;\">\n",
       "      <th></th>\n",
       "      <th>player_id</th>\n",
       "      <th>first_name</th>\n",
       "      <th>last_name</th>\n",
       "      <th>height_in_cm</th>\n",
       "      <th>date</th>\n",
       "      <th>market_value_in_eur</th>\n",
       "    </tr>\n",
       "  </thead>\n",
       "  <tbody>\n",
       "    <tr>\n",
       "      <th>0</th>\n",
       "      <td>18922</td>\n",
       "      <td>Karim</td>\n",
       "      <td>Benzema</td>\n",
       "      <td>185.0</td>\n",
       "      <td>2023-06-13</td>\n",
       "      <td>25000000</td>\n",
       "    </tr>\n",
       "    <tr>\n",
       "      <th>1</th>\n",
       "      <td>22860</td>\n",
       "      <td>Jesper</td>\n",
       "      <td>Hansen</td>\n",
       "      <td>188.0</td>\n",
       "      <td>2023-06-26</td>\n",
       "      <td>200000</td>\n",
       "    </tr>\n",
       "    <tr>\n",
       "      <th>2</th>\n",
       "      <td>30321</td>\n",
       "      <td>Óscar</td>\n",
       "      <td>Trejo</td>\n",
       "      <td>180.0</td>\n",
       "      <td>2023-06-13</td>\n",
       "      <td>3000000</td>\n",
       "    </tr>\n",
       "    <tr>\n",
       "      <th>3</th>\n",
       "      <td>33925</td>\n",
       "      <td>Jessy</td>\n",
       "      <td>Moulin</td>\n",
       "      <td>184.0</td>\n",
       "      <td>2023-06-27</td>\n",
       "      <td>200000</td>\n",
       "    </tr>\n",
       "    <tr>\n",
       "      <th>4</th>\n",
       "      <td>35099</td>\n",
       "      <td>Steven</td>\n",
       "      <td>Fletcher</td>\n",
       "      <td>185.0</td>\n",
       "      <td>2023-06-26</td>\n",
       "      <td>200000</td>\n",
       "    </tr>\n",
       "    <tr>\n",
       "      <th>...</th>\n",
       "      <td>...</td>\n",
       "      <td>...</td>\n",
       "      <td>...</td>\n",
       "      <td>...</td>\n",
       "      <td>...</td>\n",
       "      <td>...</td>\n",
       "    </tr>\n",
       "    <tr>\n",
       "      <th>9525</th>\n",
       "      <td>284732</td>\n",
       "      <td>Ramy</td>\n",
       "      <td>Bensebaini</td>\n",
       "      <td>187.0</td>\n",
       "      <td>2023-06-22</td>\n",
       "      <td>20000000</td>\n",
       "    </tr>\n",
       "    <tr>\n",
       "      <th>9526</th>\n",
       "      <td>371851</td>\n",
       "      <td>Jaka</td>\n",
       "      <td>Bijol</td>\n",
       "      <td>190.0</td>\n",
       "      <td>2023-06-15</td>\n",
       "      <td>10000000</td>\n",
       "    </tr>\n",
       "    <tr>\n",
       "      <th>9527</th>\n",
       "      <td>586756</td>\n",
       "      <td>Festy</td>\n",
       "      <td>Ebosele</td>\n",
       "      <td>180.0</td>\n",
       "      <td>2023-06-15</td>\n",
       "      <td>3500000</td>\n",
       "    </tr>\n",
       "    <tr>\n",
       "      <th>9528</th>\n",
       "      <td>704692</td>\n",
       "      <td>Nicolò</td>\n",
       "      <td>Cocetta</td>\n",
       "      <td>NaN</td>\n",
       "      <td>2023-06-13</td>\n",
       "      <td>75000</td>\n",
       "    </tr>\n",
       "    <tr>\n",
       "      <th>9529</th>\n",
       "      <td>925584</td>\n",
       "      <td>Axel</td>\n",
       "      <td>Guessand</td>\n",
       "      <td>184.0</td>\n",
       "      <td>2023-06-15</td>\n",
       "      <td>250000</td>\n",
       "    </tr>\n",
       "  </tbody>\n",
       "</table>\n",
       "<p>9530 rows × 6 columns</p>\n",
       "</div>"
      ],
      "text/plain": [
       "      player_id first_name   last_name  height_in_cm       date  \\\n",
       "0         18922      Karim     Benzema         185.0 2023-06-13   \n",
       "1         22860     Jesper      Hansen         188.0 2023-06-26   \n",
       "2         30321      Óscar       Trejo         180.0 2023-06-13   \n",
       "3         33925      Jessy      Moulin         184.0 2023-06-27   \n",
       "4         35099     Steven    Fletcher         185.0 2023-06-26   \n",
       "...         ...        ...         ...           ...        ...   \n",
       "9525     284732       Ramy  Bensebaini         187.0 2023-06-22   \n",
       "9526     371851       Jaka       Bijol         190.0 2023-06-15   \n",
       "9527     586756      Festy     Ebosele         180.0 2023-06-15   \n",
       "9528     704692     Nicolò     Cocetta           NaN 2023-06-13   \n",
       "9529     925584       Axel    Guessand         184.0 2023-06-15   \n",
       "\n",
       "      market_value_in_eur  \n",
       "0                25000000  \n",
       "1                  200000  \n",
       "2                 3000000  \n",
       "3                  200000  \n",
       "4                  200000  \n",
       "...                   ...  \n",
       "9525             20000000  \n",
       "9526             10000000  \n",
       "9527              3500000  \n",
       "9528                75000  \n",
       "9529               250000  \n",
       "\n",
       "[9530 rows x 6 columns]"
      ]
     },
     "execution_count": 53,
     "metadata": {},
     "output_type": "execute_result"
    }
   ],
   "source": [
    "merged_2023"
   ]
  },
  {
   "cell_type": "code",
   "execution_count": 102,
   "id": "691d7d37-ae55-4571-89b1-267f2c7fe0ca",
   "metadata": {
    "tags": []
   },
   "outputs": [
    {
     "data": {
      "text/html": [
       "<div>\n",
       "<style scoped>\n",
       "    .dataframe tbody tr th:only-of-type {\n",
       "        vertical-align: middle;\n",
       "    }\n",
       "\n",
       "    .dataframe tbody tr th {\n",
       "        vertical-align: top;\n",
       "    }\n",
       "\n",
       "    .dataframe thead th {\n",
       "        text-align: right;\n",
       "    }\n",
       "</style>\n",
       "<table border=\"1\" class=\"dataframe\">\n",
       "  <thead>\n",
       "    <tr style=\"text-align: right;\">\n",
       "      <th></th>\n",
       "      <th>player_id</th>\n",
       "      <th>first_name</th>\n",
       "      <th>last_name</th>\n",
       "      <th>height_in_cm</th>\n",
       "      <th>mean_market_value_in_eur</th>\n",
       "    </tr>\n",
       "  </thead>\n",
       "  <tbody>\n",
       "    <tr>\n",
       "      <th>1009</th>\n",
       "      <td>50057</td>\n",
       "      <td>Aaron</td>\n",
       "      <td>Ramsey</td>\n",
       "      <td>178.0</td>\n",
       "      <td>2500000.0</td>\n",
       "    </tr>\n",
       "    <tr>\n",
       "      <th>1142</th>\n",
       "      <td>92571</td>\n",
       "      <td>Aaron</td>\n",
       "      <td>Cresswell</td>\n",
       "      <td>NaN</td>\n",
       "      <td>1200000.0</td>\n",
       "    </tr>\n",
       "    <tr>\n",
       "      <th>5557</th>\n",
       "      <td>646658</td>\n",
       "      <td>Aaron</td>\n",
       "      <td>Ramsey</td>\n",
       "      <td>181.0</td>\n",
       "      <td>5000000.0</td>\n",
       "    </tr>\n",
       "  </tbody>\n",
       "</table>\n",
       "</div>"
      ],
      "text/plain": [
       "      player_id first_name  last_name  height_in_cm  mean_market_value_in_eur\n",
       "1009      50057      Aaron     Ramsey         178.0                 2500000.0\n",
       "1142      92571      Aaron  Cresswell           NaN                 1200000.0\n",
       "5557     646658      Aaron     Ramsey         181.0                 5000000.0"
      ]
     },
     "execution_count": 102,
     "metadata": {},
     "output_type": "execute_result"
    }
   ],
   "source": [
    "merged_2023[(merged_2023['first_name'].duplicated(keep = False)) & (merged_2023['last_name'].duplicated(keep = False)) & (merged_2023['first_name'] == 'Aaron')]"
   ]
  },
  {
   "cell_type": "code",
   "execution_count": 54,
   "id": "d56da221-c7b4-4590-a626-ea6fee0092d0",
   "metadata": {
    "scrolled": true,
    "tags": []
   },
   "outputs": [
    {
     "name": "stdout",
     "output_type": "stream",
     "text": [
      "        player_id       date  market_value_in_eur\n",
      "435833     395485 2023-06-19               400000\n",
      "436975     730879 2023-06-21               150000\n",
      "440299     876646 2023-07-05                50000\n",
      "440417     881687 2023-08-01                50000\n",
      "440467    1069459 2023-09-11               100000\n",
      "440468    1078326 2023-09-11               100000\n",
      "440473     866609 2023-09-12               100000\n"
     ]
    }
   ],
   "source": [
    "# Check the missing rows, resulting from the inner join\n",
    "missing_ids = player_valuation_2023[~player_valuation_2023['player_id'].isin(players['player_id'])]\n",
    "print(missing_ids)"
   ]
  },
  {
   "cell_type": "markdown",
   "id": "11b4c19f-3943-40b1-92d4-0fddcb96915f",
   "metadata": {},
   "source": [
    "This shouldn't be a big problem as it is only 7 entries. There might be some error in the data source, where the `players` and `player_valuation` have mismatched player_id's.\n",
    "\n",
    "Next, we proceed to merge the 2022 dataset with players."
   ]
  },
  {
   "cell_type": "code",
   "execution_count": 55,
   "id": "1f3ce66a-d9d8-408f-8596-3d0a6caa219d",
   "metadata": {
    "tags": []
   },
   "outputs": [],
   "source": [
    "merged_2022 = pd.merge(players,player_valuation_2022, on = 'player_id', how = 'inner')"
   ]
  },
  {
   "cell_type": "code",
   "execution_count": 56,
   "id": "0be82fee-aa51-4278-96d7-e38be62737bc",
   "metadata": {},
   "outputs": [
    {
     "data": {
      "text/html": [
       "<div>\n",
       "<style scoped>\n",
       "    .dataframe tbody tr th:only-of-type {\n",
       "        vertical-align: middle;\n",
       "    }\n",
       "\n",
       "    .dataframe tbody tr th {\n",
       "        vertical-align: top;\n",
       "    }\n",
       "\n",
       "    .dataframe thead th {\n",
       "        text-align: right;\n",
       "    }\n",
       "</style>\n",
       "<table border=\"1\" class=\"dataframe\">\n",
       "  <thead>\n",
       "    <tr style=\"text-align: right;\">\n",
       "      <th></th>\n",
       "      <th>player_id</th>\n",
       "      <th>first_name</th>\n",
       "      <th>last_name</th>\n",
       "      <th>height_in_cm</th>\n",
       "      <th>date</th>\n",
       "      <th>market_value_in_eur</th>\n",
       "    </tr>\n",
       "  </thead>\n",
       "  <tbody>\n",
       "    <tr>\n",
       "      <th>0</th>\n",
       "      <td>4042</td>\n",
       "      <td>Brad</td>\n",
       "      <td>Jones</td>\n",
       "      <td>194.0</td>\n",
       "      <td>2022-05-06</td>\n",
       "      <td>200000</td>\n",
       "    </tr>\n",
       "    <tr>\n",
       "      <th>1</th>\n",
       "      <td>4133</td>\n",
       "      <td>Richie</td>\n",
       "      <td>Ryan</td>\n",
       "      <td>178.0</td>\n",
       "      <td>2022-06-10</td>\n",
       "      <td>100000</td>\n",
       "    </tr>\n",
       "    <tr>\n",
       "      <th>2</th>\n",
       "      <td>8187</td>\n",
       "      <td>Juanmi</td>\n",
       "      <td>Callejón</td>\n",
       "      <td>180.0</td>\n",
       "      <td>2022-06-29</td>\n",
       "      <td>250000</td>\n",
       "    </tr>\n",
       "    <tr>\n",
       "      <th>3</th>\n",
       "      <td>14221</td>\n",
       "      <td>Aaron</td>\n",
       "      <td>Lennon</td>\n",
       "      <td>165.0</td>\n",
       "      <td>2022-06-15</td>\n",
       "      <td>1000000</td>\n",
       "    </tr>\n",
       "    <tr>\n",
       "      <th>4</th>\n",
       "      <td>17592</td>\n",
       "      <td>Pawel</td>\n",
       "      <td>Kieszek</td>\n",
       "      <td>187.0</td>\n",
       "      <td>2022-06-14</td>\n",
       "      <td>75000</td>\n",
       "    </tr>\n",
       "  </tbody>\n",
       "</table>\n",
       "</div>"
      ],
      "text/plain": [
       "   player_id first_name last_name  height_in_cm       date  \\\n",
       "0       4042       Brad     Jones         194.0 2022-05-06   \n",
       "1       4133     Richie      Ryan         178.0 2022-06-10   \n",
       "2       8187     Juanmi  Callejón         180.0 2022-06-29   \n",
       "3      14221      Aaron    Lennon         165.0 2022-06-15   \n",
       "4      17592      Pawel   Kieszek         187.0 2022-06-14   \n",
       "\n",
       "   market_value_in_eur  \n",
       "0               200000  \n",
       "1               100000  \n",
       "2               250000  \n",
       "3              1000000  \n",
       "4                75000  "
      ]
     },
     "execution_count": 56,
     "metadata": {},
     "output_type": "execute_result"
    }
   ],
   "source": [
    "merged_2022.head()"
   ]
  },
  {
   "cell_type": "code",
   "execution_count": 57,
   "id": "97cfb474-2814-43dd-b46a-cd64118d55ad",
   "metadata": {
    "scrolled": true,
    "tags": []
   },
   "outputs": [
    {
     "name": "stdout",
     "output_type": "stream",
     "text": [
      "<class 'pandas.core.frame.DataFrame'>\n",
      "RangeIndex: 19748 entries, 0 to 19747\n",
      "Data columns (total 6 columns):\n",
      " #   Column               Non-Null Count  Dtype         \n",
      "---  ------               --------------  -----         \n",
      " 0   player_id            19748 non-null  int64         \n",
      " 1   first_name           18541 non-null  object        \n",
      " 2   last_name            19748 non-null  object        \n",
      " 3   height_in_cm         19232 non-null  float64       \n",
      " 4   date                 19748 non-null  datetime64[ns]\n",
      " 5   market_value_in_eur  19748 non-null  int64         \n",
      "dtypes: datetime64[ns](1), float64(1), int64(2), object(2)\n",
      "memory usage: 925.8+ KB\n"
     ]
    }
   ],
   "source": [
    "merged_2022.info()"
   ]
  },
  {
   "cell_type": "code",
   "execution_count": 58,
   "id": "2d14e818-7709-44da-bc47-a77b446e346b",
   "metadata": {
    "tags": []
   },
   "outputs": [
    {
     "name": "stdout",
     "output_type": "stream",
     "text": [
      "        player_id       date  market_value_in_eur\n",
      "390384     730879 2022-05-18                75000\n",
      "391458     395485 2022-05-30               500000\n",
      "402988     213895 2022-06-27               100000\n"
     ]
    }
   ],
   "source": [
    "# Check the missing rows, resulting from the inner join\n",
    "missing_ids = player_valuation_2022[~player_valuation_2022['player_id'].isin(players['player_id'])]\n",
    "print(missing_ids)"
   ]
  },
  {
   "cell_type": "markdown",
   "id": "d7a98436-55c9-4e7c-a402-222600d211ac",
   "metadata": {},
   "source": [
    "Only 3 rows of mismatched player id's. Should not be an issue."
   ]
  },
  {
   "cell_type": "markdown",
   "id": "fea1057a-d246-4af1-9798-7696ce5c4ace",
   "metadata": {
    "tags": []
   },
   "source": [
    "#### Multiple Valuations per players"
   ]
  },
  {
   "cell_type": "markdown",
   "id": "2ee44095-9a35-4ac0-bf64-8e6368acc08f",
   "metadata": {},
   "source": [
    "First, I check if there are multiple valuations for the same player within the time window."
   ]
  },
  {
   "cell_type": "code",
   "execution_count": 59,
   "id": "a09b8c45-23cc-4398-b8cf-4f35c8a2f2db",
   "metadata": {},
   "outputs": [
    {
     "data": {
      "text/plain": [
       "(19748, 6)"
      ]
     },
     "execution_count": 59,
     "metadata": {},
     "output_type": "execute_result"
    }
   ],
   "source": [
    "# Check number of rows\n",
    "merged_2022.shape"
   ]
  },
  {
   "cell_type": "code",
   "execution_count": 60,
   "id": "303d2512-2dba-46d0-a81f-8f70e847688f",
   "metadata": {
    "scrolled": true
   },
   "outputs": [
    {
     "data": {
      "text/plain": [
       "1    15847\n",
       "2     1946\n",
       "3        3\n",
       "Name: count, dtype: int64"
      ]
     },
     "execution_count": 60,
     "metadata": {},
     "output_type": "execute_result"
    }
   ],
   "source": [
    "# Check how many players have repeated valuations within the time window\n",
    "merged_2022.groupby(['player_id']).size().value_counts()"
   ]
  },
  {
   "cell_type": "markdown",
   "id": "54f41ad8-a8d7-47f5-95b0-a1efeb18e9d8",
   "metadata": {},
   "source": [
    "As shown in the output, 1946 + 3 players have multiple valuations within this merged dataset. Thus, I will use the mean for of the valuations to set as the final valuation."
   ]
  },
  {
   "cell_type": "code",
   "execution_count": 61,
   "id": "b4676a5f-210b-40e8-88f4-42dce0566b66",
   "metadata": {},
   "outputs": [
    {
     "name": "stdout",
     "output_type": "stream",
     "text": [
      "       player_id first_name  last_name  height_in_cm       date  \\\n",
      "11564     625654      Julen     Lobete         177.0 2022-06-03   \n",
      "11565     625654      Julen     Lobete         177.0 2022-06-29   \n",
      "11566     625654      Julen     Lobete         177.0 2022-09-14   \n",
      "18835     525299     Miguel  Gutiérrez         180.0 2022-06-03   \n",
      "18836     525299     Miguel  Gutiérrez         180.0 2022-06-29   \n",
      "18837     525299     Miguel  Gutiérrez         180.0 2022-09-23   \n",
      "18941     636688  Alejandro      Balde         175.0 2022-06-03   \n",
      "18942     636688  Alejandro      Balde         175.0 2022-06-29   \n",
      "18943     636688  Alejandro      Balde         175.0 2022-09-23   \n",
      "\n",
      "       market_value_in_eur  \n",
      "11564              5000000  \n",
      "11565              3000000  \n",
      "11566              2500000  \n",
      "18835              6000000  \n",
      "18836              6000000  \n",
      "18837              8000000  \n",
      "18941              4000000  \n",
      "18942              4000000  \n",
      "18943              8000000  \n"
     ]
    }
   ],
   "source": [
    "# To find the rows with 3 valuations in the dataset\n",
    "# Grouping by 'player_id' and calculating the size of each group\n",
    "group_sizes = merged_2022.groupby('player_id').size()\n",
    "\n",
    "# Finding 'player_id' groups with a size of 3\n",
    "player_id_with_size_3 = group_sizes[group_sizes == 3].index\n",
    "\n",
    "# Filtering the DataFrame to get rows where 'player_id' has a size of 3\n",
    "rows_with_size_3 = merged_2022[merged_2022['player_id'].isin(player_id_with_size_3)]\n",
    "\n",
    "print(rows_with_size_3)\n"
   ]
  },
  {
   "cell_type": "code",
   "execution_count": 62,
   "id": "d35391ef-7ebd-4df9-ad68-24090bc51d4c",
   "metadata": {
    "scrolled": true
   },
   "outputs": [
    {
     "data": {
      "text/html": [
       "<div>\n",
       "<style scoped>\n",
       "    .dataframe tbody tr th:only-of-type {\n",
       "        vertical-align: middle;\n",
       "    }\n",
       "\n",
       "    .dataframe tbody tr th {\n",
       "        vertical-align: top;\n",
       "    }\n",
       "\n",
       "    .dataframe thead th {\n",
       "        text-align: right;\n",
       "    }\n",
       "</style>\n",
       "<table border=\"1\" class=\"dataframe\">\n",
       "  <thead>\n",
       "    <tr style=\"text-align: right;\">\n",
       "      <th></th>\n",
       "      <th>player_id</th>\n",
       "      <th>first_name</th>\n",
       "      <th>last_name</th>\n",
       "      <th>height_in_cm</th>\n",
       "      <th>date</th>\n",
       "      <th>market_value_in_eur</th>\n",
       "    </tr>\n",
       "  </thead>\n",
       "  <tbody>\n",
       "    <tr>\n",
       "      <th>18941</th>\n",
       "      <td>636688</td>\n",
       "      <td>Alejandro</td>\n",
       "      <td>Balde</td>\n",
       "      <td>175.0</td>\n",
       "      <td>2022-06-03</td>\n",
       "      <td>4000000</td>\n",
       "    </tr>\n",
       "    <tr>\n",
       "      <th>18942</th>\n",
       "      <td>636688</td>\n",
       "      <td>Alejandro</td>\n",
       "      <td>Balde</td>\n",
       "      <td>175.0</td>\n",
       "      <td>2022-06-29</td>\n",
       "      <td>4000000</td>\n",
       "    </tr>\n",
       "    <tr>\n",
       "      <th>18943</th>\n",
       "      <td>636688</td>\n",
       "      <td>Alejandro</td>\n",
       "      <td>Balde</td>\n",
       "      <td>175.0</td>\n",
       "      <td>2022-09-23</td>\n",
       "      <td>8000000</td>\n",
       "    </tr>\n",
       "  </tbody>\n",
       "</table>\n",
       "</div>"
      ],
      "text/plain": [
       "       player_id first_name last_name  height_in_cm       date  \\\n",
       "18941     636688  Alejandro     Balde         175.0 2022-06-03   \n",
       "18942     636688  Alejandro     Balde         175.0 2022-06-29   \n",
       "18943     636688  Alejandro     Balde         175.0 2022-09-23   \n",
       "\n",
       "       market_value_in_eur  \n",
       "18941              4000000  \n",
       "18942              4000000  \n",
       "18943              8000000  "
      ]
     },
     "execution_count": 62,
     "metadata": {},
     "output_type": "execute_result"
    }
   ],
   "source": [
    "# Checking to see if the new column is calculating properly\n",
    "merged_2022[merged_2022['player_id'] == 636688]"
   ]
  },
  {
   "cell_type": "code",
   "execution_count": 63,
   "id": "f372f247-c378-4a81-bef0-2cd5d16a86bd",
   "metadata": {},
   "outputs": [
    {
     "data": {
      "text/plain": [
       "17796"
      ]
     },
     "execution_count": 63,
     "metadata": {},
     "output_type": "execute_result"
    }
   ],
   "source": [
    "merged_2022['player_id'].nunique()"
   ]
  },
  {
   "cell_type": "markdown",
   "id": "fe717a88-2912-4b6c-b01a-1e6f66b18f8b",
   "metadata": {},
   "source": [
    "As there are multiple listings, I will set the market valuation as the mean of the valuations.\n",
    "\n",
    "I will first add a column called `mean_market_value_per_player`, then proceed to drop the `market_value_in_eur`. Afterwards, I will drop all duplicates."
   ]
  },
  {
   "cell_type": "code",
   "execution_count": 64,
   "id": "fb7c49a1-382c-433f-a30a-19b51a8a2cd2",
   "metadata": {
    "tags": []
   },
   "outputs": [],
   "source": [
    "merged_2022['mean_market_value_per_player'] = merged_2022.groupby('player_id')['market_value_in_eur'].transform('mean')"
   ]
  },
  {
   "cell_type": "code",
   "execution_count": 65,
   "id": "e0f693a9-07a6-472e-a2ec-d7926461bbe8",
   "metadata": {},
   "outputs": [],
   "source": [
    "merged_2022 = merged_2022.drop(columns=['market_value_in_eur','date']).drop_duplicates(subset = ['player_id']).reset_index()"
   ]
  },
  {
   "cell_type": "code",
   "execution_count": 66,
   "id": "b88e9753-0171-4451-922f-637dea4d8fd3",
   "metadata": {
    "scrolled": true
   },
   "outputs": [
    {
     "data": {
      "text/html": [
       "<div>\n",
       "<style scoped>\n",
       "    .dataframe tbody tr th:only-of-type {\n",
       "        vertical-align: middle;\n",
       "    }\n",
       "\n",
       "    .dataframe tbody tr th {\n",
       "        vertical-align: top;\n",
       "    }\n",
       "\n",
       "    .dataframe thead th {\n",
       "        text-align: right;\n",
       "    }\n",
       "</style>\n",
       "<table border=\"1\" class=\"dataframe\">\n",
       "  <thead>\n",
       "    <tr style=\"text-align: right;\">\n",
       "      <th></th>\n",
       "      <th>index</th>\n",
       "      <th>player_id</th>\n",
       "      <th>first_name</th>\n",
       "      <th>last_name</th>\n",
       "      <th>height_in_cm</th>\n",
       "      <th>mean_market_value_per_player</th>\n",
       "    </tr>\n",
       "  </thead>\n",
       "  <tbody>\n",
       "    <tr>\n",
       "      <th>17079</th>\n",
       "      <td>18941</td>\n",
       "      <td>636688</td>\n",
       "      <td>Alejandro</td>\n",
       "      <td>Balde</td>\n",
       "      <td>175.0</td>\n",
       "      <td>5.333333e+06</td>\n",
       "    </tr>\n",
       "  </tbody>\n",
       "</table>\n",
       "</div>"
      ],
      "text/plain": [
       "       index  player_id first_name last_name  height_in_cm  \\\n",
       "17079  18941     636688  Alejandro     Balde         175.0   \n",
       "\n",
       "       mean_market_value_per_player  \n",
       "17079                  5.333333e+06  "
      ]
     },
     "execution_count": 66,
     "metadata": {},
     "output_type": "execute_result"
    }
   ],
   "source": [
    "# Double check earlier example\n",
    "merged_2022[merged_2022['player_id'] == 636688]"
   ]
  },
  {
   "cell_type": "code",
   "execution_count": 67,
   "id": "6de14aa4-11a2-4755-8c42-a341f6129066",
   "metadata": {
    "scrolled": true
   },
   "outputs": [
    {
     "data": {
      "text/plain": [
       "index                              0\n",
       "player_id                          0\n",
       "first_name                      1101\n",
       "last_name                          0\n",
       "height_in_cm                     494\n",
       "mean_market_value_per_player       0\n",
       "dtype: int64"
      ]
     },
     "execution_count": 67,
     "metadata": {},
     "output_type": "execute_result"
    }
   ],
   "source": [
    "# Check the null values in the dataset\n",
    "merged_2022.isna().sum()"
   ]
  },
  {
   "cell_type": "markdown",
   "id": "79c92c24-4645-4ab3-be10-7dc16e07ce28",
   "metadata": {},
   "source": [
    "Even though there are null values in the height, this may not be a problem as not all players in this dataset are used. I will investigate further upon merging the datasets. \n",
    "\n",
    "As for null values in `first_name`, many players do not have a first name. I will be carefully when setting a full name to take this into account."
   ]
  },
  {
   "cell_type": "code",
   "execution_count": 68,
   "id": "dbc60ef0-6919-40ed-a663-96b93dc65311",
   "metadata": {
    "scrolled": true
   },
   "outputs": [
    {
     "name": "stdout",
     "output_type": "stream",
     "text": [
      "<class 'pandas.core.frame.DataFrame'>\n",
      "RangeIndex: 17796 entries, 0 to 17795\n",
      "Data columns (total 6 columns):\n",
      " #   Column                        Non-Null Count  Dtype  \n",
      "---  ------                        --------------  -----  \n",
      " 0   index                         17796 non-null  int64  \n",
      " 1   player_id                     17796 non-null  int64  \n",
      " 2   first_name                    16695 non-null  object \n",
      " 3   last_name                     17796 non-null  object \n",
      " 4   height_in_cm                  17302 non-null  float64\n",
      " 5   mean_market_value_per_player  17796 non-null  float64\n",
      "dtypes: float64(2), int64(2), object(2)\n",
      "memory usage: 834.3+ KB\n"
     ]
    }
   ],
   "source": [
    "merged_2022.info()"
   ]
  },
  {
   "cell_type": "markdown",
   "id": "f0f03f63-ef85-4e97-aafe-6b9a8992fbab",
   "metadata": {},
   "source": [
    "The number of rows equals to the unique count of player id's found earlier! This shows the data should be filtered correctly."
   ]
  },
  {
   "cell_type": "markdown",
   "id": "2b578543-847b-48d2-a9ab-9ebf23d2f0b8",
   "metadata": {},
   "source": [
    "### Repeating process for the 2023 dataset\n",
    "\n",
    "We do the same for the 2023 table."
   ]
  },
  {
   "cell_type": "code",
   "execution_count": 69,
   "id": "298b64c2-d8b2-4c3b-a216-21a226b199b0",
   "metadata": {},
   "outputs": [
    {
     "data": {
      "text/plain": [
       "(9530, 6)"
      ]
     },
     "execution_count": 69,
     "metadata": {},
     "output_type": "execute_result"
    }
   ],
   "source": [
    "# Check current rows x columns\n",
    "merged_2023.shape"
   ]
  },
  {
   "cell_type": "code",
   "execution_count": 70,
   "id": "baf039ea-5632-40f0-9a13-d0809adc4919",
   "metadata": {},
   "outputs": [
    {
     "data": {
      "text/plain": [
       "9330"
      ]
     },
     "execution_count": 70,
     "metadata": {},
     "output_type": "execute_result"
    }
   ],
   "source": [
    "# Checking final target rows, should be equal to unique player_id's\n",
    "merged_2023['player_id'].nunique()"
   ]
  },
  {
   "cell_type": "code",
   "execution_count": 71,
   "id": "ab074ea0-c710-4947-b31c-06d57275cdbd",
   "metadata": {},
   "outputs": [
    {
     "data": {
      "text/plain": [
       "market_value_in_eur\n",
       "1    9135\n",
       "2     190\n",
       "3       5\n",
       "Name: count, dtype: int64"
      ]
     },
     "execution_count": 71,
     "metadata": {},
     "output_type": "execute_result"
    }
   ],
   "source": [
    "merged_2023.groupby(['player_id'])['market_value_in_eur'].size().value_counts()"
   ]
  },
  {
   "cell_type": "code",
   "execution_count": 72,
   "id": "b9c002be-e67b-47dd-9117-648cf02b82ae",
   "metadata": {},
   "outputs": [
    {
     "name": "stdout",
     "output_type": "stream",
     "text": [
      "      player_id first_name last_name  height_in_cm       date  \\\n",
      "861      537852     Dmytro   Kryskiv         180.0 2023-06-21   \n",
      "862      537852     Dmytro   Kryskiv         180.0 2023-07-12   \n",
      "863      537852     Dmytro   Kryskiv         180.0 2023-09-14   \n",
      "3683     404849    Oleksiy  Kashchuk         180.0 2023-05-31   \n",
      "3684     404849    Oleksiy  Kashchuk         180.0 2023-07-12   \n",
      "3685     404849    Oleksiy  Kashchuk         180.0 2023-09-14   \n",
      "3760     530696     Irakli   Azarovi         179.0 2023-06-22   \n",
      "3761     530696     Irakli   Azarovi         179.0 2023-07-12   \n",
      "3762     530696     Irakli   Azarovi         179.0 2023-09-14   \n",
      "3809     623331     Bogdan   Viunnyk         185.0 2023-06-05   \n",
      "3810     623331     Bogdan   Viunnyk         185.0 2023-07-12   \n",
      "3811     623331     Bogdan   Viunnyk         185.0 2023-09-14   \n",
      "6648     761326       Stav    Lemkin         190.0 2023-05-29   \n",
      "6649     761326       Stav    Lemkin         190.0 2023-07-12   \n",
      "6650     761326       Stav    Lemkin         190.0 2023-09-14   \n",
      "\n",
      "      market_value_in_eur  \n",
      "861               1800000  \n",
      "862               2500000  \n",
      "863               3000000  \n",
      "3683              1000000  \n",
      "3684              1800000  \n",
      "3685              2500000  \n",
      "3760              1200000  \n",
      "3761              1500000  \n",
      "3762              2500000  \n",
      "3809               350000  \n",
      "3810               500000  \n",
      "3811               700000  \n",
      "6648               500000  \n",
      "6649               700000  \n",
      "6650              1000000  \n"
     ]
    }
   ],
   "source": [
    "# To find the rows with 3 valuations in the dataset\n",
    "# Grouping by 'player_id' and calculating the size of each group\n",
    "group_sizes = merged_2023.groupby('player_id').size()\n",
    "\n",
    "# Finding 'player_id' groups with a size of 3\n",
    "player_id_with_size_3 = group_sizes[group_sizes == 3].index\n",
    "\n",
    "# Filtering the DataFrame to get rows where 'player_id' has a size of 3\n",
    "rows_with_size_3 = merged_2023[merged_2023['player_id'].isin(player_id_with_size_3)]\n",
    "\n",
    "print(rows_with_size_3)\n"
   ]
  },
  {
   "cell_type": "code",
   "execution_count": 73,
   "id": "2d8b6133-67f4-4e6d-90b9-17f6d299779a",
   "metadata": {
    "scrolled": true
   },
   "outputs": [
    {
     "data": {
      "text/html": [
       "<div>\n",
       "<style scoped>\n",
       "    .dataframe tbody tr th:only-of-type {\n",
       "        vertical-align: middle;\n",
       "    }\n",
       "\n",
       "    .dataframe tbody tr th {\n",
       "        vertical-align: top;\n",
       "    }\n",
       "\n",
       "    .dataframe thead th {\n",
       "        text-align: right;\n",
       "    }\n",
       "</style>\n",
       "<table border=\"1\" class=\"dataframe\">\n",
       "  <thead>\n",
       "    <tr style=\"text-align: right;\">\n",
       "      <th></th>\n",
       "      <th>player_id</th>\n",
       "      <th>first_name</th>\n",
       "      <th>last_name</th>\n",
       "      <th>height_in_cm</th>\n",
       "      <th>date</th>\n",
       "      <th>market_value_in_eur</th>\n",
       "    </tr>\n",
       "  </thead>\n",
       "  <tbody>\n",
       "    <tr>\n",
       "      <th>861</th>\n",
       "      <td>537852</td>\n",
       "      <td>Dmytro</td>\n",
       "      <td>Kryskiv</td>\n",
       "      <td>180.0</td>\n",
       "      <td>2023-06-21</td>\n",
       "      <td>1800000</td>\n",
       "    </tr>\n",
       "    <tr>\n",
       "      <th>862</th>\n",
       "      <td>537852</td>\n",
       "      <td>Dmytro</td>\n",
       "      <td>Kryskiv</td>\n",
       "      <td>180.0</td>\n",
       "      <td>2023-07-12</td>\n",
       "      <td>2500000</td>\n",
       "    </tr>\n",
       "    <tr>\n",
       "      <th>863</th>\n",
       "      <td>537852</td>\n",
       "      <td>Dmytro</td>\n",
       "      <td>Kryskiv</td>\n",
       "      <td>180.0</td>\n",
       "      <td>2023-09-14</td>\n",
       "      <td>3000000</td>\n",
       "    </tr>\n",
       "  </tbody>\n",
       "</table>\n",
       "</div>"
      ],
      "text/plain": [
       "     player_id first_name last_name  height_in_cm       date  \\\n",
       "861     537852     Dmytro   Kryskiv         180.0 2023-06-21   \n",
       "862     537852     Dmytro   Kryskiv         180.0 2023-07-12   \n",
       "863     537852     Dmytro   Kryskiv         180.0 2023-09-14   \n",
       "\n",
       "     market_value_in_eur  \n",
       "861              1800000  \n",
       "862              2500000  \n",
       "863              3000000  "
      ]
     },
     "execution_count": 73,
     "metadata": {},
     "output_type": "execute_result"
    }
   ],
   "source": [
    "# Check to see one duplicated entry.\n",
    "merged_2023[merged_2023['player_id'] == 537852]"
   ]
  },
  {
   "cell_type": "code",
   "execution_count": 74,
   "id": "3bb34942-eef3-4c01-bb5e-346426a1a0c4",
   "metadata": {},
   "outputs": [
    {
     "data": {
      "text/plain": [
       "2433333.3333333335"
      ]
     },
     "execution_count": 74,
     "metadata": {},
     "output_type": "execute_result"
    }
   ],
   "source": [
    "# New valuation should equal to average of these 3.\n",
    "(1_800_000 + 2_500_000 + 3_000_000) / 3"
   ]
  },
  {
   "cell_type": "code",
   "execution_count": 75,
   "id": "2c79b3e4-8fe7-4f00-9efa-0a0a1233dd06",
   "metadata": {
    "tags": []
   },
   "outputs": [],
   "source": [
    "merged_2023['mean_market_value_in_eur'] = merged_2023.groupby(['player_id'])['market_value_in_eur'].transform('mean')"
   ]
  },
  {
   "cell_type": "code",
   "execution_count": 76,
   "id": "6d16e2e7-b262-4cef-b1df-bfa246731912",
   "metadata": {},
   "outputs": [],
   "source": [
    "merged_2023 = merged_2023.drop(columns=['market_value_in_eur','date']).drop_duplicates(subset = ['player_id'])"
   ]
  },
  {
   "cell_type": "code",
   "execution_count": 77,
   "id": "202db7e0-b691-4483-b491-e2bb6eb10bf1",
   "metadata": {
    "tags": []
   },
   "outputs": [
    {
     "data": {
      "text/html": [
       "<div>\n",
       "<style scoped>\n",
       "    .dataframe tbody tr th:only-of-type {\n",
       "        vertical-align: middle;\n",
       "    }\n",
       "\n",
       "    .dataframe tbody tr th {\n",
       "        vertical-align: top;\n",
       "    }\n",
       "\n",
       "    .dataframe thead th {\n",
       "        text-align: right;\n",
       "    }\n",
       "</style>\n",
       "<table border=\"1\" class=\"dataframe\">\n",
       "  <thead>\n",
       "    <tr style=\"text-align: right;\">\n",
       "      <th></th>\n",
       "      <th>player_id</th>\n",
       "      <th>first_name</th>\n",
       "      <th>last_name</th>\n",
       "      <th>height_in_cm</th>\n",
       "      <th>mean_market_value_in_eur</th>\n",
       "    </tr>\n",
       "  </thead>\n",
       "  <tbody>\n",
       "    <tr>\n",
       "      <th>861</th>\n",
       "      <td>537852</td>\n",
       "      <td>Dmytro</td>\n",
       "      <td>Kryskiv</td>\n",
       "      <td>180.0</td>\n",
       "      <td>2.433333e+06</td>\n",
       "    </tr>\n",
       "  </tbody>\n",
       "</table>\n",
       "</div>"
      ],
      "text/plain": [
       "     player_id first_name last_name  height_in_cm  mean_market_value_in_eur\n",
       "861     537852     Dmytro   Kryskiv         180.0              2.433333e+06"
      ]
     },
     "execution_count": 77,
     "metadata": {},
     "output_type": "execute_result"
    }
   ],
   "source": [
    "# Checking to see above player has correct valuation\n",
    "merged_2023[merged_2023['player_id'] == 537852]"
   ]
  },
  {
   "cell_type": "code",
   "execution_count": 78,
   "id": "3e1b52c7-fbe0-4ec3-ae02-4d296100e504",
   "metadata": {},
   "outputs": [
    {
     "data": {
      "text/html": [
       "<div>\n",
       "<style scoped>\n",
       "    .dataframe tbody tr th:only-of-type {\n",
       "        vertical-align: middle;\n",
       "    }\n",
       "\n",
       "    .dataframe tbody tr th {\n",
       "        vertical-align: top;\n",
       "    }\n",
       "\n",
       "    .dataframe thead th {\n",
       "        text-align: right;\n",
       "    }\n",
       "</style>\n",
       "<table border=\"1\" class=\"dataframe\">\n",
       "  <thead>\n",
       "    <tr style=\"text-align: right;\">\n",
       "      <th></th>\n",
       "      <th>player_id</th>\n",
       "      <th>first_name</th>\n",
       "      <th>last_name</th>\n",
       "      <th>height_in_cm</th>\n",
       "      <th>mean_market_value_in_eur</th>\n",
       "    </tr>\n",
       "  </thead>\n",
       "  <tbody>\n",
       "    <tr>\n",
       "      <th>0</th>\n",
       "      <td>18922</td>\n",
       "      <td>Karim</td>\n",
       "      <td>Benzema</td>\n",
       "      <td>185.0</td>\n",
       "      <td>25000000.0</td>\n",
       "    </tr>\n",
       "    <tr>\n",
       "      <th>1</th>\n",
       "      <td>22860</td>\n",
       "      <td>Jesper</td>\n",
       "      <td>Hansen</td>\n",
       "      <td>188.0</td>\n",
       "      <td>200000.0</td>\n",
       "    </tr>\n",
       "    <tr>\n",
       "      <th>2</th>\n",
       "      <td>30321</td>\n",
       "      <td>Óscar</td>\n",
       "      <td>Trejo</td>\n",
       "      <td>180.0</td>\n",
       "      <td>3000000.0</td>\n",
       "    </tr>\n",
       "    <tr>\n",
       "      <th>3</th>\n",
       "      <td>33925</td>\n",
       "      <td>Jessy</td>\n",
       "      <td>Moulin</td>\n",
       "      <td>184.0</td>\n",
       "      <td>200000.0</td>\n",
       "    </tr>\n",
       "    <tr>\n",
       "      <th>4</th>\n",
       "      <td>35099</td>\n",
       "      <td>Steven</td>\n",
       "      <td>Fletcher</td>\n",
       "      <td>185.0</td>\n",
       "      <td>200000.0</td>\n",
       "    </tr>\n",
       "  </tbody>\n",
       "</table>\n",
       "</div>"
      ],
      "text/plain": [
       "   player_id first_name last_name  height_in_cm  mean_market_value_in_eur\n",
       "0      18922      Karim   Benzema         185.0                25000000.0\n",
       "1      22860     Jesper    Hansen         188.0                  200000.0\n",
       "2      30321      Óscar     Trejo         180.0                 3000000.0\n",
       "3      33925      Jessy    Moulin         184.0                  200000.0\n",
       "4      35099     Steven  Fletcher         185.0                  200000.0"
      ]
     },
     "execution_count": 78,
     "metadata": {},
     "output_type": "execute_result"
    }
   ],
   "source": [
    "merged_2023.head()"
   ]
  },
  {
   "cell_type": "code",
   "execution_count": 79,
   "id": "e0e7d7e6-87d1-4d6e-bf1f-d27ea03e2df6",
   "metadata": {},
   "outputs": [
    {
     "name": "stdout",
     "output_type": "stream",
     "text": [
      "<class 'pandas.core.frame.DataFrame'>\n",
      "Index: 9330 entries, 0 to 9529\n",
      "Data columns (total 5 columns):\n",
      " #   Column                    Non-Null Count  Dtype  \n",
      "---  ------                    --------------  -----  \n",
      " 0   player_id                 9330 non-null   int64  \n",
      " 1   first_name                8787 non-null   object \n",
      " 2   last_name                 9330 non-null   object \n",
      " 3   height_in_cm              8941 non-null   float64\n",
      " 4   mean_market_value_in_eur  9330 non-null   float64\n",
      "dtypes: float64(2), int64(1), object(2)\n",
      "memory usage: 437.3+ KB\n"
     ]
    }
   ],
   "source": [
    "merged_2023.info()"
   ]
  },
  {
   "cell_type": "markdown",
   "id": "e3b9dc4c-6d86-4613-aa85-186f608d211e",
   "metadata": {},
   "source": [
    "The new table has correct number of rows and columns. It might be a good idea to convert the height and market value to integer format. However, I will do this when required."
   ]
  },
  {
   "cell_type": "code",
   "execution_count": 80,
   "id": "3c888a36-8082-4be9-b3f3-e5c0ec99ab10",
   "metadata": {
    "scrolled": true
   },
   "outputs": [
    {
     "data": {
      "text/plain": [
       "player_id                     0\n",
       "first_name                  543\n",
       "last_name                     0\n",
       "height_in_cm                389\n",
       "mean_market_value_in_eur      0\n",
       "dtype: int64"
      ]
     },
     "execution_count": 80,
     "metadata": {},
     "output_type": "execute_result"
    }
   ],
   "source": [
    "merged_2023.isna().sum()"
   ]
  },
  {
   "cell_type": "markdown",
   "id": "2ff0feca-209c-4bae-8028-8dcb14d30800",
   "metadata": {},
   "source": [
    "As shown in the 2022 table, the null values here are not concerning. "
   ]
  },
  {
   "cell_type": "markdown",
   "id": "395459db-981d-4c86-bcf7-db09ffafef11",
   "metadata": {},
   "source": [
    "I will proceed to save the datasets into new files. This is so I can proceed to clean further in a new notebook."
   ]
  },
  {
   "cell_type": "code",
   "execution_count": 82,
   "id": "8f294090-1fb0-47d2-bd11-1831006f306b",
   "metadata": {},
   "outputs": [],
   "source": [
    "merged_2022.to_csv('Data/merged_2022_initial_EDA.csv', index = False)\n",
    "merged_2023.to_csv('Data/merged_2023_initial_EDA.csv',index = False)\n",
    "player_stats2022.to_csv('Data/player_stats2022_initial_EDA.csv', index = False)\n",
    "player_stats2023.to_csv('Data/player_stats2023_initial_EDA.csv', index = False)"
   ]
  },
  {
   "cell_type": "markdown",
   "id": "89127414-be03-449e-a48a-796ba790eb3b",
   "metadata": {
    "tags": []
   },
   "source": [
    "## EDA & Visualizations"
   ]
  },
  {
   "cell_type": "markdown",
   "id": "be3df36c-0572-4db3-9b40-21978e5aaa9c",
   "metadata": {},
   "source": [
    "First, let's make a heatmap between the numeric variables for the player_stats tables."
   ]
  },
  {
   "cell_type": "code",
   "execution_count": 83,
   "id": "1f07d367-d185-4354-a45c-b12422550a66",
   "metadata": {
    "tags": []
   },
   "outputs": [],
   "source": [
    "numeric_columns_2023 = player_stats2023.select_dtypes(include = 'number')\n",
    "categorical_columns_2023 = player_stats2023.select_dtypes(include = 'object')"
   ]
  },
  {
   "cell_type": "code",
   "execution_count": 91,
   "id": "dbe384ff-538b-493b-9b74-978756d5c303",
   "metadata": {
    "tags": []
   },
   "outputs": [
    {
     "data": {
      "text/plain": [
       "Born           Age             -0.996484\n",
       "TouDef3rd      TouAtt3rd       -0.568183\n",
       "               RecProg         -0.527624\n",
       "TouDefPen      TouAtt3rd       -0.507457\n",
       "TouDef3rd      TouAttPen       -0.473678\n",
       "               CarMis          -0.432750\n",
       "ShoDist        TouDefPen       -0.427676\n",
       "TouDef3rd      Shots           -0.417587\n",
       "TouDefPen      RecProg         -0.409558\n",
       "CarMis         PasTotPrgDist   -0.409329\n",
       "TouDef3rd      SCA             -0.409252\n",
       "PasTotPrgDist  TouAttPen       -0.404532\n",
       "RecProg        PasTotPrgDist   -0.404086\n",
       "TouAttPen      PasLonAtt       -0.382281\n",
       "TouDefPen      SCA             -0.372840\n",
       "TouDef3rd      ToAtt           -0.371972\n",
       "Clr            TouAtt3rd       -0.368871\n",
       "RecProg        Clr             -0.361918\n",
       "PasLonAtt      CarMis          -0.357906\n",
       "Shots          PasTotPrgDist   -0.355027\n",
       "dtype: float64"
      ]
     },
     "execution_count": 91,
     "metadata": {},
     "output_type": "execute_result"
    }
   ],
   "source": [
    "numeric_columns_2023.corr().unstack().sort_values().drop_duplicates().head(20)"
   ]
  },
  {
   "cell_type": "code",
   "execution_count": 84,
   "id": "86089ec0-7f7f-491c-a7a3-b41c112aa5ec",
   "metadata": {
    "tags": []
   },
   "outputs": [
    {
     "data": {
      "image/png": "[encoded data removed]",
      "text/plain": [
       "<Figure size 1400x1200 with 2 Axes>"
      ]
     },
     "metadata": {},
     "output_type": "display_data"
    }
   ],
   "source": [
    "plt.figure(figsize = (14,12))\n",
    "heat_map = sns.heatmap(numeric_columns_2023.corr(),cmap = 'coolwarm')\n",
    "\n",
    "plt.title('Heatmap of correlation between numeric variables in 2022-2023 season')\n",
    "\n",
    "fig = heat_map.get_figure()\n",
    "fig.savefig(\"heatmap.png\")"
   ]
  },
  {
   "cell_type": "markdown",
   "id": "fd5a923b-f248-4438-9f91-63165635bd3e",
   "metadata": {},
   "source": [
    "Although this heatmap is quite complex considering the number of variables, it actually tells a lot of interesting points. As the player statistics are generally organized in similiar groups, i.e. touches is before touches in final third, which is before touches in defensive third, most of the points close to the diagonal line is likely to be highly correlated. \n",
    "\n",
    "This is shown to be true by the number of red blocks around the the diagonal line.\n",
    "\n",
    "However, we can observe many blue patches in the heatmap, alluding to a negative correlation. Whilst some of the variables may directly be negatively correlated with each other by design, many of the blue patches do not seem related. This may come from different positions requiring different skills, almost specialist like. This may mean being superior in one skillset can lead to a deteriment of another skill set."
   ]
  },
  {
   "cell_type": "code",
   "execution_count": 85,
   "id": "716b10eb-93bd-4e17-971e-ed049a9737bf",
   "metadata": {
    "tags": []
   },
   "outputs": [],
   "source": [
    "numeric_columns_2022 = player_stats2022.select_dtypes(include = 'number')\n",
    "categorical_columns_2022 = player_stats2022.select_dtypes(include = 'object')"
   ]
  },
  {
   "cell_type": "code",
   "execution_count": 86,
   "id": "46e8225b-ea5e-4e5a-8852-37a4b799d727",
   "metadata": {
    "tags": []
   },
   "outputs": [
    {
     "data": {
      "text/plain": [
       "Text(0.5, 1.0, 'Heatmap of correlation between numeric variables in 2021-2022 season')"
      ]
     },
     "execution_count": 86,
     "metadata": {},
     "output_type": "execute_result"
    },
    {
     "data": {
      "image/png": "[encoded data removed]",
      "text/plain": [
       "<Figure size 1400x1200 with 2 Axes>"
      ]
     },
     "metadata": {},
     "output_type": "display_data"
    }
   ],
   "source": [
    "plt.figure(figsize = (14,12))\n",
    "sns.heatmap(numeric_columns_2022.corr(),cmap = 'coolwarm')\n",
    "\n",
    "plt.title('Heatmap of correlation between numeric variables in 2021-2022 season')"
   ]
  },
  {
   "cell_type": "markdown",
   "id": "6ddb6c3c-1836-49dd-be8a-de26d336b2bc",
   "metadata": {},
   "source": [
    "The heatmap for the 2021 - 2022 season is very similiar to the heatmap for the 2022 - 2023 season. This is promising as there is likely a similiar pattern for each year. Large fluctuations between the two years will make the model less effective as it would be more difficult to weight each variable. "
   ]
  },
  {
   "cell_type": "markdown",
   "id": "42170edb-d26d-467a-9eb5-6d91ac2eb7ab",
   "metadata": {},
   "source": [
    "### Visualizing the target variable."
   ]
  },
  {
   "cell_type": "markdown",
   "id": "fb74838b-e1e2-4784-aa64-e089a5715963",
   "metadata": {},
   "source": [
    "Note that this below graph is not a fair representation of the target variable as this is looking at the dataset which has many more players than the top 5 leagues. However, our player statistics (and our whole analysis) is based on players in the top 5 leagues. Many of the players outside of the top 5 leagues will have much lower valuation, hence skewing the distribution to the right."
   ]
  },
  {
   "cell_type": "code",
   "execution_count": 72,
   "id": "1b4a0963-a211-4156-bb06-91ffa3b67995",
   "metadata": {
    "tags": []
   },
   "outputs": [
    {
     "data": {
      "image/png": "[encoded data removed]",
      "text/plain": [
       "<Figure size 1200x600 with 1 Axes>"
      ]
     },
     "metadata": {},
     "output_type": "display_data"
    }
   ],
   "source": [
    "dist = merged_2023['avg_market_value_in_eur'].plot(kind = \"hist\",bins = 100, figsize = (12,6))\n",
    "sns.despine()\n",
    "plt.axvline(merged_2023['avg_market_value_in_eur'].mean(), c = \"coral\", label = \"mean\")\n",
    "plt.axvline(merged_2023['avg_market_value_in_eur'].median(), c = \"coral\", label = \"median\", linestyle = \"--\")\n",
    "plt.xlabel('Market Value in Euros')\n",
    "plt.ylabel('Frequency')\n",
    "plt.legend()\n",
    "plt.title(\"Distribution of Player's Market Value in 2023\")\n",
    "\n",
    "dist_fig = dist.get_figure()\n",
    "dist_fig.savefig(\"DistributionMarketValue.png\")"
   ]
  },
  {
   "cell_type": "code",
   "execution_count": 73,
   "id": "7605f3c9-2af4-4f45-ac86-1d718c593883",
   "metadata": {
    "tags": []
   },
   "outputs": [
    {
     "name": "stdout",
     "output_type": "stream",
     "text": [
      "4032582.5102146063\n",
      "800000.0\n",
      "180000000.0\n"
     ]
    }
   ],
   "source": [
    "print(merged_2023['avg_market_value_in_eur'].mean())\n",
    "print(merged_2023['avg_market_value_in_eur'].median())\n",
    "print(merged_2023['avg_market_value_in_eur'].max())"
   ]
  },
  {
   "cell_type": "markdown",
   "id": "f6a0e621-023e-4083-ae9c-922e7de92549",
   "metadata": {},
   "source": [
    "Most of the player's value is within 5 million Euros, with the mean at around 403,000 Euros and the median at 800,000, and the max at 180 million. This shows that the distribution is very highly skewed to the right. However, as noted above, this is further exaggerated by the presence  of market values of players outside the top 5 leagues."
   ]
  },
  {
   "cell_type": "markdown",
   "id": "0edf2a91-d834-4e2a-9aa6-630ee5fede6b",
   "metadata": {},
   "source": [
    "### Next steps in cleaning"
   ]
  },
  {
   "cell_type": "markdown",
   "id": "9bd3290d-b3ca-4e21-b00b-948e7e063ece",
   "metadata": {
    "tags": []
   },
   "source": [
    "Next steps would be merge the `merged_2023` table with the `player_stats2023` table and to merge the `merged_2022` table with the `player_stats2022`. The data still need to be fully cleaned, including appending the `first_name` and `last_name` together in the `merged_2023/2022` datasets.\n",
    "\n",
    "Additionally, there seems to be some naming errors in the `player_stats2022` and `player_stats2023` tables.\n",
    "\n",
    "Lastly, the additional columns in the player stats datasets will have to be dealt with. Most likely the unique columns will be removed."
   ]
  },
  {
   "cell_type": "code",
   "execution_count": 81,
   "id": "08dd5fc0-8f69-4d32-9230-ddf8222954ba",
   "metadata": {
    "scrolled": true,
    "tags": []
   },
   "outputs": [
    {
     "data": {
      "text/html": [
       "<div>\n",
       "<style scoped>\n",
       "    .dataframe tbody tr th:only-of-type {\n",
       "        vertical-align: middle;\n",
       "    }\n",
       "\n",
       "    .dataframe tbody tr th {\n",
       "        vertical-align: top;\n",
       "    }\n",
       "\n",
       "    .dataframe thead th {\n",
       "        text-align: right;\n",
       "    }\n",
       "</style>\n",
       "<table border=\"1\" class=\"dataframe\">\n",
       "  <thead>\n",
       "    <tr style=\"text-align: right;\">\n",
       "      <th></th>\n",
       "      <th>Rk</th>\n",
       "      <th>Player</th>\n",
       "      <th>Nation</th>\n",
       "      <th>Pos</th>\n",
       "      <th>Squad</th>\n",
       "      <th>Comp</th>\n",
       "      <th>Age</th>\n",
       "      <th>Born</th>\n",
       "      <th>MP</th>\n",
       "      <th>Starts</th>\n",
       "      <th>...</th>\n",
       "      <th>Fls</th>\n",
       "      <th>Fld</th>\n",
       "      <th>Off</th>\n",
       "      <th>PKwon</th>\n",
       "      <th>PKcon</th>\n",
       "      <th>OG</th>\n",
       "      <th>Recov</th>\n",
       "      <th>AerWon</th>\n",
       "      <th>AerLost</th>\n",
       "      <th>AerWon%</th>\n",
       "    </tr>\n",
       "  </thead>\n",
       "  <tbody>\n",
       "    <tr>\n",
       "      <th>95</th>\n",
       "      <td>96</td>\n",
       "      <td>Komnen Andri?</td>\n",
       "      <td>SRB</td>\n",
       "      <td>FW</td>\n",
       "      <td>Clermont Foot</td>\n",
       "      <td>Ligue 1</td>\n",
       "      <td>27</td>\n",
       "      <td>1995</td>\n",
       "      <td>23</td>\n",
       "      <td>15</td>\n",
       "      <td>...</td>\n",
       "      <td>1.01</td>\n",
       "      <td>2.59</td>\n",
       "      <td>0.43</td>\n",
       "      <td>0.07</td>\n",
       "      <td>0.0</td>\n",
       "      <td>0.0</td>\n",
       "      <td>2.52</td>\n",
       "      <td>2.95</td>\n",
       "      <td>3.38</td>\n",
       "      <td>46.6</td>\n",
       "    </tr>\n",
       "    <tr>\n",
       "      <th>120</th>\n",
       "      <td>121</td>\n",
       "      <td>Marko Arnautovi?</td>\n",
       "      <td>AUT</td>\n",
       "      <td>FW</td>\n",
       "      <td>Bologna</td>\n",
       "      <td>Serie A</td>\n",
       "      <td>33</td>\n",
       "      <td>1989</td>\n",
       "      <td>14</td>\n",
       "      <td>14</td>\n",
       "      <td>...</td>\n",
       "      <td>1.36</td>\n",
       "      <td>0.98</td>\n",
       "      <td>0.76</td>\n",
       "      <td>0.00</td>\n",
       "      <td>0.0</td>\n",
       "      <td>0.0</td>\n",
       "      <td>2.05</td>\n",
       "      <td>0.53</td>\n",
       "      <td>0.76</td>\n",
       "      <td>41.2</td>\n",
       "    </tr>\n",
       "    <tr>\n",
       "      <th>158</th>\n",
       "      <td>159</td>\n",
       "      <td>Sr?an Babi?</td>\n",
       "      <td>SRB</td>\n",
       "      <td>DF</td>\n",
       "      <td>Almería</td>\n",
       "      <td>La Liga</td>\n",
       "      <td>26</td>\n",
       "      <td>1996</td>\n",
       "      <td>18</td>\n",
       "      <td>17</td>\n",
       "      <td>...</td>\n",
       "      <td>0.80</td>\n",
       "      <td>0.11</td>\n",
       "      <td>0.00</td>\n",
       "      <td>0.00</td>\n",
       "      <td>0.0</td>\n",
       "      <td>0.0</td>\n",
       "      <td>4.29</td>\n",
       "      <td>1.71</td>\n",
       "      <td>1.14</td>\n",
       "      <td>60.0</td>\n",
       "    </tr>\n",
       "    <tr>\n",
       "      <th>209</th>\n",
       "      <td>210</td>\n",
       "      <td>Toma Baši?</td>\n",
       "      <td>CRO</td>\n",
       "      <td>MF</td>\n",
       "      <td>Lazio</td>\n",
       "      <td>Serie A</td>\n",
       "      <td>26</td>\n",
       "      <td>1996</td>\n",
       "      <td>14</td>\n",
       "      <td>4</td>\n",
       "      <td>...</td>\n",
       "      <td>1.95</td>\n",
       "      <td>2.20</td>\n",
       "      <td>0.00</td>\n",
       "      <td>0.00</td>\n",
       "      <td>0.0</td>\n",
       "      <td>0.0</td>\n",
       "      <td>4.88</td>\n",
       "      <td>1.95</td>\n",
       "      <td>1.46</td>\n",
       "      <td>57.1</td>\n",
       "    </tr>\n",
       "    <tr>\n",
       "      <th>232</th>\n",
       "      <td>233</td>\n",
       "      <td>Asmir Begovi?</td>\n",
       "      <td>BIH</td>\n",
       "      <td>GK</td>\n",
       "      <td>Everton</td>\n",
       "      <td>Premier League</td>\n",
       "      <td>35</td>\n",
       "      <td>1987</td>\n",
       "      <td>1</td>\n",
       "      <td>1</td>\n",
       "      <td>...</td>\n",
       "      <td>0.00</td>\n",
       "      <td>0.00</td>\n",
       "      <td>0.00</td>\n",
       "      <td>0.00</td>\n",
       "      <td>0.0</td>\n",
       "      <td>0.0</td>\n",
       "      <td>0.00</td>\n",
       "      <td>1.00</td>\n",
       "      <td>0.00</td>\n",
       "      <td>100.0</td>\n",
       "    </tr>\n",
       "    <tr>\n",
       "      <th>...</th>\n",
       "      <td>...</td>\n",
       "      <td>...</td>\n",
       "      <td>...</td>\n",
       "      <td>...</td>\n",
       "      <td>...</td>\n",
       "      <td>...</td>\n",
       "      <td>...</td>\n",
       "      <td>...</td>\n",
       "      <td>...</td>\n",
       "      <td>...</td>\n",
       "      <td>...</td>\n",
       "      <td>...</td>\n",
       "      <td>...</td>\n",
       "      <td>...</td>\n",
       "      <td>...</td>\n",
       "      <td>...</td>\n",
       "      <td>...</td>\n",
       "      <td>...</td>\n",
       "      <td>...</td>\n",
       "      <td>...</td>\n",
       "      <td>...</td>\n",
       "    </tr>\n",
       "    <tr>\n",
       "      <th>2671</th>\n",
       "      <td>2672</td>\n",
       "      <td>Piotr Zieli?ski</td>\n",
       "      <td>POL</td>\n",
       "      <td>MF</td>\n",
       "      <td>Napoli</td>\n",
       "      <td>Serie A</td>\n",
       "      <td>28</td>\n",
       "      <td>1994</td>\n",
       "      <td>21</td>\n",
       "      <td>16</td>\n",
       "      <td>...</td>\n",
       "      <td>0.55</td>\n",
       "      <td>1.23</td>\n",
       "      <td>0.14</td>\n",
       "      <td>0.00</td>\n",
       "      <td>0.0</td>\n",
       "      <td>0.0</td>\n",
       "      <td>4.04</td>\n",
       "      <td>0.14</td>\n",
       "      <td>0.55</td>\n",
       "      <td>20.0</td>\n",
       "    </tr>\n",
       "    <tr>\n",
       "      <th>2684</th>\n",
       "      <td>2685</td>\n",
       "      <td>Szymon ?urkowski</td>\n",
       "      <td>POL</td>\n",
       "      <td>MF</td>\n",
       "      <td>Fiorentina</td>\n",
       "      <td>Serie A</td>\n",
       "      <td>25</td>\n",
       "      <td>1997</td>\n",
       "      <td>2</td>\n",
       "      <td>0</td>\n",
       "      <td>...</td>\n",
       "      <td>2.50</td>\n",
       "      <td>0.00</td>\n",
       "      <td>0.00</td>\n",
       "      <td>0.00</td>\n",
       "      <td>0.0</td>\n",
       "      <td>0.0</td>\n",
       "      <td>5.00</td>\n",
       "      <td>2.50</td>\n",
       "      <td>2.50</td>\n",
       "      <td>50.0</td>\n",
       "    </tr>\n",
       "    <tr>\n",
       "      <th>2685</th>\n",
       "      <td>2686</td>\n",
       "      <td>Szymon ?urkowski</td>\n",
       "      <td>POL</td>\n",
       "      <td>MF</td>\n",
       "      <td>Spezia</td>\n",
       "      <td>Serie A</td>\n",
       "      <td>25</td>\n",
       "      <td>1997</td>\n",
       "      <td>1</td>\n",
       "      <td>0</td>\n",
       "      <td>...</td>\n",
       "      <td>0.00</td>\n",
       "      <td>0.00</td>\n",
       "      <td>0.00</td>\n",
       "      <td>0.00</td>\n",
       "      <td>0.0</td>\n",
       "      <td>0.0</td>\n",
       "      <td>30.00</td>\n",
       "      <td>0.00</td>\n",
       "      <td>0.00</td>\n",
       "      <td>0.0</td>\n",
       "    </tr>\n",
       "    <tr>\n",
       "      <th>2687</th>\n",
       "      <td>2688</td>\n",
       "      <td>Milan ?uri?</td>\n",
       "      <td>BIH</td>\n",
       "      <td>FW</td>\n",
       "      <td>Hellas Verona</td>\n",
       "      <td>Serie A</td>\n",
       "      <td>32</td>\n",
       "      <td>1990</td>\n",
       "      <td>16</td>\n",
       "      <td>7</td>\n",
       "      <td>...</td>\n",
       "      <td>1.92</td>\n",
       "      <td>1.79</td>\n",
       "      <td>0.38</td>\n",
       "      <td>0.00</td>\n",
       "      <td>0.0</td>\n",
       "      <td>0.0</td>\n",
       "      <td>2.05</td>\n",
       "      <td>14.50</td>\n",
       "      <td>3.59</td>\n",
       "      <td>80.1</td>\n",
       "    </tr>\n",
       "    <tr>\n",
       "      <th>2688</th>\n",
       "      <td>2689</td>\n",
       "      <td>Filip ?uri?i?</td>\n",
       "      <td>SRB</td>\n",
       "      <td>MFFW</td>\n",
       "      <td>Sampdoria</td>\n",
       "      <td>Serie A</td>\n",
       "      <td>31</td>\n",
       "      <td>1992</td>\n",
       "      <td>20</td>\n",
       "      <td>17</td>\n",
       "      <td>...</td>\n",
       "      <td>1.50</td>\n",
       "      <td>2.24</td>\n",
       "      <td>0.00</td>\n",
       "      <td>0.00</td>\n",
       "      <td>0.0</td>\n",
       "      <td>0.0</td>\n",
       "      <td>4.97</td>\n",
       "      <td>0.54</td>\n",
       "      <td>0.88</td>\n",
       "      <td>38.1</td>\n",
       "    </tr>\n",
       "  </tbody>\n",
       "</table>\n",
       "<p>105 rows × 120 columns</p>\n",
       "</div>"
      ],
      "text/plain": [
       "        Rk            Player Nation   Pos          Squad            Comp  Age  \\\n",
       "95      96     Komnen Andri?    SRB    FW  Clermont Foot         Ligue 1   27   \n",
       "120    121  Marko Arnautovi?    AUT    FW        Bologna         Serie A   33   \n",
       "158    159       Sr?an Babi?    SRB    DF        Almería         La Liga   26   \n",
       "209    210        Toma Baši?    CRO    MF          Lazio         Serie A   26   \n",
       "232    233     Asmir Begovi?    BIH    GK        Everton  Premier League   35   \n",
       "...    ...               ...    ...   ...            ...             ...  ...   \n",
       "2671  2672   Piotr Zieli?ski    POL    MF         Napoli         Serie A   28   \n",
       "2684  2685  Szymon ?urkowski    POL    MF     Fiorentina         Serie A   25   \n",
       "2685  2686  Szymon ?urkowski    POL    MF         Spezia         Serie A   25   \n",
       "2687  2688       Milan ?uri?    BIH    FW  Hellas Verona         Serie A   32   \n",
       "2688  2689     Filip ?uri?i?    SRB  MFFW      Sampdoria         Serie A   31   \n",
       "\n",
       "      Born  MP  Starts  ...   Fls   Fld   Off  PKwon  PKcon   OG  Recov  \\\n",
       "95    1995  23      15  ...  1.01  2.59  0.43   0.07    0.0  0.0   2.52   \n",
       "120   1989  14      14  ...  1.36  0.98  0.76   0.00    0.0  0.0   2.05   \n",
       "158   1996  18      17  ...  0.80  0.11  0.00   0.00    0.0  0.0   4.29   \n",
       "209   1996  14       4  ...  1.95  2.20  0.00   0.00    0.0  0.0   4.88   \n",
       "232   1987   1       1  ...  0.00  0.00  0.00   0.00    0.0  0.0   0.00   \n",
       "...    ...  ..     ...  ...   ...   ...   ...    ...    ...  ...    ...   \n",
       "2671  1994  21      16  ...  0.55  1.23  0.14   0.00    0.0  0.0   4.04   \n",
       "2684  1997   2       0  ...  2.50  0.00  0.00   0.00    0.0  0.0   5.00   \n",
       "2685  1997   1       0  ...  0.00  0.00  0.00   0.00    0.0  0.0  30.00   \n",
       "2687  1990  16       7  ...  1.92  1.79  0.38   0.00    0.0  0.0   2.05   \n",
       "2688  1992  20      17  ...  1.50  2.24  0.00   0.00    0.0  0.0   4.97   \n",
       "\n",
       "      AerWon  AerLost  AerWon%  \n",
       "95      2.95     3.38     46.6  \n",
       "120     0.53     0.76     41.2  \n",
       "158     1.71     1.14     60.0  \n",
       "209     1.95     1.46     57.1  \n",
       "232     1.00     0.00    100.0  \n",
       "...      ...      ...      ...  \n",
       "2671    0.14     0.55     20.0  \n",
       "2684    2.50     2.50     50.0  \n",
       "2685    0.00     0.00      0.0  \n",
       "2687   14.50     3.59     80.1  \n",
       "2688    0.54     0.88     38.1  \n",
       "\n",
       "[105 rows x 120 columns]"
      ]
     },
     "execution_count": 81,
     "metadata": {},
     "output_type": "execute_result"
    }
   ],
   "source": [
    "# Some names are not properly displaying - may need to manually fix these names\n",
    "player_stats2023[player_stats2023['Player'].str.contains('\\?')]"
   ]
  }
 ],
 "metadata": {
  "kernelspec": {
   "display_name": "Python 3 (ipykernel)",
   "language": "python",
   "name": "python3"
  },
  "language_info": {
   "codemirror_mode": {
    "name": "ipython",
    "version": 3
   },
   "file_extension": ".py",
   "mimetype": "text/x-python",
   "name": "python",
   "nbconvert_exporter": "python",
   "pygments_lexer": "ipython3",
   "version": "3.11.5"
  }
 },
 "nbformat": 4,
 "nbformat_minor": 5
}
