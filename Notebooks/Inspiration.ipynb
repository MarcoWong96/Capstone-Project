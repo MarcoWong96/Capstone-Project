{
 "cells": [
  {
   "cell_type": "markdown",
   "id": "ff868df6-fc80-443e-8bed-831ac09305cc",
   "metadata": {
    "tags": []
   },
   "source": [
    "# Capstone Project - Sprint 0\n",
    "#### Marco Wong \n",
    "##### November 11th, 2023"
   ]
  },
  {
   "cell_type": "markdown",
   "id": "6f47962f-18e6-4cc2-9535-d9888d05224d",
   "metadata": {},
   "source": [
    "## Introduction"
   ]
  },
  {
   "cell_type": "markdown",
   "id": "cf8c44ce-39f7-484a-95c4-a1c18a7e4005",
   "metadata": {},
   "source": [
    "As a person heavily interested in the world of sports, exercise and fitness, I've always wanted to take a deep dive into analyzing a specific element of a sport. I've always asked so many questions but seemed to be only given answers relying on intuition, perception or very rudimentary analysis, but never anything more. 'Does the server in Table Tennis have an advantage?', 'To minimize running time, should I run at a certain heart rate?', 'What are the most important attributes a soccer winger should have?'. Various personel from coaches to friends to teammates would always have an opinion, but none would be reinforced by data.\n",
    "\n",
    "Since my favorite sport is Football (my default for British Football, football == soccer), I would love to investigate into football valuations and transfer fees for players."
   ]
  },
  {
   "cell_type": "markdown",
   "id": "ca37712b-d920-4992-85f6-7ed5978e51b1",
   "metadata": {},
   "source": [
    "#### Problem Area and the User"
   ]
  },
  {
   "cell_type": "markdown",
   "id": "4d5a5e44-9fee-43d5-a059-8fcada1952f4",
   "metadata": {},
   "source": [
    "This project would be designed to predict market price for a player, given we have certain statistics from the players past. However, I do anticipate the complexity of project given that there are so many different factors. The largest factor would be positions: different positions will likely prefer different attributes, for example, the value of a striker would likely have low correlation with tackles made, which would likely not be true for defenders. Potentially, the scope may need to be narrowed to certain positions and certain factors, but further investigation is required.\n",
    "\n",
    "Ultimately, this prediction would be useful for transfer specialists, scouts and players for football clubs. For transfer specialists, they will be able to deem fair market value for certain players. Both for clubs purchasing players and selling players, this model will allow clubs to have a data driven prediction on how much a certain player is valued. Secondly, I foresee scouts being able to use this tool to find 'bargains' on the market. This model will only predict the financial valuation of players, but will not neccesarily describe the players level. Thus, scouts can use this discrepancy to find players with better 'value'. Inspired by the movie 'Moneyball' and by certain football development clubs such as Brighton, RB Leipzig or Borussia Dortmund, many clubs have succeeded in purchasing players at a low cost, but proved to be useful."
   ]
  },
  {
   "cell_type": "markdown",
   "id": "68a5ac1b-f289-435d-9ba7-79f4ce083446",
   "metadata": {},
   "source": [
    "#### The Big Idea"
   ]
  },
  {
   "cell_type": "markdown",
   "id": "0673cb96-2003-4dc2-ab1b-3ce35543cdfb",
   "metadata": {},
   "source": [
    "Machine learning can prove extremely useful in this project. I foresee using next point forecast or numerical prediction, which will be machine learning techniques that will indicate player valuation given their previous match statistics. \n",
    "\n",
    "Looking at the few other projects that predicts player valuation, these projects have primarily used datasets that were based on third party attributes, rather than real life technical data. One notable project used data on attributes from the game Fifa to determine valuation, whilst another project used Fantasy Premier League valuations to look into the relationship between player popularity and market value."
   ]
  },
  {
   "cell_type": "markdown",
   "id": "275ba97a-0b12-48f1-84e6-f92b29f6d556",
   "metadata": {},
   "source": [
    "#### The Impact "
   ]
  },
  {
   "cell_type": "markdown",
   "id": "9f3177c2-ad64-4a6c-a629-1fe0b6df150d",
   "metadata": {
    "tags": []
   },
   "source": [
    "For the day to day person or your average supporter, this will be more of an interest piece than providing tangible, effective day to day change. It would be a decent method of gauging a players value and whether to be outraged by how much your team overpaid for a player or surprised by the great deal your team secured (as a Manchester United fan, I would say it is almost exclusively the former).\n",
    "\n",
    "This model will help clubs provide a fair valuation on their own players, as well as players they are interested in. This should help prevent them from overpaying for players, potentially saving them large sums of money. This model will also provide scouts the ability to see market valuation for players they are interested in and help create a model that takes in the valuation and the potential efficacy of a player. This can help develop a value based approach that many successful clubs are starting to adopt."
   ]
  },
  {
   "cell_type": "markdown",
   "id": "f1e889a8-37c9-45bf-9eb1-03bbfad744d0",
   "metadata": {
    "tags": []
   },
   "source": [
    "#### The Data"
   ]
  },
  {
   "cell_type": "markdown",
   "id": "6783da2e-5a96-453f-b987-28d1e1de94e6",
   "metadata": {},
   "source": [
    "After looking through multiple sites containing different datasets, my first impression is that historical data is only available for basic metrics, whilst more full technical datasets are more recent. Results such as goals scored, assists, appearances can be found for seasons dated over 10 years ago. However, I believe this data is too rudimentary for my analysis. I would be more inclined to use more recent datasets that have much more detailed information about player statistics. \n",
    "\n",
    "My current idea revolves around combining 3 datasets: **2021 - 2022 football player stats, 2022 - 2023 football player stats** and **extracting transfer market pricing** (Note: this is not currently a dataset but a code showing how to obtain the transfer fees for players). The first two datasets use the same columns and detail each players profile, as well as numerous technical stats. Profile information includes many categorical variables such as Nation (players nationality), Squad (the team the player plays on) and Comp (competition the team partakes). Numerical variables include age, minutes played, passess attempted, successful dribbles. Most of these statistics are given in stats per 90 minutes. \n",
    "\n",
    "Currently, I anticipate difficulty in extracting transfer market pricing, and appending it to the other two datasets. As the dataset is not there yet, I would need to go through a third party code to scrape information from websites to create a dataset. I would then need to append that to player statistics dataset, which would likely create many null values as there will be many players that did not make a transfer in the last two years.\n",
    "\n"
   ]
  },
  {
   "cell_type": "markdown",
   "id": "eeff3cf6-88ef-4e8b-95e2-432c247d9961",
   "metadata": {
    "tags": []
   },
   "source": [
    "#### The Alternative"
   ]
  },
  {
   "cell_type": "markdown",
   "id": "0c3b65a0-f2cb-4bc9-9c2c-16be3df00226",
   "metadata": {},
   "source": [
    "If this project is unviable, I would look to investigate predicting stock pricing, given information on pre market values and potentially other metrics. With peers that are currently learning that trade, it would be interesting to include the data science aspect into his work. Partnered with domain knowledge, machine learning can be an extremely useful tool to help predict stock pricing. This project should be easier to find datasets for, as many investing platforms already provide historical data on stocks."
   ]
  },
  {
   "cell_type": "markdown",
   "id": "a2d149ca-b9d1-41f6-84e1-6c7261e42316",
   "metadata": {},
   "source": [
    "#### Conclusion"
   ]
  },
  {
   "cell_type": "markdown",
   "id": "869a95a0-fdbe-4375-b9d8-2dc52ff96053",
   "metadata": {},
   "source": [
    "Whilst this project immensely excites me, I do foresee roadblocks. As discussed before, more investigation on the code to extract transfer fees will be needed. Without this data, this project would not have the required data to do the analysis. I also foresee the issue that there are too many factors to oversee. As the dataset has 142 columns, there are so many factors that could affect pricing. As I learn more techniques, I would need to check how many factors I can reasonably measure."
   ]
  },
  {
   "cell_type": "markdown",
   "id": "3d265bb2-89f0-489e-bd27-37e5ee8c6244",
   "metadata": {},
   "source": [
    "#### Appendix\n",
    "**Relevant datasets:**\n",
    "\n",
    "- 2021-2022 Football Player Stats: https://www.kaggle.com/datasets/vivovinco/20212022-football-player-stats\n",
    "\n",
    "- 2022-2023 Football Player Stats: https://www.kaggle.com/datasets/vivovinco/20222023-football-player-stats\n",
    "\n",
    "- European Soccer Database: https://www.kaggle.com/datasets/hugomathien/soccer\n",
    "\n",
    "- Extracting transfer market pricing: https://data.world/dcereijo/player-scores / https://github.com/JaseZiv/worldfootballR/blob/HEAD/vignettes/extract-transfermarkt-data.Rmd\n",
    "\n",
    "\n",
    "\n",
    "**Similar projects on football valuations:**\n",
    "\n",
    "- Linear Regression to predict Market Value: https://www.kaggle.com/code/mauryashubham/linear-regression-to-predict-market-value\n",
    "\n",
    "- Predicting football players’ market value using Machine Learning: https://yulasozen.medium.com/predicting-football-players-market-value-using-machine-learning-b28be298e91e#:~:text=The%20application%20of%20linear%20regression,and%20contribute%20to%20accurate%20forecasts.\n",
    "\n",
    "**Useful Websites:**\n",
    "- https://www.jokecamp.com/blog/guide-to-football-and-soccer-data-and-apis/\n",
    "\n",
    "- https://datahub.io/collections/football\n",
    "\n",
    "\n",
    "\n",
    "Note: This document is created on JupyterLab"
   ]
  }
 ],
 "metadata": {
  "kernelspec": {
   "display_name": "Python 3 (ipykernel)",
   "language": "python",
   "name": "python3"
  },
  "language_info": {
   "codemirror_mode": {
    "name": "ipython",
    "version": 3
   },
   "file_extension": ".py",
   "mimetype": "text/x-python",
   "name": "python",
   "nbconvert_exporter": "python",
   "pygments_lexer": "ipython3",
   "version": "3.11.5"
  }
 },
 "nbformat": 4,
 "nbformat_minor": 5
}
